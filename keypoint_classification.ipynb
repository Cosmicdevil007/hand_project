{
 "cells": [
  {
   "cell_type": "code",
   "execution_count": 186,
   "metadata": {
    "execution": {
     "iopub.execute_input": "2025-05-04T08:03:13.896613Z",
     "iopub.status.busy": "2025-05-04T08:03:13.896613Z",
     "iopub.status.idle": "2025-05-04T08:03:22.191932Z",
     "shell.execute_reply": "2025-05-04T08:03:22.190899Z"
    }
   },
   "outputs": [],
   "source": [
    "import csv\n",
    "import os\n",
    "import numpy as np\n",
    "import tensorflow as tf\n",
    "from sklearn.model_selection import train_test_split\n",
    "\n",
    "RANDOM_SEED = 42"
   ]
  },
  {
   "cell_type": "markdown",
   "metadata": {},
   "source": [
    "# Specify each path"
   ]
  },
  {
   "cell_type": "code",
   "execution_count": 187,
   "metadata": {
    "execution": {
     "iopub.execute_input": "2025-05-04T08:03:22.195770Z",
     "iopub.status.busy": "2025-05-04T08:03:22.195770Z",
     "iopub.status.idle": "2025-05-04T08:03:22.200022Z",
     "shell.execute_reply": "2025-05-04T08:03:22.200022Z"
    }
   },
   "outputs": [],
   "source": [
    "dataset = 'model/keypoint_classifier/keypoint.csv'\n",
    "model_save_path = 'model/keypoint_classifier/keypoint_classifier.keras'"
   ]
  },
  {
   "cell_type": "markdown",
   "metadata": {},
   "source": [
    "# Setting the number of categories"
   ]
  },
  {
   "cell_type": "code",
   "execution_count": 188,
   "metadata": {
    "execution": {
     "iopub.execute_input": "2025-05-04T08:03:22.203683Z",
     "iopub.status.busy": "2025-05-04T08:03:22.203683Z",
     "iopub.status.idle": "2025-05-04T08:03:22.208272Z",
     "shell.execute_reply": "2025-05-04T08:03:22.208272Z"
    }
   },
   "outputs": [],
   "source": [
    "NUM_CLASSES = 9"
   ]
  },
  {
   "cell_type": "markdown",
   "metadata": {},
   "source": [
    "# Load learning data"
   ]
  },
  {
   "cell_type": "code",
   "execution_count": 189,
   "metadata": {
    "execution": {
     "iopub.execute_input": "2025-05-04T08:03:22.211258Z",
     "iopub.status.busy": "2025-05-04T08:03:22.211258Z",
     "iopub.status.idle": "2025-05-04T08:03:22.285858Z",
     "shell.execute_reply": "2025-05-04T08:03:22.285858Z"
    }
   },
   "outputs": [],
   "source": [
    "X_dataset = np.loadtxt(dataset, delimiter=',', dtype='float32', usecols=list(range(1, (21 * 2) + 1)))"
   ]
  },
  {
   "cell_type": "code",
   "execution_count": 190,
   "metadata": {
    "execution": {
     "iopub.execute_input": "2025-05-04T08:03:22.288560Z",
     "iopub.status.busy": "2025-05-04T08:03:22.288560Z",
     "iopub.status.idle": "2025-05-04T08:03:22.315730Z",
     "shell.execute_reply": "2025-05-04T08:03:22.314469Z"
    }
   },
   "outputs": [],
   "source": [
    "y_dataset = np.loadtxt(dataset, delimiter=',', dtype='int32', usecols=(0))"
   ]
  },
  {
   "cell_type": "code",
   "execution_count": 191,
   "metadata": {
    "execution": {
     "iopub.execute_input": "2025-05-04T08:03:22.318248Z",
     "iopub.status.busy": "2025-05-04T08:03:22.318248Z",
     "iopub.status.idle": "2025-05-04T08:03:22.325352Z",
     "shell.execute_reply": "2025-05-04T08:03:22.325352Z"
    }
   },
   "outputs": [],
   "source": [
    "X_train, X_test, y_train, y_test = train_test_split(X_dataset, y_dataset, train_size=0.75, random_state=RANDOM_SEED)"
   ]
  },
  {
   "cell_type": "markdown",
   "metadata": {},
   "source": [
    "# model building"
   ]
  },
  {
   "cell_type": "code",
   "execution_count": 192,
   "metadata": {
    "execution": {
     "iopub.execute_input": "2025-05-04T08:03:22.329072Z",
     "iopub.status.busy": "2025-05-04T08:03:22.329072Z",
     "iopub.status.idle": "2025-05-04T08:03:22.455774Z",
     "shell.execute_reply": "2025-05-04T08:03:22.455774Z"
    }
   },
   "outputs": [],
   "source": [
    "model = tf.keras.models.Sequential([\n",
    "    tf.keras.layers.Input((21 * 2, )),\n",
    "    tf.keras.layers.Dropout(0.2),\n",
    "    tf.keras.layers.Dense(20, activation='relu'),\n",
    "    tf.keras.layers.Dropout(0.4),\n",
    "    tf.keras.layers.Dense(10, activation='relu'),\n",
    "    tf.keras.layers.Dense(NUM_CLASSES, activation='softmax')\n",
    "])"
   ]
  },
  {
   "cell_type": "code",
   "execution_count": 193,
   "metadata": {
    "execution": {
     "iopub.execute_input": "2025-05-04T08:03:22.459681Z",
     "iopub.status.busy": "2025-05-04T08:03:22.457557Z",
     "iopub.status.idle": "2025-05-04T08:03:22.480014Z",
     "shell.execute_reply": "2025-05-04T08:03:22.480014Z"
    }
   },
   "outputs": [
    {
     "name": "stdout",
     "output_type": "stream",
     "text": [
      "Model: \"sequential_22\"\n",
      "_________________________________________________________________\n",
      " Layer (type)                Output Shape              Param #   \n",
      "=================================================================\n",
      " dropout_44 (Dropout)        (None, 42)                0         \n",
      "                                                                 \n",
      " dense_66 (Dense)            (None, 20)                860       \n",
      "                                                                 \n",
      " dropout_45 (Dropout)        (None, 20)                0         \n",
      "                                                                 \n",
      " dense_67 (Dense)            (None, 10)                210       \n",
      "                                                                 \n",
      " dense_68 (Dense)            (None, 9)                 99        \n",
      "                                                                 \n",
      "=================================================================\n",
      "Total params: 1,169\n",
      "Trainable params: 1,169\n",
      "Non-trainable params: 0\n",
      "_________________________________________________________________\n"
     ]
    }
   ],
   "source": [
    "model.summary()  # tf.keras.utils.plot_model(model, show_shapes=True)"
   ]
  },
  {
   "cell_type": "code",
   "execution_count": 194,
   "metadata": {
    "execution": {
     "iopub.execute_input": "2025-05-04T08:03:22.514195Z",
     "iopub.status.busy": "2025-05-04T08:03:22.511828Z",
     "iopub.status.idle": "2025-05-04T08:03:22.518161Z",
     "shell.execute_reply": "2025-05-04T08:03:22.518161Z"
    }
   },
   "outputs": [],
   "source": [
    "# Model Checkpoint Callbacks\n",
    "cp_callback = tf.keras.callbacks.ModelCheckpoint(\n",
    "    model_save_path, verbose=1, save_weights_only=False)\n",
    "# Early Abort Callback\n",
    "es_callback = tf.keras.callbacks.EarlyStopping(patience=20, verbose=1)"
   ]
  },
  {
   "cell_type": "code",
   "execution_count": 195,
   "metadata": {
    "execution": {
     "iopub.execute_input": "2025-05-04T08:03:22.521083Z",
     "iopub.status.busy": "2025-05-04T08:03:22.521083Z",
     "iopub.status.idle": "2025-05-04T08:03:22.537193Z",
     "shell.execute_reply": "2025-05-04T08:03:22.536686Z"
    }
   },
   "outputs": [],
   "source": [
    "# model compilation\n",
    "model.compile(\n",
    "    optimizer='adam',\n",
    "    loss='sparse_categorical_crossentropy',\n",
    "    metrics=['accuracy']\n",
    ")"
   ]
  },
  {
   "cell_type": "markdown",
   "metadata": {},
   "source": [
    "# model training"
   ]
  },
  {
   "cell_type": "code",
   "execution_count": 196,
   "metadata": {
    "execution": {
     "iopub.execute_input": "2025-05-04T08:03:22.540564Z",
     "iopub.status.busy": "2025-05-04T08:03:22.540564Z",
     "iopub.status.idle": "2025-05-04T08:04:15.291187Z",
     "shell.execute_reply": "2025-05-04T08:04:15.290174Z"
    },
    "scrolled": true
   },
   "outputs": [
    {
     "name": "stdout",
     "output_type": "stream",
     "text": [
      "Epoch 1/1000\n",
      "68/73 [==========================>...] - ETA: 0s - loss: 2.1862 - accuracy: 0.1372\n",
      "Epoch 1: saving model to model/keypoint_classifier\\keypoint_classifier.keras\n",
      "73/73 [==============================] - 1s 5ms/step - loss: 2.1835 - accuracy: 0.1388 - val_loss: 2.1121 - val_accuracy: 0.2681\n",
      "Epoch 2/1000\n",
      "67/73 [==========================>...] - ETA: 0s - loss: 2.0944 - accuracy: 0.2034\n",
      "Epoch 2: saving model to model/keypoint_classifier\\keypoint_classifier.keras\n",
      "73/73 [==============================] - 0s 4ms/step - loss: 2.0917 - accuracy: 0.2045 - val_loss: 2.0083 - val_accuracy: 0.3579\n",
      "Epoch 3/1000\n",
      "61/73 [========================>.....] - ETA: 0s - loss: 2.0195 - accuracy: 0.2439\n",
      "Epoch 3: saving model to model/keypoint_classifier\\keypoint_classifier.keras\n",
      "73/73 [==============================] - 0s 4ms/step - loss: 2.0138 - accuracy: 0.2456 - val_loss: 1.8752 - val_accuracy: 0.4263\n",
      "Epoch 4/1000\n",
      "58/73 [======================>.......] - ETA: 0s - loss: 1.9390 - accuracy: 0.2860\n",
      "Epoch 4: saving model to model/keypoint_classifier\\keypoint_classifier.keras\n",
      "73/73 [==============================] - 0s 4ms/step - loss: 1.9320 - accuracy: 0.2865 - val_loss: 1.7299 - val_accuracy: 0.4522\n",
      "Epoch 5/1000\n",
      "61/73 [========================>.....] - ETA: 0s - loss: 1.8516 - accuracy: 0.3085\n",
      "Epoch 5: saving model to model/keypoint_classifier\\keypoint_classifier.keras\n",
      "73/73 [==============================] - 0s 4ms/step - loss: 1.8459 - accuracy: 0.3112 - val_loss: 1.5953 - val_accuracy: 0.5005\n",
      "Epoch 6/1000\n",
      "61/73 [========================>.....] - ETA: 0s - loss: 1.7869 - accuracy: 0.3445\n",
      "Epoch 6: saving model to model/keypoint_classifier\\keypoint_classifier.keras\n",
      "73/73 [==============================] - 0s 5ms/step - loss: 1.7789 - accuracy: 0.3471 - val_loss: 1.4877 - val_accuracy: 0.5809\n",
      "Epoch 7/1000\n",
      "65/73 [=========================>....] - ETA: 0s - loss: 1.7343 - accuracy: 0.3559\n",
      "Epoch 7: saving model to model/keypoint_classifier\\keypoint_classifier.keras\n",
      "73/73 [==============================] - 0s 6ms/step - loss: 1.7320 - accuracy: 0.3573 - val_loss: 1.4142 - val_accuracy: 0.6269\n",
      "Epoch 8/1000\n",
      "65/73 [=========================>....] - ETA: 0s - loss: 1.6958 - accuracy: 0.3774\n",
      "Epoch 8: saving model to model/keypoint_classifier\\keypoint_classifier.keras\n",
      "73/73 [==============================] - 0s 5ms/step - loss: 1.6917 - accuracy: 0.3794 - val_loss: 1.3592 - val_accuracy: 0.6713\n",
      "Epoch 9/1000\n",
      "62/73 [========================>.....] - ETA: 0s - loss: 1.6570 - accuracy: 0.3935\n",
      "Epoch 9: saving model to model/keypoint_classifier\\keypoint_classifier.keras\n",
      "73/73 [==============================] - 0s 4ms/step - loss: 1.6519 - accuracy: 0.3916 - val_loss: 1.3143 - val_accuracy: 0.6755\n",
      "Epoch 10/1000\n",
      "60/73 [=======================>......] - ETA: 0s - loss: 1.6358 - accuracy: 0.3984\n",
      "Epoch 10: saving model to model/keypoint_classifier\\keypoint_classifier.keras\n",
      "73/73 [==============================] - 0s 4ms/step - loss: 1.6274 - accuracy: 0.4042 - val_loss: 1.2891 - val_accuracy: 0.6736\n",
      "Epoch 11/1000\n",
      "61/73 [========================>.....] - ETA: 0s - loss: 1.5919 - accuracy: 0.4232\n",
      "Epoch 11: saving model to model/keypoint_classifier\\keypoint_classifier.keras\n",
      "73/73 [==============================] - 0s 4ms/step - loss: 1.5879 - accuracy: 0.4254 - val_loss: 1.2290 - val_accuracy: 0.7530\n",
      "Epoch 12/1000\n",
      "61/73 [========================>.....] - ETA: 0s - loss: 1.5670 - accuracy: 0.4344\n",
      "Epoch 12: saving model to model/keypoint_classifier\\keypoint_classifier.keras\n",
      "73/73 [==============================] - 0s 4ms/step - loss: 1.5643 - accuracy: 0.4332 - val_loss: 1.2061 - val_accuracy: 0.7536\n",
      "Epoch 13/1000\n",
      "61/73 [========================>.....] - ETA: 0s - loss: 1.5536 - accuracy: 0.4417\n",
      "Epoch 13: saving model to model/keypoint_classifier\\keypoint_classifier.keras\n",
      "73/73 [==============================] - 0s 4ms/step - loss: 1.5475 - accuracy: 0.4451 - val_loss: 1.1717 - val_accuracy: 0.7530\n",
      "Epoch 14/1000\n",
      "61/73 [========================>.....] - ETA: 0s - loss: 1.5072 - accuracy: 0.4558\n",
      "Epoch 14: saving model to model/keypoint_classifier\\keypoint_classifier.keras\n",
      "73/73 [==============================] - 0s 4ms/step - loss: 1.5081 - accuracy: 0.4559 - val_loss: 1.1234 - val_accuracy: 0.7763\n",
      "Epoch 15/1000\n",
      "61/73 [========================>.....] - ETA: 0s - loss: 1.4918 - accuracy: 0.4652\n",
      "Epoch 15: saving model to model/keypoint_classifier\\keypoint_classifier.keras\n",
      "73/73 [==============================] - 0s 4ms/step - loss: 1.4813 - accuracy: 0.4719 - val_loss: 1.0999 - val_accuracy: 0.7737\n",
      "Epoch 16/1000\n",
      "70/73 [===========================>..] - ETA: 0s - loss: 1.4552 - accuracy: 0.4734\n",
      "Epoch 16: saving model to model/keypoint_classifier\\keypoint_classifier.keras\n",
      "73/73 [==============================] - 0s 5ms/step - loss: 1.4548 - accuracy: 0.4729 - val_loss: 1.0581 - val_accuracy: 0.8162\n",
      "Epoch 17/1000\n",
      "64/73 [=========================>....] - ETA: 0s - loss: 1.4452 - accuracy: 0.4862\n",
      "Epoch 17: saving model to model/keypoint_classifier\\keypoint_classifier.keras\n",
      "73/73 [==============================] - 0s 4ms/step - loss: 1.4424 - accuracy: 0.4880 - val_loss: 1.0404 - val_accuracy: 0.8172\n",
      "Epoch 18/1000\n",
      "65/73 [=========================>....] - ETA: 0s - loss: 1.4097 - accuracy: 0.4976\n",
      "Epoch 18: saving model to model/keypoint_classifier\\keypoint_classifier.keras\n",
      "73/73 [==============================] - 0s 4ms/step - loss: 1.4142 - accuracy: 0.4965 - val_loss: 1.0198 - val_accuracy: 0.7945\n",
      "Epoch 19/1000\n",
      "65/73 [=========================>....] - ETA: 0s - loss: 1.3861 - accuracy: 0.5007\n",
      "Epoch 19: saving model to model/keypoint_classifier\\keypoint_classifier.keras\n",
      "73/73 [==============================] - 0s 4ms/step - loss: 1.3843 - accuracy: 0.5042 - val_loss: 0.9724 - val_accuracy: 0.8331\n",
      "Epoch 20/1000\n",
      "61/73 [========================>.....] - ETA: 0s - loss: 1.3718 - accuracy: 0.5024\n",
      "Epoch 20: saving model to model/keypoint_classifier\\keypoint_classifier.keras\n",
      "73/73 [==============================] - 0s 4ms/step - loss: 1.3682 - accuracy: 0.5061 - val_loss: 0.9584 - val_accuracy: 0.8159\n",
      "Epoch 21/1000\n",
      "65/73 [=========================>....] - ETA: 0s - loss: 1.3560 - accuracy: 0.5117\n",
      "Epoch 21: saving model to model/keypoint_classifier\\keypoint_classifier.keras\n",
      "73/73 [==============================] - 0s 4ms/step - loss: 1.3534 - accuracy: 0.5128 - val_loss: 0.9115 - val_accuracy: 0.8499\n",
      "Epoch 22/1000\n",
      "65/73 [=========================>....] - ETA: 0s - loss: 1.3171 - accuracy: 0.5349\n",
      "Epoch 22: saving model to model/keypoint_classifier\\keypoint_classifier.keras\n",
      "73/73 [==============================] - 0s 4ms/step - loss: 1.3228 - accuracy: 0.5328 - val_loss: 0.8961 - val_accuracy: 0.8441\n",
      "Epoch 23/1000\n",
      "64/73 [=========================>....] - ETA: 0s - loss: 1.3235 - accuracy: 0.5288\n",
      "Epoch 23: saving model to model/keypoint_classifier\\keypoint_classifier.keras\n",
      "73/73 [==============================] - 0s 4ms/step - loss: 1.3225 - accuracy: 0.5305 - val_loss: 0.8764 - val_accuracy: 0.8522\n",
      "Epoch 24/1000\n",
      "62/73 [========================>.....] - ETA: 0s - loss: 1.2999 - accuracy: 0.5358\n",
      "Epoch 24: saving model to model/keypoint_classifier\\keypoint_classifier.keras\n",
      "73/73 [==============================] - 0s 4ms/step - loss: 1.3030 - accuracy: 0.5381 - val_loss: 0.8591 - val_accuracy: 0.8626\n",
      "Epoch 25/1000\n",
      "64/73 [=========================>....] - ETA: 0s - loss: 1.2786 - accuracy: 0.5380\n",
      "Epoch 25: saving model to model/keypoint_classifier\\keypoint_classifier.keras\n",
      "73/73 [==============================] - 0s 4ms/step - loss: 1.2804 - accuracy: 0.5373 - val_loss: 0.8411 - val_accuracy: 0.8697\n",
      "Epoch 26/1000\n",
      "66/73 [==========================>...] - ETA: 0s - loss: 1.2641 - accuracy: 0.5574\n",
      "Epoch 26: saving model to model/keypoint_classifier\\keypoint_classifier.keras\n",
      "73/73 [==============================] - 0s 4ms/step - loss: 1.2625 - accuracy: 0.5570 - val_loss: 0.8113 - val_accuracy: 0.8746\n",
      "Epoch 27/1000\n",
      "65/73 [=========================>....] - ETA: 0s - loss: 1.2396 - accuracy: 0.5593\n",
      "Epoch 27: saving model to model/keypoint_classifier\\keypoint_classifier.keras\n",
      "73/73 [==============================] - 0s 4ms/step - loss: 1.2360 - accuracy: 0.5620 - val_loss: 0.7854 - val_accuracy: 0.8762\n",
      "Epoch 28/1000\n",
      "64/73 [=========================>....] - ETA: 0s - loss: 1.2200 - accuracy: 0.5696\n",
      "Epoch 28: saving model to model/keypoint_classifier\\keypoint_classifier.keras\n",
      "73/73 [==============================] - 0s 4ms/step - loss: 1.2252 - accuracy: 0.5665 - val_loss: 0.7959 - val_accuracy: 0.8690\n",
      "Epoch 29/1000\n",
      "62/73 [========================>.....] - ETA: 0s - loss: 1.2289 - accuracy: 0.5651\n",
      "Epoch 29: saving model to model/keypoint_classifier\\keypoint_classifier.keras\n",
      "73/73 [==============================] - 0s 4ms/step - loss: 1.2281 - accuracy: 0.5670 - val_loss: 0.7617 - val_accuracy: 0.8985\n",
      "Epoch 30/1000\n",
      "62/73 [========================>.....] - ETA: 0s - loss: 1.1994 - accuracy: 0.5840\n",
      "Epoch 30: saving model to model/keypoint_classifier\\keypoint_classifier.keras\n",
      "73/73 [==============================] - 0s 4ms/step - loss: 1.2011 - accuracy: 0.5837 - val_loss: 0.7787 - val_accuracy: 0.8830\n",
      "Epoch 31/1000\n",
      "65/73 [=========================>....] - ETA: 0s - loss: 1.1948 - accuracy: 0.5825\n",
      "Epoch 31: saving model to model/keypoint_classifier\\keypoint_classifier.keras\n",
      "73/73 [==============================] - 0s 4ms/step - loss: 1.1899 - accuracy: 0.5835 - val_loss: 0.7666 - val_accuracy: 0.8752\n",
      "Epoch 32/1000\n",
      "72/73 [============================>.] - ETA: 0s - loss: 1.1818 - accuracy: 0.5880\n",
      "Epoch 32: saving model to model/keypoint_classifier\\keypoint_classifier.keras\n",
      "73/73 [==============================] - 0s 7ms/step - loss: 1.1813 - accuracy: 0.5881 - val_loss: 0.7390 - val_accuracy: 0.8937\n",
      "Epoch 33/1000\n",
      "62/73 [========================>.....] - ETA: 0s - loss: 1.1778 - accuracy: 0.5857\n",
      "Epoch 33: saving model to model/keypoint_classifier\\keypoint_classifier.keras\n",
      "73/73 [==============================] - 0s 4ms/step - loss: 1.1717 - accuracy: 0.5884 - val_loss: 0.7229 - val_accuracy: 0.8934\n",
      "Epoch 34/1000\n",
      "64/73 [=========================>....] - ETA: 0s - loss: 1.1560 - accuracy: 0.5957\n",
      "Epoch 34: saving model to model/keypoint_classifier\\keypoint_classifier.keras\n",
      "73/73 [==============================] - 0s 5ms/step - loss: 1.1569 - accuracy: 0.5968 - val_loss: 0.7313 - val_accuracy: 0.8963\n",
      "Epoch 35/1000\n",
      "63/73 [========================>.....] - ETA: 0s - loss: 1.1431 - accuracy: 0.5997\n",
      "Epoch 35: saving model to model/keypoint_classifier\\keypoint_classifier.keras\n",
      "73/73 [==============================] - 0s 7ms/step - loss: 1.1423 - accuracy: 0.5987 - val_loss: 0.7077 - val_accuracy: 0.8979\n",
      "Epoch 36/1000\n",
      "58/73 [======================>.......] - ETA: 0s - loss: 1.1568 - accuracy: 0.6009\n",
      "Epoch 36: saving model to model/keypoint_classifier\\keypoint_classifier.keras\n",
      "73/73 [==============================] - 0s 5ms/step - loss: 1.1607 - accuracy: 0.5981 - val_loss: 0.7247 - val_accuracy: 0.8830\n",
      "Epoch 37/1000\n",
      "61/73 [========================>.....] - ETA: 0s - loss: 1.1392 - accuracy: 0.6046\n",
      "Epoch 37: saving model to model/keypoint_classifier\\keypoint_classifier.keras\n",
      "73/73 [==============================] - 0s 4ms/step - loss: 1.1435 - accuracy: 0.6006 - val_loss: 0.6930 - val_accuracy: 0.8921\n",
      "Epoch 38/1000\n",
      "68/73 [==========================>...] - ETA: 0s - loss: 1.1308 - accuracy: 0.6025\n",
      "Epoch 38: saving model to model/keypoint_classifier\\keypoint_classifier.keras\n",
      "73/73 [==============================] - 0s 4ms/step - loss: 1.1346 - accuracy: 0.6015 - val_loss: 0.7232 - val_accuracy: 0.8778\n",
      "Epoch 39/1000\n",
      "66/73 [==========================>...] - ETA: 0s - loss: 1.1102 - accuracy: 0.6063\n",
      "Epoch 39: saving model to model/keypoint_classifier\\keypoint_classifier.keras\n",
      "73/73 [==============================] - 0s 4ms/step - loss: 1.1092 - accuracy: 0.6098 - val_loss: 0.6710 - val_accuracy: 0.9083\n",
      "Epoch 40/1000\n",
      "65/73 [=========================>....] - ETA: 0s - loss: 1.1098 - accuracy: 0.6156\n",
      "Epoch 40: saving model to model/keypoint_classifier\\keypoint_classifier.keras\n",
      "73/73 [==============================] - 0s 4ms/step - loss: 1.1126 - accuracy: 0.6132 - val_loss: 0.6922 - val_accuracy: 0.8817\n",
      "Epoch 41/1000\n",
      "65/73 [=========================>....] - ETA: 0s - loss: 1.1194 - accuracy: 0.6054\n",
      "Epoch 41: saving model to model/keypoint_classifier\\keypoint_classifier.keras\n",
      "73/73 [==============================] - 0s 4ms/step - loss: 1.1189 - accuracy: 0.6071 - val_loss: 0.7021 - val_accuracy: 0.8830\n",
      "Epoch 42/1000\n",
      "68/73 [==========================>...] - ETA: 0s - loss: 1.0992 - accuracy: 0.6118\n",
      "Epoch 42: saving model to model/keypoint_classifier\\keypoint_classifier.keras\n",
      "73/73 [==============================] - 0s 4ms/step - loss: 1.1020 - accuracy: 0.6107 - val_loss: 0.6593 - val_accuracy: 0.9002\n",
      "Epoch 43/1000\n",
      "68/73 [==========================>...] - ETA: 0s - loss: 1.0952 - accuracy: 0.6124\n",
      "Epoch 43: saving model to model/keypoint_classifier\\keypoint_classifier.keras\n",
      "73/73 [==============================] - 0s 4ms/step - loss: 1.0971 - accuracy: 0.6131 - val_loss: 0.6899 - val_accuracy: 0.8823\n",
      "Epoch 44/1000\n",
      "67/73 [==========================>...] - ETA: 0s - loss: 1.0930 - accuracy: 0.6151\n",
      "Epoch 44: saving model to model/keypoint_classifier\\keypoint_classifier.keras\n",
      "73/73 [==============================] - 0s 4ms/step - loss: 1.0930 - accuracy: 0.6145 - val_loss: 0.6731 - val_accuracy: 0.8723\n",
      "Epoch 45/1000\n",
      "67/73 [==========================>...] - ETA: 0s - loss: 1.0918 - accuracy: 0.6151\n",
      "Epoch 45: saving model to model/keypoint_classifier\\keypoint_classifier.keras\n",
      "73/73 [==============================] - 0s 4ms/step - loss: 1.0902 - accuracy: 0.6150 - val_loss: 0.6496 - val_accuracy: 0.8875\n",
      "Epoch 46/1000\n",
      "69/73 [===========================>..] - ETA: 0s - loss: 1.0791 - accuracy: 0.6218\n",
      "Epoch 46: saving model to model/keypoint_classifier\\keypoint_classifier.keras\n",
      "73/73 [==============================] - 0s 4ms/step - loss: 1.0847 - accuracy: 0.6199 - val_loss: 0.6559 - val_accuracy: 0.8878\n",
      "Epoch 47/1000\n",
      "67/73 [==========================>...] - ETA: 0s - loss: 1.0667 - accuracy: 0.6278\n",
      "Epoch 47: saving model to model/keypoint_classifier\\keypoint_classifier.keras\n",
      "73/73 [==============================] - 0s 4ms/step - loss: 1.0669 - accuracy: 0.6286 - val_loss: 0.6447 - val_accuracy: 0.8992\n",
      "Epoch 48/1000\n",
      "68/73 [==========================>...] - ETA: 0s - loss: 1.0548 - accuracy: 0.6294\n",
      "Epoch 48: saving model to model/keypoint_classifier\\keypoint_classifier.keras\n",
      "73/73 [==============================] - 0s 4ms/step - loss: 1.0523 - accuracy: 0.6313 - val_loss: 0.6323 - val_accuracy: 0.9002\n",
      "Epoch 49/1000\n",
      "64/73 [=========================>....] - ETA: 0s - loss: 1.0601 - accuracy: 0.6328\n",
      "Epoch 49: saving model to model/keypoint_classifier\\keypoint_classifier.keras\n",
      "73/73 [==============================] - 0s 4ms/step - loss: 1.0624 - accuracy: 0.6309 - val_loss: 0.6831 - val_accuracy: 0.8658\n",
      "Epoch 50/1000\n",
      "69/73 [===========================>..] - ETA: 0s - loss: 1.0645 - accuracy: 0.6245\n",
      "Epoch 50: saving model to model/keypoint_classifier\\keypoint_classifier.keras\n",
      "73/73 [==============================] - 0s 4ms/step - loss: 1.0636 - accuracy: 0.6239 - val_loss: 0.6693 - val_accuracy: 0.8875\n",
      "Epoch 51/1000\n",
      "68/73 [==========================>...] - ETA: 0s - loss: 1.0505 - accuracy: 0.6374\n",
      "Epoch 51: saving model to model/keypoint_classifier\\keypoint_classifier.keras\n",
      "73/73 [==============================] - 0s 4ms/step - loss: 1.0508 - accuracy: 0.6370 - val_loss: 0.6671 - val_accuracy: 0.8788\n",
      "Epoch 52/1000\n",
      "67/73 [==========================>...] - ETA: 0s - loss: 1.0539 - accuracy: 0.6318\n",
      "Epoch 52: saving model to model/keypoint_classifier\\keypoint_classifier.keras\n",
      "73/73 [==============================] - 0s 4ms/step - loss: 1.0562 - accuracy: 0.6319 - val_loss: 0.6459 - val_accuracy: 0.8908\n",
      "Epoch 53/1000\n",
      "69/73 [===========================>..] - ETA: 0s - loss: 1.0702 - accuracy: 0.6287\n",
      "Epoch 53: saving model to model/keypoint_classifier\\keypoint_classifier.keras\n",
      "73/73 [==============================] - 0s 4ms/step - loss: 1.0685 - accuracy: 0.6292 - val_loss: 0.6721 - val_accuracy: 0.8817\n",
      "Epoch 54/1000\n",
      "68/73 [==========================>...] - ETA: 0s - loss: 1.0415 - accuracy: 0.6338\n",
      "Epoch 54: saving model to model/keypoint_classifier\\keypoint_classifier.keras\n",
      "73/73 [==============================] - 0s 4ms/step - loss: 1.0371 - accuracy: 0.6357 - val_loss: 0.6418 - val_accuracy: 0.8914\n",
      "Epoch 55/1000\n",
      "68/73 [==========================>...] - ETA: 0s - loss: 1.0421 - accuracy: 0.6334\n",
      "Epoch 55: saving model to model/keypoint_classifier\\keypoint_classifier.keras\n",
      "73/73 [==============================] - 0s 4ms/step - loss: 1.0405 - accuracy: 0.6343 - val_loss: 0.6049 - val_accuracy: 0.9073\n",
      "Epoch 56/1000\n",
      "68/73 [==========================>...] - ETA: 0s - loss: 1.0362 - accuracy: 0.6389\n",
      "Epoch 56: saving model to model/keypoint_classifier\\keypoint_classifier.keras\n",
      "73/73 [==============================] - 0s 4ms/step - loss: 1.0389 - accuracy: 0.6379 - val_loss: 0.6611 - val_accuracy: 0.8690\n",
      "Epoch 57/1000\n",
      "69/73 [===========================>..] - ETA: 0s - loss: 1.0336 - accuracy: 0.6384\n",
      "Epoch 57: saving model to model/keypoint_classifier\\keypoint_classifier.keras\n",
      "73/73 [==============================] - 0s 4ms/step - loss: 1.0304 - accuracy: 0.6387 - val_loss: 0.6268 - val_accuracy: 0.8862\n",
      "Epoch 58/1000\n",
      "69/73 [===========================>..] - ETA: 0s - loss: 1.0368 - accuracy: 0.6395\n",
      "Epoch 58: saving model to model/keypoint_classifier\\keypoint_classifier.keras\n",
      "73/73 [==============================] - 0s 4ms/step - loss: 1.0393 - accuracy: 0.6391 - val_loss: 0.6139 - val_accuracy: 0.9005\n",
      "Epoch 59/1000\n",
      "69/73 [===========================>..] - ETA: 0s - loss: 1.0290 - accuracy: 0.6462\n",
      "Epoch 59: saving model to model/keypoint_classifier\\keypoint_classifier.keras\n",
      "73/73 [==============================] - 0s 4ms/step - loss: 1.0291 - accuracy: 0.6455 - val_loss: 0.6659 - val_accuracy: 0.8684\n",
      "Epoch 60/1000\n",
      "67/73 [==========================>...] - ETA: 0s - loss: 1.0323 - accuracy: 0.6376\n",
      "Epoch 60: saving model to model/keypoint_classifier\\keypoint_classifier.keras\n",
      "73/73 [==============================] - 0s 4ms/step - loss: 1.0334 - accuracy: 0.6374 - val_loss: 0.6464 - val_accuracy: 0.8736\n",
      "Epoch 61/1000\n",
      "69/73 [===========================>..] - ETA: 0s - loss: 1.0151 - accuracy: 0.6467\n",
      "Epoch 61: saving model to model/keypoint_classifier\\keypoint_classifier.keras\n",
      "73/73 [==============================] - 0s 4ms/step - loss: 1.0187 - accuracy: 0.6451 - val_loss: 0.6385 - val_accuracy: 0.8807\n",
      "Epoch 62/1000\n",
      "66/73 [==========================>...] - ETA: 0s - loss: 1.0266 - accuracy: 0.6396\n",
      "Epoch 62: saving model to model/keypoint_classifier\\keypoint_classifier.keras\n",
      "73/73 [==============================] - 0s 4ms/step - loss: 1.0284 - accuracy: 0.6392 - val_loss: 0.6700 - val_accuracy: 0.8726\n",
      "Epoch 63/1000\n",
      "68/73 [==========================>...] - ETA: 0s - loss: 1.0246 - accuracy: 0.6437\n",
      "Epoch 63: saving model to model/keypoint_classifier\\keypoint_classifier.keras\n",
      "73/73 [==============================] - 0s 4ms/step - loss: 1.0269 - accuracy: 0.6410 - val_loss: 0.6247 - val_accuracy: 0.8979\n",
      "Epoch 64/1000\n",
      "68/73 [==========================>...] - ETA: 0s - loss: 1.0323 - accuracy: 0.6413\n",
      "Epoch 64: saving model to model/keypoint_classifier\\keypoint_classifier.keras\n",
      "73/73 [==============================] - 0s 4ms/step - loss: 1.0332 - accuracy: 0.6399 - val_loss: 0.6530 - val_accuracy: 0.8765\n",
      "Epoch 65/1000\n",
      "66/73 [==========================>...] - ETA: 0s - loss: 1.0156 - accuracy: 0.6441\n",
      "Epoch 65: saving model to model/keypoint_classifier\\keypoint_classifier.keras\n",
      "73/73 [==============================] - 0s 4ms/step - loss: 1.0221 - accuracy: 0.6438 - val_loss: 0.6051 - val_accuracy: 0.8947\n",
      "Epoch 66/1000\n",
      "65/73 [=========================>....] - ETA: 0s - loss: 1.0045 - accuracy: 0.6519\n",
      "Epoch 66: saving model to model/keypoint_classifier\\keypoint_classifier.keras\n",
      "73/73 [==============================] - 0s 4ms/step - loss: 1.0045 - accuracy: 0.6511 - val_loss: 0.6644 - val_accuracy: 0.8561\n",
      "Epoch 67/1000\n",
      "68/73 [==========================>...] - ETA: 0s - loss: 1.0049 - accuracy: 0.6522\n",
      "Epoch 67: saving model to model/keypoint_classifier\\keypoint_classifier.keras\n",
      "73/73 [==============================] - 0s 4ms/step - loss: 1.0033 - accuracy: 0.6537 - val_loss: 0.6407 - val_accuracy: 0.8755\n",
      "Epoch 68/1000\n",
      "68/73 [==========================>...] - ETA: 0s - loss: 1.0291 - accuracy: 0.6463\n",
      "Epoch 68: saving model to model/keypoint_classifier\\keypoint_classifier.keras\n",
      "73/73 [==============================] - 0s 4ms/step - loss: 1.0288 - accuracy: 0.6462 - val_loss: 0.6422 - val_accuracy: 0.8726\n",
      "Epoch 69/1000\n",
      "62/73 [========================>.....] - ETA: 0s - loss: 1.0175 - accuracy: 0.6499\n",
      "Epoch 69: saving model to model/keypoint_classifier\\keypoint_classifier.keras\n",
      "73/73 [==============================] - 0s 4ms/step - loss: 1.0130 - accuracy: 0.6538 - val_loss: 0.6658 - val_accuracy: 0.8616\n",
      "Epoch 70/1000\n",
      "65/73 [=========================>....] - ETA: 0s - loss: 1.0158 - accuracy: 0.6457\n",
      "Epoch 70: saving model to model/keypoint_classifier\\keypoint_classifier.keras\n",
      "73/73 [==============================] - 0s 4ms/step - loss: 1.0152 - accuracy: 0.6448 - val_loss: 0.6329 - val_accuracy: 0.8797\n",
      "Epoch 71/1000\n",
      "64/73 [=========================>....] - ETA: 0s - loss: 0.9937 - accuracy: 0.6572\n",
      "Epoch 71: saving model to model/keypoint_classifier\\keypoint_classifier.keras\n",
      "73/73 [==============================] - 0s 4ms/step - loss: 0.9956 - accuracy: 0.6569 - val_loss: 0.6237 - val_accuracy: 0.8794\n",
      "Epoch 72/1000\n",
      "71/73 [============================>.] - ETA: 0s - loss: 0.9963 - accuracy: 0.6511\n",
      "Epoch 72: saving model to model/keypoint_classifier\\keypoint_classifier.keras\n",
      "73/73 [==============================] - 0s 6ms/step - loss: 0.9974 - accuracy: 0.6510 - val_loss: 0.6152 - val_accuracy: 0.8856\n",
      "Epoch 73/1000\n",
      "65/73 [=========================>....] - ETA: 0s - loss: 0.9980 - accuracy: 0.6569\n",
      "Epoch 73: saving model to model/keypoint_classifier\\keypoint_classifier.keras\n",
      "73/73 [==============================] - 0s 4ms/step - loss: 0.9998 - accuracy: 0.6543 - val_loss: 0.6106 - val_accuracy: 0.8849\n",
      "Epoch 74/1000\n",
      "63/73 [========================>.....] - ETA: 0s - loss: 1.0047 - accuracy: 0.6517\n",
      "Epoch 74: saving model to model/keypoint_classifier\\keypoint_classifier.keras\n",
      "73/73 [==============================] - 0s 4ms/step - loss: 0.9959 - accuracy: 0.6560 - val_loss: 0.6257 - val_accuracy: 0.8791\n",
      "Epoch 75/1000\n",
      "63/73 [========================>.....] - ETA: 0s - loss: 0.9825 - accuracy: 0.6606\n",
      "Epoch 75: saving model to model/keypoint_classifier\\keypoint_classifier.keras\n",
      "73/73 [==============================] - 0s 7ms/step - loss: 0.9878 - accuracy: 0.6581 - val_loss: 0.6146 - val_accuracy: 0.8742\n",
      "Epoch 75: early stopping\n"
     ]
    },
    {
     "data": {
      "text/plain": [
       "<keras.callbacks.History at 0x29fa47d8580>"
      ]
     },
     "execution_count": 196,
     "metadata": {},
     "output_type": "execute_result"
    }
   ],
   "source": [
    "# Update number of classes\n",
    "NUM_CLASSES = 9  # Update to the correct number of classes\n",
    "\n",
    "# Rebuild model with correct number of output classes\n",
    "model = tf.keras.models.Sequential([\n",
    "    tf.keras.layers.Input((21 * 2, )),\n",
    "    tf.keras.layers.Dropout(0.2),\n",
    "    tf.keras.layers.Dense(20, activation='relu'),\n",
    "    tf.keras.layers.Dropout(0.4),\n",
    "    tf.keras.layers.Dense(10, activation='relu'),\n",
    "    tf.keras.layers.Dense(NUM_CLASSES, activation='softmax')\n",
    "])\n",
    "\n",
    "# Compile model\n",
    "model.compile(\n",
    "    optimizer='adam',\n",
    "    loss='sparse_categorical_crossentropy',\n",
    "    metrics=['accuracy']\n",
    ")\n",
    "\n",
    "# Train model\n",
    "model.fit(\n",
    "    X_train,\n",
    "    y_train,\n",
    "    epochs=1000,\n",
    "    batch_size=128,\n",
    "    validation_data=(X_test, y_test),\n",
    "    callbacks=[cp_callback, es_callback]\n",
    ")"
   ]
  },
  {
   "cell_type": "code",
   "execution_count": 197,
   "metadata": {},
   "outputs": [],
   "source": [
    "# Loading a saved model\n",
    "model = tf.keras.models.load_model(model_save_path)"
   ]
  },
  {
   "cell_type": "code",
   "execution_count": 198,
   "metadata": {
    "execution": {
     "iopub.execute_input": "2025-05-04T08:04:15.294442Z",
     "iopub.status.busy": "2025-05-04T08:04:15.294442Z",
     "iopub.status.idle": "2025-05-04T08:04:15.407041Z",
     "shell.execute_reply": "2025-05-04T08:04:15.407041Z"
    }
   },
   "outputs": [
    {
     "name": "stdout",
     "output_type": "stream",
     "text": [
      "25/25 [==============================] - 0s 2ms/step - loss: 0.6146 - accuracy: 0.8742\n"
     ]
    }
   ],
   "source": [
    "# model evaluation\n",
    "val_loss, val_acc = model.evaluate(X_test, y_test, batch_size=128)"
   ]
  },
  {
   "cell_type": "code",
   "execution_count": 199,
   "metadata": {},
   "outputs": [
    {
     "name": "stdout",
     "output_type": "stream",
     "text": [
      "97/97 [==============================] - 0s 1ms/step\n"
     ]
    },
    {
     "data": {
      "image/png": "[encoded data removed]",
      "text/plain": [
       "<Figure size 1200x800 with 2 Axes>"
      ]
     },
     "metadata": {},
     "output_type": "display_data"
    },
    {
     "name": "stdout",
     "output_type": "stream",
     "text": [
      "\n",
      "Classification Report:\n",
      "              precision    recall  f1-score   support\n",
      "\n",
      "        Five       0.99      0.70      0.82       392\n",
      "         One       0.88      0.99      0.93       402\n",
      "         Two       0.92      0.92      0.92       365\n",
      "       Three       0.88      0.99      0.93       409\n",
      "        Four       0.72      0.74      0.73       358\n",
      "         Six       0.98      0.80      0.88       371\n",
      "       Seven       0.91      0.99      0.95       352\n",
      "       Eight       0.78      0.95      0.86       260\n",
      "        Nine       0.80      0.73      0.76       176\n",
      "\n",
      "    accuracy                           0.87      3085\n",
      "   macro avg       0.87      0.87      0.86      3085\n",
      "weighted avg       0.88      0.87      0.87      3085\n",
      "\n"
     ]
    }
   ],
   "source": [
    "# Import additional required libraries\n",
    "import seaborn as sns\n",
    "from sklearn.metrics import confusion_matrix, classification_report\n",
    "import matplotlib.pyplot as plt\n",
    "\n",
    "def visualize_results(model, X_test, y_test):\n",
    "    # Make predictions\n",
    "    y_pred = model.predict(X_test)\n",
    "    y_pred_classes = np.argmax(y_pred, axis=1)\n",
    "    \n",
    "    # Load labels\n",
    "    labels = []\n",
    "    with open('model/keypoint_classifier/keypoint_classifier_label.csv', \n",
    "              encoding='utf-8-sig') as f:\n",
    "        for row in csv.reader(f):\n",
    "            labels.append(row[0])\n",
    "    \n",
    "    # Use all class indices for consistent labeling\n",
    "    class_indices = list(range(len(labels)))\n",
    "    \n",
    "    # Create confusion matrix\n",
    "    cm = confusion_matrix(y_test, y_pred_classes, labels=class_indices)\n",
    "    \n",
    "    # Plot confusion matrix\n",
    "    plt.figure(figsize=(12, 8))\n",
    "    sns.heatmap(cm, \n",
    "                annot=True, \n",
    "                fmt='d', \n",
    "                cmap='Blues',\n",
    "                xticklabels=labels,\n",
    "                yticklabels=labels)\n",
    "    \n",
    "    plt.title('Hand Gesture Recognition - Confusion Matrix')\n",
    "    plt.xlabel('Predicted Label')\n",
    "    plt.ylabel('True Label')\n",
    "    plt.show()\n",
    "    \n",
    "    # Print classification report\n",
    "    print(\"\\nClassification Report:\")\n",
    "    print(classification_report(y_test, y_pred_classes, labels=class_indices, target_names=labels))\n",
    "\n",
    "# Generate and display confusion matrix\n",
    "visualize_results(model, X_test, y_test)"
   ]
  },
  {
   "cell_type": "code",
   "execution_count": 200,
   "metadata": {},
   "outputs": [
    {
     "name": "stdout",
     "output_type": "stream",
     "text": [
      "97/97 [==============================] - 0s 2ms/step\n"
     ]
    }
   ],
   "source": [
    "# Save visualization results\n",
    "def save_results(model, X_test, y_test, save_path='model/evaluation/'):\n",
    "    import os\n",
    "    \n",
    "    # Create directory if it doesn't exist\n",
    "    os.makedirs(save_path, exist_ok=True)\n",
    "    \n",
    "    # Generate predictions\n",
    "    y_pred = model.predict(X_test)\n",
    "    y_pred_classes = np.argmax(y_pred, axis=1)\n",
    "    \n",
    "    # Load labels\n",
    "    labels = []\n",
    "    with open('model/keypoint_classifier/keypoint_classifier_label.csv', \n",
    "              encoding='utf-8-sig') as f:\n",
    "        for row in csv.reader(f):\n",
    "            labels.append(row[0])\n",
    "    \n",
    "    # Use all class indices for consistent labeling\n",
    "    class_indices = list(range(len(labels)))\n",
    "    \n",
    "    # Create and save confusion matrix\n",
    "    cm = confusion_matrix(y_test, y_pred_classes, labels=class_indices)\n",
    "    plt.figure(figsize=(12, 8))\n",
    "    sns.heatmap(cm, \n",
    "                annot=True, \n",
    "                fmt='d', \n",
    "                cmap='Blues',\n",
    "                xticklabels=labels,\n",
    "                yticklabels=labels)\n",
    "    \n",
    "    plt.title('Hand Gesture Recognition - Confusion Matrix')\n",
    "    plt.xlabel('Predicted Label')\n",
    "    plt.ylabel('True Label')\n",
    "    plt.savefig(os.path.join(save_path, 'confusion_matrix.png'), \n",
    "                bbox_inches='tight', \n",
    "                dpi=300)\n",
    "    plt.close()\n",
    "    \n",
    "    # Save classification report\n",
    "    with open(os.path.join(save_path, 'classification_report.txt'), 'w') as f:\n",
    "        f.write(\"Classification Report:\\n\")\n",
    "        f.write(classification_report(y_test, y_pred_classes, labels=class_indices, target_names=labels))\n",
    "\n",
    "# Save the results\n",
    "save_results(model, X_test, y_test)"
   ]
  },
  {
   "cell_type": "code",
   "execution_count": 201,
   "metadata": {
    "execution": {
     "iopub.execute_input": "2025-05-04T08:04:15.410547Z",
     "iopub.status.busy": "2025-05-04T08:04:15.409519Z",
     "iopub.status.idle": "2025-05-04T08:04:15.617854Z",
     "shell.execute_reply": "2025-05-04T08:04:15.617854Z"
    }
   },
   "outputs": [],
   "source": [
    "# Loading a saved model\n",
    "model = tf.keras.models.load_model(model_save_path)"
   ]
  },
  {
   "cell_type": "code",
   "execution_count": 202,
   "metadata": {
    "execution": {
     "iopub.execute_input": "2025-05-04T08:04:15.618864Z",
     "iopub.status.busy": "2025-05-04T08:04:15.618864Z",
     "iopub.status.idle": "2025-05-04T08:04:15.753171Z",
     "shell.execute_reply": "2025-05-04T08:04:15.752661Z"
    }
   },
   "outputs": [
    {
     "name": "stdout",
     "output_type": "stream",
     "text": [
      "1/1 [==============================] - 0s 108ms/step\n",
      "[2.6649520e-01 1.0935113e-04 5.4885970e-07 2.8421238e-05 2.2564903e-01\n",
      " 1.8341647e-03 1.3580291e-03 9.4952792e-02 4.0957239e-01]\n",
      "8\n"
     ]
    }
   ],
   "source": [
    "# Reasoning test\n",
    "predict_result = model.predict(np.array([X_test[0]]))\n",
    "print(np.squeeze(predict_result))\n",
    "print(np.argmax(np.squeeze(predict_result)))"
   ]
  },
  {
   "cell_type": "markdown",
   "metadata": {},
   "source": [
    "# Mixed rows"
   ]
  },
  {
   "cell_type": "code",
   "execution_count": 203,
   "metadata": {
    "execution": {
     "iopub.execute_input": "2025-05-04T08:04:15.753171Z",
     "iopub.status.busy": "2025-05-04T08:04:15.753171Z",
     "iopub.status.idle": "2025-05-04T08:04:17.100265Z",
     "shell.execute_reply": "2025-05-04T08:04:17.098251Z"
    }
   },
   "outputs": [
    {
     "name": "stdout",
     "output_type": "stream",
     "text": [
      "97/97 [==============================] - 0s 2ms/step\n"
     ]
    },
    {
     "data": {
      "image/png": "[encoded data removed]",
      "text/plain": [
       "<Figure size 700x600 with 2 Axes>"
      ]
     },
     "metadata": {},
     "output_type": "display_data"
    },
    {
     "name": "stdout",
     "output_type": "stream",
     "text": [
      "Classification Report\n",
      "              precision    recall  f1-score   support\n",
      "\n",
      "           0       0.99      0.70      0.82       392\n",
      "           1       0.88      0.99      0.93       402\n",
      "           2       0.92      0.92      0.92       365\n",
      "           3       0.88      0.99      0.93       409\n",
      "           4       0.72      0.74      0.73       358\n",
      "           5       0.98      0.80      0.88       371\n",
      "           6       0.91      0.99      0.95       352\n",
      "           7       0.78      0.95      0.86       260\n",
      "           8       0.80      0.73      0.76       176\n",
      "\n",
      "    accuracy                           0.87      3085\n",
      "   macro avg       0.87      0.87      0.86      3085\n",
      "weighted avg       0.88      0.87      0.87      3085\n",
      "\n"
     ]
    }
   ],
   "source": [
    "import pandas as pd\n",
    "import seaborn as sns\n",
    "import matplotlib.pyplot as plt\n",
    "from sklearn.metrics import confusion_matrix, classification_report\n",
    "\n",
    "def print_confusion_matrix(y_true, y_pred, report=True):\n",
    "    labels = sorted(list(set(y_true)))\n",
    "    cmx_data = confusion_matrix(y_true, y_pred, labels=labels)\n",
    "    \n",
    "    df_cmx = pd.DataFrame(cmx_data, index=labels, columns=labels)\n",
    " \n",
    "    fig, ax = plt.subplots(figsize=(7, 6))\n",
    "    sns.heatmap(df_cmx, annot=True, fmt='g' ,square=False)\n",
    "    ax.set_ylim(len(set(y_true)), 0)\n",
    "    plt.show()\n",
    "    \n",
    "    if report:\n",
    "        print('Classification Report')\n",
    "        print(classification_report(y_test, y_pred))\n",
    "\n",
    "Y_pred = model.predict(X_test)\n",
    "y_pred = np.argmax(Y_pred, axis=1)\n",
    "\n",
    "print_confusion_matrix(y_test, y_pred)"
   ]
  },
  {
   "cell_type": "code",
   "execution_count": 204,
   "metadata": {},
   "outputs": [
    {
     "name": "stdout",
     "output_type": "stream",
     "text": [
      "97/97 [==============================] - 0s 1ms/step\n"
     ]
    }
   ],
   "source": [
    "def analyze_misclassifications(y_true, y_pred, save_dir='model/evaluation/'):\n",
    "    \"\"\"Analyze and display misclassifications with saved visualizations\"\"\"\n",
    "    import os\n",
    "    \n",
    "    # Create directory if it doesn't exist\n",
    "    os.makedirs(save_dir, exist_ok=True)\n",
    "    \n",
    "    # Load gesture labels\n",
    "    labels = []\n",
    "    with open('model/keypoint_classifier/keypoint_classifier_label.csv', \n",
    "              encoding='utf-8-sig') as f:\n",
    "        for row in csv.reader(f):\n",
    "            labels.append(row[0])\n",
    "    \n",
    "    # Create misclassification matrix\n",
    "    misclass_matrix = np.zeros((len(labels), len(labels)))\n",
    "    for true_idx, pred_idx in zip(y_true, y_pred):\n",
    "        if true_idx != pred_idx:\n",
    "            misclass_matrix[true_idx][pred_idx] += 1\n",
    "    \n",
    "    # Create DataFrame\n",
    "    df_misclass = pd.DataFrame(\n",
    "        misclass_matrix,\n",
    "        index=labels,\n",
    "        columns=labels\n",
    "    )\n",
    "    \n",
    "    # Save heatmap visualization\n",
    "    plt.figure(figsize=(12, 8))\n",
    "    sns.heatmap(df_misclass, \n",
    "                annot=True,\n",
    "                fmt='g',\n",
    "                cmap='Blues',\n",
    "                xticklabels=labels,\n",
    "                yticklabels=labels)\n",
    "    \n",
    "    plt.title('Hand Gesture Misclassifications')\n",
    "    plt.xlabel('Predicted Label')\n",
    "    plt.ylabel('True Label')\n",
    "    plt.tight_layout()\n",
    "    \n",
    "    # Save heatmap\n",
    "    plt.savefig(os.path.join(save_dir, 'misclassification_matrix.png'), dpi=300, bbox_inches='tight')\n",
    "    plt.close()\n",
    "    \n",
    "    # Create bar plot\n",
    "    plt.figure(figsize=(12, 6))\n",
    "    misclass_counts = [(i, j, misclass_matrix[i][j]) \n",
    "                      for i in range(len(labels)) \n",
    "                      for j in range(len(labels)) \n",
    "                      if i != j and misclass_matrix[i][j] > 0]\n",
    "    \n",
    "    # Sort by count\n",
    "    misclass_counts.sort(key=lambda x: x[2], reverse=True)\n",
    "    \n",
    "    # Prepare data for bar plot\n",
    "    pairs = [f\"{labels[i]}->{labels[j]}\" for i, j, _ in misclass_counts]\n",
    "    counts = [count for _, _, count in misclass_counts]\n",
    "    \n",
    "    # Create bar plot\n",
    "    bars = plt.bar(pairs, counts)\n",
    "    plt.xticks(rotation=45, ha='right')\n",
    "    plt.title(\"Misclassification Distribution\")\n",
    "    plt.xlabel(\"True Label -> Predicted Label\")\n",
    "    plt.ylabel(\"Count\")\n",
    "    \n",
    "    # Add value labels\n",
    "    for bar in bars:\n",
    "        height = bar.get_height()\n",
    "        plt.text(bar.get_x() + bar.get_width()/2., height,\n",
    "                f'{int(height)}',\n",
    "                ha='center', va='bottom')\n",
    "    \n",
    "    plt.tight_layout()\n",
    "    \n",
    "    # Save bar plot\n",
    "    plt.savefig(os.path.join(save_dir, 'misclassification_distribution.png'), dpi=300, bbox_inches='tight')\n",
    "    plt.close()\n",
    "    \n",
    "    # Save numerical results to text file\n",
    "    with open(os.path.join(save_dir, 'misclassification_analysis.txt'), 'w') as f:\n",
    "        f.write(\"=== Misclassification Analysis ===\\n\\n\")\n",
    "        f.write(\"True Label\\tPredicted as\\tCount\\n\")\n",
    "        f.write(\"-\" * 40 + \"\\n\")\n",
    "        for i, j, count in misclass_counts:\n",
    "            f.write(f\"{labels[i]}\\t\\t{labels[j]}\\t\\t{int(count)}\\n\")\n",
    "\n",
    "# Run the analysis\n",
    "Y_pred = model.predict(X_test)\n",
    "y_pred = np.argmax(Y_pred, axis=1)\n",
    "analyze_misclassifications(y_test, y_pred)"
   ]
  },
  {
   "cell_type": "code",
   "execution_count": 205,
   "metadata": {},
   "outputs": [
    {
     "name": "stdout",
     "output_type": "stream",
     "text": [
      "97/97 [==============================] - 0s 1ms/step\n",
      "\n",
      "Class Distribution Analysis:\n",
      "--------------------------------------------------\n",
      "Class 'Five':\n",
      "  True samples: 392\n",
      "  Predicted samples: 276\n",
      "------------------------------\n",
      "Class 'One':\n",
      "  True samples: 402\n",
      "  Predicted samples: 450\n",
      "------------------------------\n",
      "Class 'Two':\n",
      "  True samples: 365\n",
      "  Predicted samples: 365\n",
      "------------------------------\n",
      "Class 'Three':\n",
      "  True samples: 409\n",
      "  Predicted samples: 458\n",
      "------------------------------\n",
      "Class 'Four':\n",
      "  True samples: 358\n",
      "  Predicted samples: 369\n",
      "------------------------------\n",
      "Class 'Six':\n",
      "  True samples: 371\n",
      "  Predicted samples: 301\n",
      "------------------------------\n",
      "Class 'Seven':\n",
      "  True samples: 352\n",
      "  Predicted samples: 384\n",
      "------------------------------\n",
      "Class 'Eight':\n",
      "  True samples: 260\n",
      "  Predicted samples: 320\n",
      "------------------------------\n",
      "Class 'Nine':\n",
      "  True samples: 176\n",
      "  Predicted samples: 162\n",
      "------------------------------\n"
     ]
    }
   ],
   "source": [
    "\n",
    "def analyze_class_distribution(y_true, y_pred, labels):\n",
    "    \"\"\"Analyze the distribution of classes in true and predicted data\"\"\"\n",
    "    print(\"\\nClass Distribution Analysis:\")\n",
    "    print(\"-\" * 50)\n",
    "    \n",
    "    for i, label in enumerate(labels):\n",
    "        true_count = np.sum(y_true == i)\n",
    "        pred_count = np.sum(y_pred == i)\n",
    "        print(f\"Class '{label}':\")\n",
    "        print(f\"  True samples: {true_count}\")\n",
    "        print(f\"  Predicted samples: {pred_count}\")\n",
    "        print(\"-\" * 30)\n",
    "\n",
    "# Run the analysis after model predictions\n",
    "Y_pred = model.predict(X_test)\n",
    "y_pred_classes = np.argmax(Y_pred, axis=1)\n",
    "\n",
    "# Load labels\n",
    "labels = []\n",
    "with open('model/keypoint_classifier/keypoint_classifier_label.csv', \n",
    "          encoding='utf-8-sig') as f:\n",
    "    for row in csv.reader(f):\n",
    "        labels.append(row[0])\n",
    "\n",
    "# Analyze class distribution\n",
    "analyze_class_distribution(y_test, y_pred_classes, labels)"
   ]
  },
  {
   "cell_type": "code",
   "execution_count": 206,
   "metadata": {},
   "outputs": [
    {
     "name": "stdout",
     "output_type": "stream",
     "text": [
      "97/97 [==============================] - 0s 2ms/step\n"
     ]
    },
    {
     "data": {
      "image/png": "[encoded data removed]",
      "text/plain": [
       "<Figure size 1500x600 with 2 Axes>"
      ]
     },
     "metadata": {},
     "output_type": "display_data"
    },
    {
     "name": "stdout",
     "output_type": "stream",
     "text": [
      "\n",
      "Confidence Score Statistics:\n",
      "--------------------------------------------------\n",
      "\n",
      "Class: Five\n",
      "  Average confidence: 0.599\n",
      "  Min confidence: 0.215\n",
      "  Max confidence: 0.999\n",
      "  Std deviation: 0.204\n",
      "\n",
      "Class: One\n",
      "  Average confidence: 0.739\n",
      "  Min confidence: 0.332\n",
      "  Max confidence: 0.860\n",
      "  Std deviation: 0.067\n",
      "\n",
      "Class: Two\n",
      "  Average confidence: 0.508\n",
      "  Min confidence: 0.250\n",
      "  Max confidence: 0.715\n",
      "  Std deviation: 0.103\n",
      "\n",
      "Class: Three\n",
      "  Average confidence: 0.752\n",
      "  Min confidence: 0.357\n",
      "  Max confidence: 0.943\n",
      "  Std deviation: 0.123\n",
      "\n",
      "Class: Four\n",
      "  Average confidence: 0.537\n",
      "  Min confidence: 0.211\n",
      "  Max confidence: 0.795\n",
      "  Std deviation: 0.140\n",
      "\n",
      "Class: Six\n",
      "  Average confidence: 0.623\n",
      "  Min confidence: 0.219\n",
      "  Max confidence: 0.820\n",
      "  Std deviation: 0.176\n",
      "\n",
      "Class: Seven\n",
      "  Average confidence: 0.514\n",
      "  Min confidence: 0.252\n",
      "  Max confidence: 0.737\n",
      "  Std deviation: 0.129\n",
      "\n",
      "Class: Eight\n",
      "  Average confidence: 0.670\n",
      "  Min confidence: 0.311\n",
      "  Max confidence: 0.852\n",
      "  Std deviation: 0.090\n",
      "\n",
      "Class: Nine\n",
      "  Average confidence: 0.396\n",
      "  Min confidence: 0.317\n",
      "  Max confidence: 0.575\n",
      "  Std deviation: 0.050\n"
     ]
    }
   ],
   "source": [
    "# Add this function after your existing visualization functions\n",
    "def visualize_confidence_scores(model, X_test, y_test, labels, save_path='model/evaluation/'):\n",
    "    \"\"\"Visualize prediction confidence scores with charts\"\"\"\n",
    "    import os\n",
    "    \n",
    "    # Get model predictions and confidence scores\n",
    "    predictions = model.predict(X_test)\n",
    "    y_pred = np.argmax(predictions, axis=1)\n",
    "    \n",
    "    # Create figure for confidence visualization\n",
    "    plt.figure(figsize=(15, 6))\n",
    "    \n",
    "    # 1. Bar chart of average confidence per class\n",
    "    plt.subplot(1, 2, 1)\n",
    "    avg_confidence = []\n",
    "    for i in range(len(labels)):\n",
    "        mask = y_test == i\n",
    "        if np.any(mask):\n",
    "            class_confidence = predictions[mask].max(axis=1)\n",
    "            avg_confidence.append(np.mean(class_confidence))\n",
    "        else:\n",
    "            avg_confidence.append(0)\n",
    "    \n",
    "    bars = plt.bar(labels, avg_confidence)\n",
    "    plt.title('Average Confidence Score per Class')\n",
    "    plt.xlabel('Gesture Class')\n",
    "    plt.ylabel('Confidence Score')\n",
    "    plt.xticks(rotation=45)\n",
    "    \n",
    "    # Add value labels on bars\n",
    "    for bar in bars:\n",
    "        height = bar.get_height()\n",
    "        plt.text(bar.get_x() + bar.get_width()/2., height,\n",
    "                f'{height:.2f}',\n",
    "                ha='center', va='bottom')\n",
    "    \n",
    "    # 2. Confidence distribution violin plot\n",
    "    plt.subplot(1, 2, 2)\n",
    "    confidence_data = []\n",
    "    for i in range(len(labels)):\n",
    "        mask = y_test == i\n",
    "        if np.any(mask):\n",
    "            class_confidence = predictions[mask].max(axis=1)\n",
    "            confidence_data.append(class_confidence)\n",
    "        else:\n",
    "            confidence_data.append([])\n",
    "    \n",
    "    violin_parts = plt.violinplot(confidence_data)\n",
    "    plt.title('Confidence Score Distribution')\n",
    "    plt.xlabel('Gesture Class')\n",
    "    plt.ylabel('Confidence Score')\n",
    "    plt.xticks(range(1, len(labels) + 1), labels, rotation=45)\n",
    "    \n",
    "    # Adjust layout and save\n",
    "    plt.tight_layout()\n",
    "    \n",
    "    # Save plot if save_path provided\n",
    "    if save_path:\n",
    "        os.makedirs(save_path, exist_ok=True)\n",
    "        plt.savefig(os.path.join(save_path, 'confidence_analysis.png'), \n",
    "                    bbox_inches='tight', dpi=300)\n",
    "    \n",
    "    plt.show()\n",
    "    \n",
    "    # Print detailed confidence statistics\n",
    "    print(\"\\nConfidence Score Statistics:\")\n",
    "    print(\"-\" * 50)\n",
    "    for i, label in enumerate(labels):\n",
    "        mask = y_test == i\n",
    "        if np.any(mask):\n",
    "            conf_scores = predictions[mask].max(axis=1)\n",
    "            print(f\"\\nClass: {label}\")\n",
    "            print(f\"  Average confidence: {np.mean(conf_scores):.3f}\")\n",
    "            print(f\"  Min confidence: {np.min(conf_scores):.3f}\")\n",
    "            print(f\"  Max confidence: {np.max(conf_scores):.3f}\")\n",
    "            print(f\"  Std deviation: {np.std(conf_scores):.3f}\")\n",
    "\n",
    "# Add this code after model evaluation\n",
    "# Load labels if not already loaded\n",
    "labels = []\n",
    "with open('model/keypoint_classifier/keypoint_classifier_label.csv', \n",
    "          encoding='utf-8-sig') as f:\n",
    "    for row in csv.reader(f):\n",
    "        labels.append(row[0])\n",
    "\n",
    "# Generate confidence visualization\n",
    "visualize_confidence_scores(model, X_test, y_test, labels)"
   ]
  },
  {
   "cell_type": "markdown",
   "metadata": {},
   "source": [
    "# Tensorflow-Lite Convert to a model for"
   ]
  },
  {
   "cell_type": "code",
   "execution_count": 207,
   "metadata": {
    "execution": {
     "iopub.execute_input": "2025-05-04T08:04:17.108068Z",
     "iopub.status.busy": "2025-05-04T08:04:17.106051Z",
     "iopub.status.idle": "2025-05-04T08:04:17.183804Z",
     "shell.execute_reply": "2025-05-04T08:04:17.183804Z"
    }
   },
   "outputs": [],
   "source": [
    "# Save as an inference-only model\n",
    "model.save(model_save_path, include_optimizer=False)"
   ]
  },
  {
   "cell_type": "code",
   "execution_count": 208,
   "metadata": {
    "execution": {
     "iopub.execute_input": "2025-05-04T08:04:17.192901Z",
     "iopub.status.busy": "2025-05-04T08:04:17.192901Z",
     "iopub.status.idle": "2025-05-04T08:04:18.198858Z",
     "shell.execute_reply": "2025-05-04T08:04:18.197336Z"
    }
   },
   "outputs": [
    {
     "name": "stderr",
     "output_type": "stream",
     "text": [
      "WARNING:absl:Found untraced functions such as _update_step_xla while saving (showing 1 of 1). These functions will not be directly callable after loading.\n"
     ]
    },
    {
     "name": "stdout",
     "output_type": "stream",
     "text": [
      "INFO:tensorflow:Assets written to: C:\\Users\\Abhis\\AppData\\Local\\Temp\\tmpu8vyith6\\assets\n"
     ]
    },
    {
     "name": "stderr",
     "output_type": "stream",
     "text": [
      "INFO:tensorflow:Assets written to: C:\\Users\\Abhis\\AppData\\Local\\Temp\\tmpu8vyith6\\assets\n"
     ]
    },
    {
     "data": {
      "text/plain": [
       "6844"
      ]
     },
     "execution_count": 208,
     "metadata": {},
     "output_type": "execute_result"
    }
   ],
   "source": [
    "# Transform the model (quantize it)\n",
    "tflite_save_path = 'model/keypoint_classifier/keypoint_classifier.tflite'\n",
    "\n",
    "converter = tf.lite.TFLiteConverter.from_keras_model(model)\n",
    "converter.optimizations = [tf.lite.Optimize.DEFAULT]\n",
    "tflite_quantized_model = converter.convert()\n",
    "\n",
    "open(tflite_save_path, 'wb').write(tflite_quantized_model)"
   ]
  },
  {
   "cell_type": "markdown",
   "metadata": {},
   "source": [
    "# Reasoning test"
   ]
  },
  {
   "cell_type": "code",
   "execution_count": 209,
   "metadata": {
    "execution": {
     "iopub.execute_input": "2025-05-04T08:04:18.203393Z",
     "iopub.status.busy": "2025-05-04T08:04:18.203393Z",
     "iopub.status.idle": "2025-05-04T08:04:18.225795Z",
     "shell.execute_reply": "2025-05-04T08:04:18.224771Z"
    }
   },
   "outputs": [],
   "source": [
    "interpreter = tf.lite.Interpreter(model_path=tflite_save_path)\n",
    "interpreter.allocate_tensors()"
   ]
  },
  {
   "cell_type": "code",
   "execution_count": 210,
   "metadata": {
    "execution": {
     "iopub.execute_input": "2025-05-04T08:04:18.230799Z",
     "iopub.status.busy": "2025-05-04T08:04:18.230799Z",
     "iopub.status.idle": "2025-05-04T08:04:18.239087Z",
     "shell.execute_reply": "2025-05-04T08:04:18.236721Z"
    }
   },
   "outputs": [],
   "source": [
    "# Get input/output tensors\n",
    "input_details = interpreter.get_input_details()\n",
    "output_details = interpreter.get_output_details()"
   ]
  },
  {
   "cell_type": "code",
   "execution_count": 211,
   "metadata": {
    "execution": {
     "iopub.execute_input": "2025-05-04T08:04:18.243907Z",
     "iopub.status.busy": "2025-05-04T08:04:18.243907Z",
     "iopub.status.idle": "2025-05-04T08:04:18.252552Z",
     "shell.execute_reply": "2025-05-04T08:04:18.250088Z"
    }
   },
   "outputs": [],
   "source": [
    "interpreter.set_tensor(input_details[0]['index'], np.array([X_test[0]]))"
   ]
  },
  {
   "cell_type": "code",
   "execution_count": 212,
   "metadata": {
    "execution": {
     "iopub.execute_input": "2025-05-04T08:04:18.258704Z",
     "iopub.status.busy": "2025-05-04T08:04:18.257697Z",
     "iopub.status.idle": "2025-05-04T08:04:18.269104Z",
     "shell.execute_reply": "2025-05-04T08:04:18.267709Z"
    },
    "scrolled": true
   },
   "outputs": [
    {
     "name": "stdout",
     "output_type": "stream",
     "text": [
      "CPU times: total: 0 ns\n",
      "Wall time: 0 ns\n"
     ]
    }
   ],
   "source": [
    "%%time\n",
    "# Inference implementation\n",
    "interpreter.invoke()\n",
    "tflite_results = interpreter.get_tensor(output_details[0]['index'])"
   ]
  },
  {
   "cell_type": "code",
   "execution_count": 213,
   "metadata": {
    "execution": {
     "iopub.execute_input": "2025-05-04T08:04:18.274669Z",
     "iopub.status.busy": "2025-05-04T08:04:18.273191Z",
     "iopub.status.idle": "2025-05-04T08:04:18.284947Z",
     "shell.execute_reply": "2025-05-04T08:04:18.283411Z"
    }
   },
   "outputs": [],
   "source": [
    "#print(np.squeeze(tflite_results))\n",
    "#print(np.argmax(np.squeeze(tflite_results)))"
   ]
  },
  {
   "cell_type": "code",
   "execution_count": 214,
   "metadata": {},
   "outputs": [],
   "source": [
    "def benchmark_model(model, X_test):\n",
    "    \"\"\"Measure model performance metrics\"\"\"\n",
    "    import time\n",
    "    \n",
    "    # Warm-up run\n",
    "    model.predict(X_test[:1])\n",
    "    \n",
    "    # Measure inference time\n",
    "    start_time = time.time()\n",
    "    predictions = model.predict(X_test)\n",
    "    end_time = time.time()\n",
    "    \n",
    "    avg_inference_time = (end_time - start_time) / len(X_test) * 1000  # ms\n",
    "    \n",
    "    print(\"\\nModel Performance Metrics:\")\n",
    "    print(\"-\" * 50)\n",
    "    print(f\"Average Inference Time: {avg_inference_time:.2f} ms\")\n",
    "    print(f\"Model Size: {os.path.getsize('model/keypoint_classifier/keypoint_classifier.keras')/1024:.2f} KB\")\n",
    "    print(f\"Input Shape: {model.input_shape}\")\n",
    "    print(f\"Number of Parameters: {model.count_params():,}\")"
   ]
  }
 ],
 "metadata": {
  "kernelspec": {
   "display_name": "Python 3",
   "language": "python",
   "name": "python3"
  },
  "language_info": {
   "codemirror_mode": {
    "name": "ipython",
    "version": 3
   },
   "file_extension": ".py",
   "mimetype": "text/x-python",
   "name": "python",
   "nbconvert_exporter": "python",
   "pygments_lexer": "ipython3",
   "version": "3.8.10"
  }
 },
 "nbformat": 4,
 "nbformat_minor": 4
}
