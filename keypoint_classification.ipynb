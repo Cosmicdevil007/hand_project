{
 "cells": [
  {
   "cell_type": "code",
   "execution_count": 1,
   "metadata": {
    "execution": {
     "iopub.execute_input": "2025-05-04T08:03:13.896613Z",
     "iopub.status.busy": "2025-05-04T08:03:13.896613Z",
     "iopub.status.idle": "2025-05-04T08:03:22.191932Z",
     "shell.execute_reply": "2025-05-04T08:03:22.190899Z"
    }
   },
   "outputs": [],
   "source": [
    "import csv\n",
    "\n",
    "import numpy as np\n",
    "import tensorflow as tf\n",
    "from sklearn.model_selection import train_test_split\n",
    "\n",
    "RANDOM_SEED = 42"
   ]
  },
  {
   "cell_type": "markdown",
   "metadata": {},
   "source": [
    "# Specify each path"
   ]
  },
  {
   "cell_type": "code",
   "execution_count": 2,
   "metadata": {
    "execution": {
     "iopub.execute_input": "2025-05-04T08:03:22.195770Z",
     "iopub.status.busy": "2025-05-04T08:03:22.195770Z",
     "iopub.status.idle": "2025-05-04T08:03:22.200022Z",
     "shell.execute_reply": "2025-05-04T08:03:22.200022Z"
    }
   },
   "outputs": [],
   "source": [
    "dataset = 'model/keypoint_classifier/keypoint.csv'\n",
    "model_save_path = 'model/keypoint_classifier/keypoint_classifier.keras'"
   ]
  },
  {
   "cell_type": "markdown",
   "metadata": {},
   "source": [
    "# Setting the number of categories"
   ]
  },
  {
   "cell_type": "code",
   "execution_count": 3,
   "metadata": {
    "execution": {
     "iopub.execute_input": "2025-05-04T08:03:22.203683Z",
     "iopub.status.busy": "2025-05-04T08:03:22.203683Z",
     "iopub.status.idle": "2025-05-04T08:03:22.208272Z",
     "shell.execute_reply": "2025-05-04T08:03:22.208272Z"
    }
   },
   "outputs": [],
   "source": [
    "NUM_CLASSES = 9"
   ]
  },
  {
   "cell_type": "markdown",
   "metadata": {},
   "source": [
    "# Load learning data"
   ]
  },
  {
   "cell_type": "code",
   "execution_count": 4,
   "metadata": {
    "execution": {
     "iopub.execute_input": "2025-05-04T08:03:22.211258Z",
     "iopub.status.busy": "2025-05-04T08:03:22.211258Z",
     "iopub.status.idle": "2025-05-04T08:03:22.285858Z",
     "shell.execute_reply": "2025-05-04T08:03:22.285858Z"
    }
   },
   "outputs": [],
   "source": [
    "X_dataset = np.loadtxt(dataset, delimiter=',', dtype='float32', usecols=list(range(1, (21 * 2) + 1)))"
   ]
  },
  {
   "cell_type": "code",
   "execution_count": 5,
   "metadata": {
    "execution": {
     "iopub.execute_input": "2025-05-04T08:03:22.288560Z",
     "iopub.status.busy": "2025-05-04T08:03:22.288560Z",
     "iopub.status.idle": "2025-05-04T08:03:22.315730Z",
     "shell.execute_reply": "2025-05-04T08:03:22.314469Z"
    }
   },
   "outputs": [],
   "source": [
    "y_dataset = np.loadtxt(dataset, delimiter=',', dtype='int32', usecols=(0))"
   ]
  },
  {
   "cell_type": "code",
   "execution_count": 6,
   "metadata": {
    "execution": {
     "iopub.execute_input": "2025-05-04T08:03:22.318248Z",
     "iopub.status.busy": "2025-05-04T08:03:22.318248Z",
     "iopub.status.idle": "2025-05-04T08:03:22.325352Z",
     "shell.execute_reply": "2025-05-04T08:03:22.325352Z"
    }
   },
   "outputs": [],
   "source": [
    "X_train, X_test, y_train, y_test = train_test_split(X_dataset, y_dataset, train_size=0.75, random_state=RANDOM_SEED)"
   ]
  },
  {
   "cell_type": "markdown",
   "metadata": {},
   "source": [
    "# model building"
   ]
  },
  {
   "cell_type": "code",
   "execution_count": 7,
   "metadata": {
    "execution": {
     "iopub.execute_input": "2025-05-04T08:03:22.329072Z",
     "iopub.status.busy": "2025-05-04T08:03:22.329072Z",
     "iopub.status.idle": "2025-05-04T08:03:22.455774Z",
     "shell.execute_reply": "2025-05-04T08:03:22.455774Z"
    }
   },
   "outputs": [],
   "source": [
    "model = tf.keras.models.Sequential([\n",
    "    tf.keras.layers.Input((21 * 2, )),\n",
    "    tf.keras.layers.Dropout(0.2),\n",
    "    tf.keras.layers.Dense(20, activation='relu'),\n",
    "    tf.keras.layers.Dropout(0.4),\n",
    "    tf.keras.layers.Dense(10, activation='relu'),\n",
    "    tf.keras.layers.Dense(NUM_CLASSES, activation='softmax')\n",
    "])"
   ]
  },
  {
   "cell_type": "code",
   "execution_count": 8,
   "metadata": {
    "execution": {
     "iopub.execute_input": "2025-05-04T08:03:22.459681Z",
     "iopub.status.busy": "2025-05-04T08:03:22.457557Z",
     "iopub.status.idle": "2025-05-04T08:03:22.480014Z",
     "shell.execute_reply": "2025-05-04T08:03:22.480014Z"
    }
   },
   "outputs": [
    {
     "name": "stdout",
     "output_type": "stream",
     "text": [
      "Model: \"sequential\"\n",
      "_________________________________________________________________\n",
      " Layer (type)                Output Shape              Param #   \n",
      "=================================================================\n",
      " dropout (Dropout)           (None, 42)                0         \n",
      "                                                                 \n",
      " dense (Dense)               (None, 20)                860       \n",
      "                                                                 \n",
      " dropout_1 (Dropout)         (None, 20)                0         \n",
      "                                                                 \n",
      " dense_1 (Dense)             (None, 10)                210       \n",
      "                                                                 \n",
      " dense_2 (Dense)             (None, 9)                 99        \n",
      "                                                                 \n",
      "=================================================================\n",
      "Total params: 1,169\n",
      "Trainable params: 1,169\n",
      "Non-trainable params: 0\n",
      "_________________________________________________________________\n"
     ]
    }
   ],
   "source": [
    "model.summary()  # tf.keras.utils.plot_model(model, show_shapes=True)"
   ]
  },
  {
   "cell_type": "code",
   "execution_count": 9,
   "metadata": {
    "execution": {
     "iopub.execute_input": "2025-05-04T08:03:22.514195Z",
     "iopub.status.busy": "2025-05-04T08:03:22.511828Z",
     "iopub.status.idle": "2025-05-04T08:03:22.518161Z",
     "shell.execute_reply": "2025-05-04T08:03:22.518161Z"
    }
   },
   "outputs": [],
   "source": [
    "# Model Checkpoint Callbacks\n",
    "cp_callback = tf.keras.callbacks.ModelCheckpoint(\n",
    "    model_save_path, verbose=1, save_weights_only=False)\n",
    "# Early Abort Callback\n",
    "es_callback = tf.keras.callbacks.EarlyStopping(patience=20, verbose=1)"
   ]
  },
  {
   "cell_type": "code",
   "execution_count": 10,
   "metadata": {
    "execution": {
     "iopub.execute_input": "2025-05-04T08:03:22.521083Z",
     "iopub.status.busy": "2025-05-04T08:03:22.521083Z",
     "iopub.status.idle": "2025-05-04T08:03:22.537193Z",
     "shell.execute_reply": "2025-05-04T08:03:22.536686Z"
    }
   },
   "outputs": [],
   "source": [
    "# model compilation\n",
    "model.compile(\n",
    "    optimizer='adam',\n",
    "    loss='sparse_categorical_crossentropy',\n",
    "    metrics=['accuracy']\n",
    ")"
   ]
  },
  {
   "cell_type": "markdown",
   "metadata": {},
   "source": [
    "# model training"
   ]
  },
  {
   "cell_type": "code",
   "execution_count": 11,
   "metadata": {
    "execution": {
     "iopub.execute_input": "2025-05-04T08:03:22.540564Z",
     "iopub.status.busy": "2025-05-04T08:03:22.540564Z",
     "iopub.status.idle": "2025-05-04T08:04:15.291187Z",
     "shell.execute_reply": "2025-05-04T08:04:15.290174Z"
    },
    "scrolled": true
   },
   "outputs": [
    {
     "name": "stdout",
     "output_type": "stream",
     "text": [
      "Epoch 1/1000\n",
      "44/61 [====================>.........] - ETA: 0s - loss: 2.1413 - accuracy: 0.1726\n",
      "Epoch 1: saving model to model/keypoint_classifier\\keypoint_classifier.keras\n",
      "61/61 [==============================] - 1s 8ms/step - loss: 2.1213 - accuracy: 0.1809 - val_loss: 2.0284 - val_accuracy: 0.2412\n",
      "Epoch 2/1000\n",
      "44/61 [====================>.........] - ETA: 0s - loss: 2.0142 - accuracy: 0.2010\n",
      "Epoch 2: saving model to model/keypoint_classifier\\keypoint_classifier.keras\n",
      "61/61 [==============================] - 0s 4ms/step - loss: 2.0007 - accuracy: 0.2027 - val_loss: 1.8637 - val_accuracy: 0.2714\n",
      "Epoch 3/1000\n",
      "46/61 [=====================>........] - ETA: 0s - loss: 1.8962 - accuracy: 0.2441\n",
      "Epoch 3: saving model to model/keypoint_classifier\\keypoint_classifier.keras\n",
      "61/61 [==============================] - 0s 4ms/step - loss: 1.8820 - accuracy: 0.2484 - val_loss: 1.7225 - val_accuracy: 0.4044\n",
      "Epoch 4/1000\n",
      "46/61 [=====================>........] - ETA: 0s - loss: 1.7974 - accuracy: 0.2802\n",
      "Epoch 4: saving model to model/keypoint_classifier\\keypoint_classifier.keras\n",
      "61/61 [==============================] - 0s 4ms/step - loss: 1.7889 - accuracy: 0.2808 - val_loss: 1.6236 - val_accuracy: 0.4506\n",
      "Epoch 5/1000\n",
      "45/61 [=====================>........] - ETA: 0s - loss: 1.7298 - accuracy: 0.2991\n",
      "Epoch 5: saving model to model/keypoint_classifier\\keypoint_classifier.keras\n",
      "61/61 [==============================] - 0s 4ms/step - loss: 1.7228 - accuracy: 0.3036 - val_loss: 1.5386 - val_accuracy: 0.5363\n",
      "Epoch 6/1000\n",
      "46/61 [=====================>........] - ETA: 0s - loss: 1.6661 - accuracy: 0.3375\n",
      "Epoch 6: saving model to model/keypoint_classifier\\keypoint_classifier.keras\n",
      "61/61 [==============================] - 0s 4ms/step - loss: 1.6635 - accuracy: 0.3397 - val_loss: 1.4688 - val_accuracy: 0.5816\n",
      "Epoch 7/1000\n",
      "44/61 [====================>.........] - ETA: 0s - loss: 1.6341 - accuracy: 0.3631\n",
      "Epoch 7: saving model to model/keypoint_classifier\\keypoint_classifier.keras\n",
      "61/61 [==============================] - 0s 4ms/step - loss: 1.6300 - accuracy: 0.3627 - val_loss: 1.4148 - val_accuracy: 0.6475\n",
      "Epoch 8/1000\n",
      "45/61 [=====================>........] - ETA: 0s - loss: 1.5935 - accuracy: 0.4017\n",
      "Epoch 8: saving model to model/keypoint_classifier\\keypoint_classifier.keras\n",
      "61/61 [==============================] - 0s 4ms/step - loss: 1.5880 - accuracy: 0.3986 - val_loss: 1.3477 - val_accuracy: 0.6623\n",
      "Epoch 9/1000\n",
      "43/61 [====================>.........] - ETA: 0s - loss: 1.5627 - accuracy: 0.4053\n",
      "Epoch 9: saving model to model/keypoint_classifier\\keypoint_classifier.keras\n",
      "61/61 [==============================] - 0s 4ms/step - loss: 1.5541 - accuracy: 0.4114 - val_loss: 1.3028 - val_accuracy: 0.7274\n",
      "Epoch 10/1000\n",
      "46/61 [=====================>........] - ETA: 0s - loss: 1.5238 - accuracy: 0.4217\n",
      "Epoch 10: saving model to model/keypoint_classifier\\keypoint_classifier.keras\n",
      "61/61 [==============================] - 0s 4ms/step - loss: 1.5182 - accuracy: 0.4245 - val_loss: 1.2513 - val_accuracy: 0.7592\n",
      "Epoch 11/1000\n",
      "44/61 [====================>.........] - ETA: 0s - loss: 1.4900 - accuracy: 0.4409\n",
      "Epoch 11: saving model to model/keypoint_classifier\\keypoint_classifier.keras\n",
      "61/61 [==============================] - 0s 4ms/step - loss: 1.4862 - accuracy: 0.4445 - val_loss: 1.2079 - val_accuracy: 0.7801\n",
      "Epoch 12/1000\n",
      "48/61 [======================>.......] - ETA: 0s - loss: 1.4524 - accuracy: 0.4618\n",
      "Epoch 12: saving model to model/keypoint_classifier\\keypoint_classifier.keras\n",
      "61/61 [==============================] - 0s 4ms/step - loss: 1.4458 - accuracy: 0.4607 - val_loss: 1.1584 - val_accuracy: 0.7891\n",
      "Epoch 13/1000\n",
      "48/61 [======================>.......] - ETA: 0s - loss: 1.4276 - accuracy: 0.4692\n",
      "Epoch 13: saving model to model/keypoint_classifier\\keypoint_classifier.keras\n",
      "61/61 [==============================] - 0s 4ms/step - loss: 1.4226 - accuracy: 0.4753 - val_loss: 1.1130 - val_accuracy: 0.8150\n",
      "Epoch 14/1000\n",
      "46/61 [=====================>........] - ETA: 0s - loss: 1.4041 - accuracy: 0.4868\n",
      "Epoch 14: saving model to model/keypoint_classifier\\keypoint_classifier.keras\n",
      "61/61 [==============================] - 0s 4ms/step - loss: 1.4012 - accuracy: 0.4872 - val_loss: 1.0933 - val_accuracy: 0.8046\n",
      "Epoch 15/1000\n",
      "45/61 [=====================>........] - ETA: 0s - loss: 1.3720 - accuracy: 0.4875\n",
      "Epoch 15: saving model to model/keypoint_classifier\\keypoint_classifier.keras\n",
      "61/61 [==============================] - 0s 4ms/step - loss: 1.3724 - accuracy: 0.4913 - val_loss: 1.0645 - val_accuracy: 0.8077\n",
      "Epoch 16/1000\n",
      "46/61 [=====================>........] - ETA: 0s - loss: 1.3343 - accuracy: 0.5058\n",
      "Epoch 16: saving model to model/keypoint_classifier\\keypoint_classifier.keras\n",
      "61/61 [==============================] - 0s 4ms/step - loss: 1.3395 - accuracy: 0.5035 - val_loss: 1.0227 - val_accuracy: 0.8116\n",
      "Epoch 17/1000\n",
      "45/61 [=====================>........] - ETA: 0s - loss: 1.3362 - accuracy: 0.5227\n",
      "Epoch 17: saving model to model/keypoint_classifier\\keypoint_classifier.keras\n",
      "61/61 [==============================] - 0s 4ms/step - loss: 1.3403 - accuracy: 0.5198 - val_loss: 1.0022 - val_accuracy: 0.8340\n",
      "Epoch 18/1000\n",
      "45/61 [=====================>........] - ETA: 0s - loss: 1.3108 - accuracy: 0.5240\n",
      "Epoch 18: saving model to model/keypoint_classifier\\keypoint_classifier.keras\n",
      "61/61 [==============================] - 0s 4ms/step - loss: 1.3027 - accuracy: 0.5277 - val_loss: 0.9665 - val_accuracy: 0.8449\n",
      "Epoch 19/1000\n",
      "46/61 [=====================>........] - ETA: 0s - loss: 1.2651 - accuracy: 0.5474\n",
      "Epoch 19: saving model to model/keypoint_classifier\\keypoint_classifier.keras\n",
      "61/61 [==============================] - 0s 4ms/step - loss: 1.2712 - accuracy: 0.5455 - val_loss: 0.9388 - val_accuracy: 0.8472\n",
      "Epoch 20/1000\n",
      "46/61 [=====================>........] - ETA: 0s - loss: 1.2597 - accuracy: 0.5511\n",
      "Epoch 20: saving model to model/keypoint_classifier\\keypoint_classifier.keras\n",
      "61/61 [==============================] - 0s 4ms/step - loss: 1.2546 - accuracy: 0.5522 - val_loss: 0.8746 - val_accuracy: 0.8693\n",
      "Epoch 21/1000\n",
      "46/61 [=====================>........] - ETA: 0s - loss: 1.2430 - accuracy: 0.5518\n",
      "Epoch 21: saving model to model/keypoint_classifier\\keypoint_classifier.keras\n",
      "61/61 [==============================] - 0s 4ms/step - loss: 1.2369 - accuracy: 0.5515 - val_loss: 0.8562 - val_accuracy: 0.8542\n",
      "Epoch 22/1000\n",
      "45/61 [=====================>........] - ETA: 0s - loss: 1.2264 - accuracy: 0.5609\n",
      "Epoch 22: saving model to model/keypoint_classifier\\keypoint_classifier.keras\n",
      "61/61 [==============================] - 0s 4ms/step - loss: 1.2292 - accuracy: 0.5590 - val_loss: 0.8617 - val_accuracy: 0.8492\n",
      "Epoch 23/1000\n",
      "42/61 [===================>..........] - ETA: 0s - loss: 1.2087 - accuracy: 0.5690\n",
      "Epoch 23: saving model to model/keypoint_classifier\\keypoint_classifier.keras\n",
      "61/61 [==============================] - 0s 4ms/step - loss: 1.2065 - accuracy: 0.5702 - val_loss: 0.8211 - val_accuracy: 0.8604\n",
      "Epoch 24/1000\n",
      "45/61 [=====================>........] - ETA: 0s - loss: 1.1808 - accuracy: 0.5809\n",
      "Epoch 24: saving model to model/keypoint_classifier\\keypoint_classifier.keras\n",
      "61/61 [==============================] - 0s 4ms/step - loss: 1.1776 - accuracy: 0.5817 - val_loss: 0.8018 - val_accuracy: 0.8538\n",
      "Epoch 25/1000\n",
      "46/61 [=====================>........] - ETA: 0s - loss: 1.1691 - accuracy: 0.5814\n",
      "Epoch 25: saving model to model/keypoint_classifier\\keypoint_classifier.keras\n",
      "61/61 [==============================] - 0s 4ms/step - loss: 1.1707 - accuracy: 0.5800 - val_loss: 0.7507 - val_accuracy: 0.8965\n",
      "Epoch 26/1000\n",
      "46/61 [=====================>........] - ETA: 0s - loss: 1.1553 - accuracy: 0.5854\n",
      "Epoch 26: saving model to model/keypoint_classifier\\keypoint_classifier.keras\n",
      "61/61 [==============================] - 0s 4ms/step - loss: 1.1576 - accuracy: 0.5864 - val_loss: 0.7405 - val_accuracy: 0.8984\n",
      "Epoch 27/1000\n",
      "45/61 [=====================>........] - ETA: 0s - loss: 1.1497 - accuracy: 0.5898\n",
      "Epoch 27: saving model to model/keypoint_classifier\\keypoint_classifier.keras\n",
      "61/61 [==============================] - 0s 4ms/step - loss: 1.1440 - accuracy: 0.5922 - val_loss: 0.7284 - val_accuracy: 0.9100\n",
      "Epoch 28/1000\n",
      "46/61 [=====================>........] - ETA: 0s - loss: 1.1263 - accuracy: 0.5983\n",
      "Epoch 28: saving model to model/keypoint_classifier\\keypoint_classifier.keras\n",
      "61/61 [==============================] - 0s 4ms/step - loss: 1.1239 - accuracy: 0.5967 - val_loss: 0.6987 - val_accuracy: 0.9089\n",
      "Epoch 29/1000\n",
      "44/61 [====================>.........] - ETA: 0s - loss: 1.1255 - accuracy: 0.6007\n",
      "Epoch 29: saving model to model/keypoint_classifier\\keypoint_classifier.keras\n",
      "61/61 [==============================] - 0s 4ms/step - loss: 1.1156 - accuracy: 0.6001 - val_loss: 0.6655 - val_accuracy: 0.9155\n",
      "Epoch 30/1000\n",
      "46/61 [=====================>........] - ETA: 0s - loss: 1.1110 - accuracy: 0.5980\n",
      "Epoch 30: saving model to model/keypoint_classifier\\keypoint_classifier.keras\n",
      "61/61 [==============================] - 0s 4ms/step - loss: 1.1110 - accuracy: 0.5985 - val_loss: 0.6670 - val_accuracy: 0.9085\n",
      "Epoch 31/1000\n",
      "45/61 [=====================>........] - ETA: 0s - loss: 1.1036 - accuracy: 0.6064\n",
      "Epoch 31: saving model to model/keypoint_classifier\\keypoint_classifier.keras\n",
      "61/61 [==============================] - 0s 4ms/step - loss: 1.0895 - accuracy: 0.6129 - val_loss: 0.6715 - val_accuracy: 0.9042\n",
      "Epoch 32/1000\n",
      "46/61 [=====================>........] - ETA: 0s - loss: 1.0799 - accuracy: 0.6180\n",
      "Epoch 32: saving model to model/keypoint_classifier\\keypoint_classifier.keras\n",
      "61/61 [==============================] - 0s 4ms/step - loss: 1.0787 - accuracy: 0.6181 - val_loss: 0.6388 - val_accuracy: 0.9085\n",
      "Epoch 33/1000\n",
      "53/61 [=========================>....] - ETA: 0s - loss: 1.0603 - accuracy: 0.6247\n",
      "Epoch 33: saving model to model/keypoint_classifier\\keypoint_classifier.keras\n",
      "61/61 [==============================] - 0s 4ms/step - loss: 1.0665 - accuracy: 0.6249 - val_loss: 0.6282 - val_accuracy: 0.9135\n",
      "Epoch 34/1000\n",
      "46/61 [=====================>........] - ETA: 0s - loss: 1.0537 - accuracy: 0.6270\n",
      "Epoch 34: saving model to model/keypoint_classifier\\keypoint_classifier.keras\n",
      "61/61 [==============================] - 0s 4ms/step - loss: 1.0563 - accuracy: 0.6235 - val_loss: 0.6444 - val_accuracy: 0.9035\n",
      "Epoch 35/1000\n",
      "45/61 [=====================>........] - ETA: 0s - loss: 1.0712 - accuracy: 0.6142\n",
      "Epoch 35: saving model to model/keypoint_classifier\\keypoint_classifier.keras\n",
      "61/61 [==============================] - 0s 4ms/step - loss: 1.0601 - accuracy: 0.6192 - val_loss: 0.6229 - val_accuracy: 0.9085\n",
      "Epoch 36/1000\n",
      "46/61 [=====================>........] - ETA: 0s - loss: 1.0532 - accuracy: 0.6228\n",
      "Epoch 36: saving model to model/keypoint_classifier\\keypoint_classifier.keras\n",
      "61/61 [==============================] - 0s 4ms/step - loss: 1.0487 - accuracy: 0.6270 - val_loss: 0.6234 - val_accuracy: 0.9046\n",
      "Epoch 37/1000\n",
      "46/61 [=====================>........] - ETA: 0s - loss: 1.0416 - accuracy: 0.6279\n",
      "Epoch 37: saving model to model/keypoint_classifier\\keypoint_classifier.keras\n",
      "61/61 [==============================] - 0s 4ms/step - loss: 1.0310 - accuracy: 0.6334 - val_loss: 0.5919 - val_accuracy: 0.9112\n",
      "Epoch 38/1000\n",
      "44/61 [====================>.........] - ETA: 0s - loss: 1.0221 - accuracy: 0.6333\n",
      "Epoch 38: saving model to model/keypoint_classifier\\keypoint_classifier.keras\n",
      "61/61 [==============================] - 0s 4ms/step - loss: 1.0306 - accuracy: 0.6303 - val_loss: 0.5918 - val_accuracy: 0.9077\n",
      "Epoch 39/1000\n",
      "47/61 [======================>.......] - ETA: 0s - loss: 1.0120 - accuracy: 0.6436\n",
      "Epoch 39: saving model to model/keypoint_classifier\\keypoint_classifier.keras\n",
      "61/61 [==============================] - 0s 4ms/step - loss: 1.0144 - accuracy: 0.6412 - val_loss: 0.5729 - val_accuracy: 0.9147\n",
      "Epoch 40/1000\n",
      "46/61 [=====================>........] - ETA: 0s - loss: 1.0034 - accuracy: 0.6522\n",
      "Epoch 40: saving model to model/keypoint_classifier\\keypoint_classifier.keras\n",
      "61/61 [==============================] - 0s 4ms/step - loss: 1.0096 - accuracy: 0.6480 - val_loss: 0.5877 - val_accuracy: 0.9050\n",
      "Epoch 41/1000\n",
      "46/61 [=====================>........] - ETA: 0s - loss: 1.0155 - accuracy: 0.6352\n",
      "Epoch 41: saving model to model/keypoint_classifier\\keypoint_classifier.keras\n",
      "61/61 [==============================] - 0s 4ms/step - loss: 1.0110 - accuracy: 0.6377 - val_loss: 0.5585 - val_accuracy: 0.9182\n",
      "Epoch 42/1000\n",
      "47/61 [======================>.......] - ETA: 0s - loss: 1.0162 - accuracy: 0.6368\n",
      "Epoch 42: saving model to model/keypoint_classifier\\keypoint_classifier.keras\n",
      "61/61 [==============================] - 0s 4ms/step - loss: 1.0106 - accuracy: 0.6415 - val_loss: 0.5767 - val_accuracy: 0.9077\n",
      "Epoch 43/1000\n",
      "45/61 [=====================>........] - ETA: 0s - loss: 1.0057 - accuracy: 0.6486\n",
      "Epoch 43: saving model to model/keypoint_classifier\\keypoint_classifier.keras\n",
      "61/61 [==============================] - 0s 4ms/step - loss: 0.9986 - accuracy: 0.6487 - val_loss: 0.5710 - val_accuracy: 0.9054\n",
      "Epoch 44/1000\n",
      "45/61 [=====================>........] - ETA: 0s - loss: 1.0022 - accuracy: 0.6438\n",
      "Epoch 44: saving model to model/keypoint_classifier\\keypoint_classifier.keras\n",
      "61/61 [==============================] - 0s 4ms/step - loss: 0.9984 - accuracy: 0.6434 - val_loss: 0.5593 - val_accuracy: 0.9100\n",
      "Epoch 45/1000\n",
      "46/61 [=====================>........] - ETA: 0s - loss: 0.9864 - accuracy: 0.6496\n",
      "Epoch 45: saving model to model/keypoint_classifier\\keypoint_classifier.keras\n",
      "61/61 [==============================] - 0s 4ms/step - loss: 0.9909 - accuracy: 0.6470 - val_loss: 0.5553 - val_accuracy: 0.9116\n",
      "Epoch 46/1000\n",
      "46/61 [=====================>........] - ETA: 0s - loss: 0.9892 - accuracy: 0.6540\n",
      "Epoch 46: saving model to model/keypoint_classifier\\keypoint_classifier.keras\n",
      "61/61 [==============================] - 0s 4ms/step - loss: 0.9903 - accuracy: 0.6515 - val_loss: 0.5344 - val_accuracy: 0.9112\n",
      "Epoch 47/1000\n",
      "46/61 [=====================>........] - ETA: 0s - loss: 0.9687 - accuracy: 0.6520\n",
      "Epoch 47: saving model to model/keypoint_classifier\\keypoint_classifier.keras\n",
      "61/61 [==============================] - 0s 4ms/step - loss: 0.9755 - accuracy: 0.6508 - val_loss: 0.5362 - val_accuracy: 0.9166\n",
      "Epoch 48/1000\n",
      "46/61 [=====================>........] - ETA: 0s - loss: 0.9738 - accuracy: 0.6525\n",
      "Epoch 48: saving model to model/keypoint_classifier\\keypoint_classifier.keras\n",
      "61/61 [==============================] - 0s 4ms/step - loss: 0.9749 - accuracy: 0.6512 - val_loss: 0.5447 - val_accuracy: 0.9186\n",
      "Epoch 49/1000\n",
      "46/61 [=====================>........] - ETA: 0s - loss: 0.9623 - accuracy: 0.6537\n",
      "Epoch 49: saving model to model/keypoint_classifier\\keypoint_classifier.keras\n",
      "61/61 [==============================] - 0s 4ms/step - loss: 0.9644 - accuracy: 0.6553 - val_loss: 0.5272 - val_accuracy: 0.9209\n",
      "Epoch 50/1000\n",
      "46/61 [=====================>........] - ETA: 0s - loss: 0.9743 - accuracy: 0.6593\n",
      "Epoch 50: saving model to model/keypoint_classifier\\keypoint_classifier.keras\n",
      "61/61 [==============================] - 0s 4ms/step - loss: 0.9721 - accuracy: 0.6589 - val_loss: 0.5165 - val_accuracy: 0.9197\n",
      "Epoch 51/1000\n",
      "47/61 [======================>.......] - ETA: 0s - loss: 0.9743 - accuracy: 0.6551\n",
      "Epoch 51: saving model to model/keypoint_classifier\\keypoint_classifier.keras\n",
      "61/61 [==============================] - 0s 4ms/step - loss: 0.9670 - accuracy: 0.6570 - val_loss: 0.5330 - val_accuracy: 0.9174\n",
      "Epoch 52/1000\n",
      "45/61 [=====================>........] - ETA: 0s - loss: 0.9339 - accuracy: 0.6656\n",
      "Epoch 52: saving model to model/keypoint_classifier\\keypoint_classifier.keras\n",
      "61/61 [==============================] - 0s 4ms/step - loss: 0.9445 - accuracy: 0.6605 - val_loss: 0.5150 - val_accuracy: 0.9197\n",
      "Epoch 53/1000\n",
      "47/61 [======================>.......] - ETA: 0s - loss: 0.9459 - accuracy: 0.6666\n",
      "Epoch 53: saving model to model/keypoint_classifier\\keypoint_classifier.keras\n",
      "61/61 [==============================] - 0s 4ms/step - loss: 0.9494 - accuracy: 0.6646 - val_loss: 0.5041 - val_accuracy: 0.9248\n",
      "Epoch 54/1000\n",
      "48/61 [======================>.......] - ETA: 0s - loss: 0.9320 - accuracy: 0.6673\n",
      "Epoch 54: saving model to model/keypoint_classifier\\keypoint_classifier.keras\n",
      "61/61 [==============================] - 0s 4ms/step - loss: 0.9467 - accuracy: 0.6619 - val_loss: 0.5092 - val_accuracy: 0.9240\n",
      "Epoch 55/1000\n",
      "46/61 [=====================>........] - ETA: 0s - loss: 0.9567 - accuracy: 0.6574\n",
      "Epoch 55: saving model to model/keypoint_classifier\\keypoint_classifier.keras\n",
      "61/61 [==============================] - 0s 4ms/step - loss: 0.9602 - accuracy: 0.6575 - val_loss: 0.5081 - val_accuracy: 0.9209\n",
      "Epoch 56/1000\n",
      "44/61 [====================>.........] - ETA: 0s - loss: 0.9473 - accuracy: 0.6545\n",
      "Epoch 56: saving model to model/keypoint_classifier\\keypoint_classifier.keras\n",
      "61/61 [==============================] - 0s 4ms/step - loss: 0.9442 - accuracy: 0.6594 - val_loss: 0.5064 - val_accuracy: 0.9174\n",
      "Epoch 57/1000\n",
      "45/61 [=====================>........] - ETA: 0s - loss: 0.9229 - accuracy: 0.6781\n",
      "Epoch 57: saving model to model/keypoint_classifier\\keypoint_classifier.keras\n",
      "61/61 [==============================] - 0s 4ms/step - loss: 0.9298 - accuracy: 0.6724 - val_loss: 0.5018 - val_accuracy: 0.9228\n",
      "Epoch 58/1000\n",
      "46/61 [=====================>........] - ETA: 0s - loss: 0.9336 - accuracy: 0.6698\n",
      "Epoch 58: saving model to model/keypoint_classifier\\keypoint_classifier.keras\n",
      "61/61 [==============================] - 0s 4ms/step - loss: 0.9377 - accuracy: 0.6677 - val_loss: 0.5077 - val_accuracy: 0.9174\n",
      "Epoch 59/1000\n",
      "44/61 [====================>.........] - ETA: 0s - loss: 0.9339 - accuracy: 0.6683\n",
      "Epoch 59: saving model to model/keypoint_classifier\\keypoint_classifier.keras\n",
      "61/61 [==============================] - 0s 4ms/step - loss: 0.9348 - accuracy: 0.6655 - val_loss: 0.5013 - val_accuracy: 0.9256\n",
      "Epoch 60/1000\n",
      "46/61 [=====================>........] - ETA: 0s - loss: 0.9344 - accuracy: 0.6653\n",
      "Epoch 60: saving model to model/keypoint_classifier\\keypoint_classifier.keras\n",
      "61/61 [==============================] - 0s 4ms/step - loss: 0.9346 - accuracy: 0.6649 - val_loss: 0.5257 - val_accuracy: 0.9147\n",
      "Epoch 61/1000\n",
      "44/61 [====================>.........] - ETA: 0s - loss: 0.9278 - accuracy: 0.6680\n",
      "Epoch 61: saving model to model/keypoint_classifier\\keypoint_classifier.keras\n",
      "61/61 [==============================] - 0s 4ms/step - loss: 0.9222 - accuracy: 0.6722 - val_loss: 0.4938 - val_accuracy: 0.9287\n",
      "Epoch 62/1000\n",
      "46/61 [=====================>........] - ETA: 0s - loss: 0.9064 - accuracy: 0.6748\n",
      "Epoch 62: saving model to model/keypoint_classifier\\keypoint_classifier.keras\n",
      "61/61 [==============================] - 0s 4ms/step - loss: 0.9176 - accuracy: 0.6740 - val_loss: 0.4981 - val_accuracy: 0.9209\n",
      "Epoch 63/1000\n",
      "47/61 [======================>.......] - ETA: 0s - loss: 0.9313 - accuracy: 0.6651\n",
      "Epoch 63: saving model to model/keypoint_classifier\\keypoint_classifier.keras\n",
      "61/61 [==============================] - 0s 4ms/step - loss: 0.9246 - accuracy: 0.6669 - val_loss: 0.5214 - val_accuracy: 0.9100\n",
      "Epoch 64/1000\n",
      "46/61 [=====================>........] - ETA: 0s - loss: 0.9129 - accuracy: 0.6729\n",
      "Epoch 64: saving model to model/keypoint_classifier\\keypoint_classifier.keras\n",
      "61/61 [==============================] - 0s 4ms/step - loss: 0.9114 - accuracy: 0.6715 - val_loss: 0.5095 - val_accuracy: 0.9186\n",
      "Epoch 65/1000\n",
      "46/61 [=====================>........] - ETA: 0s - loss: 0.9052 - accuracy: 0.6817\n",
      "Epoch 65: saving model to model/keypoint_classifier\\keypoint_classifier.keras\n",
      "61/61 [==============================] - 0s 4ms/step - loss: 0.9105 - accuracy: 0.6810 - val_loss: 0.5052 - val_accuracy: 0.9209\n",
      "Epoch 66/1000\n",
      "47/61 [======================>.......] - ETA: 0s - loss: 0.9260 - accuracy: 0.6732\n",
      "Epoch 66: saving model to model/keypoint_classifier\\keypoint_classifier.keras\n",
      "61/61 [==============================] - 0s 4ms/step - loss: 0.9188 - accuracy: 0.6736 - val_loss: 0.5027 - val_accuracy: 0.9271\n",
      "Epoch 67/1000\n",
      "46/61 [=====================>........] - ETA: 0s - loss: 0.9253 - accuracy: 0.6669\n",
      "Epoch 67: saving model to model/keypoint_classifier\\keypoint_classifier.keras\n",
      "61/61 [==============================] - 0s 4ms/step - loss: 0.9280 - accuracy: 0.6642 - val_loss: 0.4877 - val_accuracy: 0.9248\n",
      "Epoch 68/1000\n",
      "45/61 [=====================>........] - ETA: 0s - loss: 0.9068 - accuracy: 0.6727\n",
      "Epoch 68: saving model to model/keypoint_classifier\\keypoint_classifier.keras\n",
      "61/61 [==============================] - 0s 4ms/step - loss: 0.9045 - accuracy: 0.6758 - val_loss: 0.4709 - val_accuracy: 0.9310\n",
      "Epoch 69/1000\n",
      "45/61 [=====================>........] - ETA: 0s - loss: 0.8989 - accuracy: 0.6870\n",
      "Epoch 69: saving model to model/keypoint_classifier\\keypoint_classifier.keras\n",
      "61/61 [==============================] - 0s 4ms/step - loss: 0.9111 - accuracy: 0.6802 - val_loss: 0.5026 - val_accuracy: 0.9205\n",
      "Epoch 70/1000\n",
      "46/61 [=====================>........] - ETA: 0s - loss: 0.9145 - accuracy: 0.6709\n",
      "Epoch 70: saving model to model/keypoint_classifier\\keypoint_classifier.keras\n",
      "61/61 [==============================] - 0s 4ms/step - loss: 0.9150 - accuracy: 0.6677 - val_loss: 0.4873 - val_accuracy: 0.9267\n",
      "Epoch 71/1000\n",
      "45/61 [=====================>........] - ETA: 0s - loss: 0.9005 - accuracy: 0.6788\n",
      "Epoch 71: saving model to model/keypoint_classifier\\keypoint_classifier.keras\n",
      "61/61 [==============================] - 0s 4ms/step - loss: 0.9041 - accuracy: 0.6792 - val_loss: 0.4917 - val_accuracy: 0.9197\n",
      "Epoch 72/1000\n",
      "52/61 [========================>.....] - ETA: 0s - loss: 0.9070 - accuracy: 0.6855\n",
      "Epoch 72: saving model to model/keypoint_classifier\\keypoint_classifier.keras\n",
      "61/61 [==============================] - 0s 4ms/step - loss: 0.9062 - accuracy: 0.6845 - val_loss: 0.4949 - val_accuracy: 0.9213\n",
      "Epoch 73/1000\n",
      "47/61 [======================>.......] - ETA: 0s - loss: 0.8950 - accuracy: 0.6722\n",
      "Epoch 73: saving model to model/keypoint_classifier\\keypoint_classifier.keras\n",
      "61/61 [==============================] - 0s 4ms/step - loss: 0.8970 - accuracy: 0.6746 - val_loss: 0.4966 - val_accuracy: 0.9174\n",
      "Epoch 74/1000\n",
      "46/61 [=====================>........] - ETA: 0s - loss: 0.8941 - accuracy: 0.6844\n",
      "Epoch 74: saving model to model/keypoint_classifier\\keypoint_classifier.keras\n",
      "61/61 [==============================] - 0s 4ms/step - loss: 0.8925 - accuracy: 0.6853 - val_loss: 0.4740 - val_accuracy: 0.9182\n",
      "Epoch 75/1000\n",
      "43/61 [====================>.........] - ETA: 0s - loss: 0.8998 - accuracy: 0.6777\n",
      "Epoch 75: saving model to model/keypoint_classifier\\keypoint_classifier.keras\n",
      "61/61 [==============================] - 0s 4ms/step - loss: 0.8976 - accuracy: 0.6774 - val_loss: 0.4742 - val_accuracy: 0.9267\n",
      "Epoch 76/1000\n",
      "43/61 [====================>.........] - ETA: 0s - loss: 0.8788 - accuracy: 0.6835\n",
      "Epoch 76: saving model to model/keypoint_classifier\\keypoint_classifier.keras\n",
      "61/61 [==============================] - 0s 4ms/step - loss: 0.8818 - accuracy: 0.6833 - val_loss: 0.4602 - val_accuracy: 0.9259\n",
      "Epoch 77/1000\n",
      "42/61 [===================>..........] - ETA: 0s - loss: 0.8717 - accuracy: 0.6882\n",
      "Epoch 77: saving model to model/keypoint_classifier\\keypoint_classifier.keras\n",
      "61/61 [==============================] - 0s 4ms/step - loss: 0.8801 - accuracy: 0.6880 - val_loss: 0.4832 - val_accuracy: 0.9193\n",
      "Epoch 78/1000\n",
      "43/61 [====================>.........] - ETA: 0s - loss: 0.9086 - accuracy: 0.6773\n",
      "Epoch 78: saving model to model/keypoint_classifier\\keypoint_classifier.keras\n",
      "61/61 [==============================] - 0s 4ms/step - loss: 0.9086 - accuracy: 0.6764 - val_loss: 0.4955 - val_accuracy: 0.9225\n",
      "Epoch 79/1000\n",
      "47/61 [======================>.......] - ETA: 0s - loss: 0.8692 - accuracy: 0.6917\n",
      "Epoch 79: saving model to model/keypoint_classifier\\keypoint_classifier.keras\n",
      "61/61 [==============================] - 0s 4ms/step - loss: 0.8713 - accuracy: 0.6897 - val_loss: 0.4687 - val_accuracy: 0.9275\n",
      "Epoch 80/1000\n",
      "46/61 [=====================>........] - ETA: 0s - loss: 0.9023 - accuracy: 0.6822\n",
      "Epoch 80: saving model to model/keypoint_classifier\\keypoint_classifier.keras\n",
      "61/61 [==============================] - 0s 4ms/step - loss: 0.8995 - accuracy: 0.6849 - val_loss: 0.4956 - val_accuracy: 0.9213\n",
      "Epoch 81/1000\n",
      "46/61 [=====================>........] - ETA: 0s - loss: 0.8794 - accuracy: 0.6858\n",
      "Epoch 81: saving model to model/keypoint_classifier\\keypoint_classifier.keras\n",
      "61/61 [==============================] - 0s 4ms/step - loss: 0.8895 - accuracy: 0.6854 - val_loss: 0.4768 - val_accuracy: 0.9217\n",
      "Epoch 82/1000\n",
      "47/61 [======================>.......] - ETA: 0s - loss: 0.8566 - accuracy: 0.6913\n",
      "Epoch 82: saving model to model/keypoint_classifier\\keypoint_classifier.keras\n",
      "61/61 [==============================] - 0s 4ms/step - loss: 0.8547 - accuracy: 0.6910 - val_loss: 0.4641 - val_accuracy: 0.9283\n",
      "Epoch 83/1000\n",
      "49/61 [=======================>......] - ETA: 0s - loss: 0.8714 - accuracy: 0.6885\n",
      "Epoch 83: saving model to model/keypoint_classifier\\keypoint_classifier.keras\n",
      "61/61 [==============================] - 0s 4ms/step - loss: 0.8663 - accuracy: 0.6890 - val_loss: 0.4743 - val_accuracy: 0.9193\n",
      "Epoch 84/1000\n",
      "45/61 [=====================>........] - ETA: 0s - loss: 0.8956 - accuracy: 0.6901\n",
      "Epoch 84: saving model to model/keypoint_classifier\\keypoint_classifier.keras\n",
      "61/61 [==============================] - 0s 4ms/step - loss: 0.8846 - accuracy: 0.6960 - val_loss: 0.4687 - val_accuracy: 0.9256\n",
      "Epoch 85/1000\n",
      "46/61 [=====================>........] - ETA: 0s - loss: 0.8624 - accuracy: 0.6907\n",
      "Epoch 85: saving model to model/keypoint_classifier\\keypoint_classifier.keras\n",
      "61/61 [==============================] - 0s 4ms/step - loss: 0.8598 - accuracy: 0.6927 - val_loss: 0.4681 - val_accuracy: 0.9329\n",
      "Epoch 86/1000\n",
      "46/61 [=====================>........] - ETA: 0s - loss: 0.8665 - accuracy: 0.6992\n",
      "Epoch 86: saving model to model/keypoint_classifier\\keypoint_classifier.keras\n",
      "61/61 [==============================] - 0s 4ms/step - loss: 0.8770 - accuracy: 0.6932 - val_loss: 0.4674 - val_accuracy: 0.9287\n",
      "Epoch 87/1000\n",
      "46/61 [=====================>........] - ETA: 0s - loss: 0.8956 - accuracy: 0.6861\n",
      "Epoch 87: saving model to model/keypoint_classifier\\keypoint_classifier.keras\n",
      "61/61 [==============================] - 0s 4ms/step - loss: 0.8838 - accuracy: 0.6885 - val_loss: 0.4723 - val_accuracy: 0.9298\n",
      "Epoch 88/1000\n",
      "45/61 [=====================>........] - ETA: 0s - loss: 0.8806 - accuracy: 0.6894\n",
      "Epoch 88: saving model to model/keypoint_classifier\\keypoint_classifier.keras\n",
      "61/61 [==============================] - 0s 4ms/step - loss: 0.8845 - accuracy: 0.6907 - val_loss: 0.4964 - val_accuracy: 0.9228\n",
      "Epoch 89/1000\n",
      "54/61 [=========================>....] - ETA: 0s - loss: 0.8639 - accuracy: 0.6988\n",
      "Epoch 89: saving model to model/keypoint_classifier\\keypoint_classifier.keras\n",
      "61/61 [==============================] - 0s 4ms/step - loss: 0.8664 - accuracy: 0.6989 - val_loss: 0.4808 - val_accuracy: 0.9256\n",
      "Epoch 90/1000\n",
      "45/61 [=====================>........] - ETA: 0s - loss: 0.8705 - accuracy: 0.6913\n",
      "Epoch 90: saving model to model/keypoint_classifier\\keypoint_classifier.keras\n",
      "61/61 [==============================] - 0s 4ms/step - loss: 0.8674 - accuracy: 0.6945 - val_loss: 0.4701 - val_accuracy: 0.9306\n",
      "Epoch 91/1000\n",
      "45/61 [=====================>........] - ETA: 0s - loss: 0.8678 - accuracy: 0.7028\n",
      "Epoch 91: saving model to model/keypoint_classifier\\keypoint_classifier.keras\n",
      "61/61 [==============================] - 0s 4ms/step - loss: 0.8705 - accuracy: 0.7031 - val_loss: 0.4657 - val_accuracy: 0.9209\n",
      "Epoch 92/1000\n",
      "46/61 [=====================>........] - ETA: 0s - loss: 0.8705 - accuracy: 0.6889\n",
      "Epoch 92: saving model to model/keypoint_classifier\\keypoint_classifier.keras\n",
      "61/61 [==============================] - 0s 4ms/step - loss: 0.8739 - accuracy: 0.6866 - val_loss: 0.4515 - val_accuracy: 0.9232\n",
      "Epoch 93/1000\n",
      "45/61 [=====================>........] - ETA: 0s - loss: 0.8563 - accuracy: 0.6979\n",
      "Epoch 93: saving model to model/keypoint_classifier\\keypoint_classifier.keras\n",
      "61/61 [==============================] - 0s 4ms/step - loss: 0.8619 - accuracy: 0.6961 - val_loss: 0.4632 - val_accuracy: 0.9228\n",
      "Epoch 94/1000\n",
      "47/61 [======================>.......] - ETA: 0s - loss: 0.8556 - accuracy: 0.7010\n",
      "Epoch 94: saving model to model/keypoint_classifier\\keypoint_classifier.keras\n",
      "61/61 [==============================] - 0s 4ms/step - loss: 0.8601 - accuracy: 0.6993 - val_loss: 0.4706 - val_accuracy: 0.9151\n",
      "Epoch 95/1000\n",
      "45/61 [=====================>........] - ETA: 0s - loss: 0.8587 - accuracy: 0.7042\n",
      "Epoch 95: saving model to model/keypoint_classifier\\keypoint_classifier.keras\n",
      "61/61 [==============================] - 0s 4ms/step - loss: 0.8613 - accuracy: 0.7043 - val_loss: 0.4521 - val_accuracy: 0.9201\n",
      "Epoch 96/1000\n",
      "45/61 [=====================>........] - ETA: 0s - loss: 0.8548 - accuracy: 0.7007\n",
      "Epoch 96: saving model to model/keypoint_classifier\\keypoint_classifier.keras\n",
      "61/61 [==============================] - 0s 4ms/step - loss: 0.8636 - accuracy: 0.6969 - val_loss: 0.4532 - val_accuracy: 0.9240\n",
      "Epoch 97/1000\n",
      "45/61 [=====================>........] - ETA: 0s - loss: 0.8467 - accuracy: 0.7075\n",
      "Epoch 97: saving model to model/keypoint_classifier\\keypoint_classifier.keras\n",
      "61/61 [==============================] - 0s 4ms/step - loss: 0.8455 - accuracy: 0.7093 - val_loss: 0.4869 - val_accuracy: 0.8988\n",
      "Epoch 98/1000\n",
      "46/61 [=====================>........] - ETA: 0s - loss: 0.8780 - accuracy: 0.6955\n",
      "Epoch 98: saving model to model/keypoint_classifier\\keypoint_classifier.keras\n",
      "61/61 [==============================] - 0s 4ms/step - loss: 0.8636 - accuracy: 0.7039 - val_loss: 0.4609 - val_accuracy: 0.9259\n",
      "Epoch 99/1000\n",
      "46/61 [=====================>........] - ETA: 0s - loss: 0.8388 - accuracy: 0.7053\n",
      "Epoch 99: saving model to model/keypoint_classifier\\keypoint_classifier.keras\n",
      "61/61 [==============================] - 0s 4ms/step - loss: 0.8478 - accuracy: 0.7033 - val_loss: 0.4716 - val_accuracy: 0.9190\n",
      "Epoch 100/1000\n",
      "47/61 [======================>.......] - ETA: 0s - loss: 0.8459 - accuracy: 0.7050\n",
      "Epoch 100: saving model to model/keypoint_classifier\\keypoint_classifier.keras\n",
      "61/61 [==============================] - 0s 4ms/step - loss: 0.8482 - accuracy: 0.7079 - val_loss: 0.4873 - val_accuracy: 0.9131\n",
      "Epoch 101/1000\n",
      "45/61 [=====================>........] - ETA: 0s - loss: 0.8486 - accuracy: 0.7035\n",
      "Epoch 101: saving model to model/keypoint_classifier\\keypoint_classifier.keras\n",
      "61/61 [==============================] - 0s 4ms/step - loss: 0.8513 - accuracy: 0.7048 - val_loss: 0.4988 - val_accuracy: 0.9046\n",
      "Epoch 102/1000\n",
      "46/61 [=====================>........] - ETA: 0s - loss: 0.8657 - accuracy: 0.6940\n",
      "Epoch 102: saving model to model/keypoint_classifier\\keypoint_classifier.keras\n",
      "61/61 [==============================] - 0s 4ms/step - loss: 0.8672 - accuracy: 0.6969 - val_loss: 0.4717 - val_accuracy: 0.9271\n",
      "Epoch 103/1000\n",
      "46/61 [=====================>........] - ETA: 0s - loss: 0.8523 - accuracy: 0.7079\n",
      "Epoch 103: saving model to model/keypoint_classifier\\keypoint_classifier.keras\n",
      "61/61 [==============================] - 0s 4ms/step - loss: 0.8499 - accuracy: 0.7056 - val_loss: 0.4757 - val_accuracy: 0.9162\n",
      "Epoch 104/1000\n",
      "55/61 [==========================>...] - ETA: 0s - loss: 0.8665 - accuracy: 0.6893\n",
      "Epoch 104: saving model to model/keypoint_classifier\\keypoint_classifier.keras\n",
      "61/61 [==============================] - 0s 4ms/step - loss: 0.8699 - accuracy: 0.6881 - val_loss: 0.4884 - val_accuracy: 0.9217\n",
      "Epoch 105/1000\n",
      "44/61 [====================>.........] - ETA: 0s - loss: 0.8404 - accuracy: 0.7063\n",
      "Epoch 105: saving model to model/keypoint_classifier\\keypoint_classifier.keras\n",
      "61/61 [==============================] - 0s 4ms/step - loss: 0.8498 - accuracy: 0.7038 - val_loss: 0.4754 - val_accuracy: 0.9131\n",
      "Epoch 106/1000\n",
      "45/61 [=====================>........] - ETA: 0s - loss: 0.8285 - accuracy: 0.7082\n",
      "Epoch 106: saving model to model/keypoint_classifier\\keypoint_classifier.keras\n",
      "61/61 [==============================] - 0s 4ms/step - loss: 0.8325 - accuracy: 0.7058 - val_loss: 0.4582 - val_accuracy: 0.9186\n",
      "Epoch 107/1000\n",
      "44/61 [====================>.........] - ETA: 0s - loss: 0.8418 - accuracy: 0.7067\n",
      "Epoch 107: saving model to model/keypoint_classifier\\keypoint_classifier.keras\n",
      "61/61 [==============================] - 0s 4ms/step - loss: 0.8410 - accuracy: 0.7055 - val_loss: 0.4665 - val_accuracy: 0.9166\n",
      "Epoch 108/1000\n",
      "45/61 [=====================>........] - ETA: 0s - loss: 0.8409 - accuracy: 0.7043\n",
      "Epoch 108: saving model to model/keypoint_classifier\\keypoint_classifier.keras\n",
      "61/61 [==============================] - 0s 4ms/step - loss: 0.8408 - accuracy: 0.7056 - val_loss: 0.4616 - val_accuracy: 0.9228\n",
      "Epoch 109/1000\n",
      "46/61 [=====================>........] - ETA: 0s - loss: 0.8310 - accuracy: 0.7126\n",
      "Epoch 109: saving model to model/keypoint_classifier\\keypoint_classifier.keras\n",
      "61/61 [==============================] - 0s 4ms/step - loss: 0.8369 - accuracy: 0.7109 - val_loss: 0.4722 - val_accuracy: 0.9100\n",
      "Epoch 110/1000\n",
      "40/61 [==================>...........] - ETA: 0s - loss: 0.8484 - accuracy: 0.7033\n",
      "Epoch 110: saving model to model/keypoint_classifier\\keypoint_classifier.keras\n",
      "61/61 [==============================] - 0s 4ms/step - loss: 0.8328 - accuracy: 0.7064 - val_loss: 0.4444 - val_accuracy: 0.9306\n",
      "Epoch 111/1000\n",
      "44/61 [====================>.........] - ETA: 0s - loss: 0.8450 - accuracy: 0.7193\n",
      "Epoch 111: saving model to model/keypoint_classifier\\keypoint_classifier.keras\n",
      "61/61 [==============================] - 0s 4ms/step - loss: 0.8304 - accuracy: 0.7207 - val_loss: 0.4259 - val_accuracy: 0.9279\n",
      "Epoch 112/1000\n",
      "45/61 [=====================>........] - ETA: 0s - loss: 0.8316 - accuracy: 0.7141\n",
      "Epoch 112: saving model to model/keypoint_classifier\\keypoint_classifier.keras\n",
      "61/61 [==============================] - 0s 4ms/step - loss: 0.8416 - accuracy: 0.7095 - val_loss: 0.4650 - val_accuracy: 0.9225\n",
      "Epoch 113/1000\n",
      "46/61 [=====================>........] - ETA: 0s - loss: 0.8252 - accuracy: 0.7191\n",
      "Epoch 113: saving model to model/keypoint_classifier\\keypoint_classifier.keras\n",
      "61/61 [==============================] - 0s 4ms/step - loss: 0.8277 - accuracy: 0.7174 - val_loss: 0.4470 - val_accuracy: 0.9205\n",
      "Epoch 114/1000\n",
      "45/61 [=====================>........] - ETA: 0s - loss: 0.8271 - accuracy: 0.7144\n",
      "Epoch 114: saving model to model/keypoint_classifier\\keypoint_classifier.keras\n",
      "61/61 [==============================] - 0s 4ms/step - loss: 0.8282 - accuracy: 0.7136 - val_loss: 0.4706 - val_accuracy: 0.9089\n",
      "Epoch 115/1000\n",
      "47/61 [======================>.......] - ETA: 0s - loss: 0.8416 - accuracy: 0.7066\n",
      "Epoch 115: saving model to model/keypoint_classifier\\keypoint_classifier.keras\n",
      "61/61 [==============================] - 0s 4ms/step - loss: 0.8456 - accuracy: 0.7049 - val_loss: 0.4742 - val_accuracy: 0.9166\n",
      "Epoch 116/1000\n",
      "45/61 [=====================>........] - ETA: 0s - loss: 0.8502 - accuracy: 0.6988\n",
      "Epoch 116: saving model to model/keypoint_classifier\\keypoint_classifier.keras\n",
      "61/61 [==============================] - 0s 4ms/step - loss: 0.8434 - accuracy: 0.7055 - val_loss: 0.4977 - val_accuracy: 0.9058\n",
      "Epoch 117/1000\n",
      "44/61 [====================>.........] - ETA: 0s - loss: 0.8524 - accuracy: 0.6994\n",
      "Epoch 117: saving model to model/keypoint_classifier\\keypoint_classifier.keras\n",
      "61/61 [==============================] - 0s 4ms/step - loss: 0.8535 - accuracy: 0.7005 - val_loss: 0.4580 - val_accuracy: 0.9209\n",
      "Epoch 118/1000\n",
      "56/61 [==========================>...] - ETA: 0s - loss: 0.8230 - accuracy: 0.7123\n",
      "Epoch 118: saving model to model/keypoint_classifier\\keypoint_classifier.keras\n",
      "61/61 [==============================] - 0s 4ms/step - loss: 0.8210 - accuracy: 0.7144 - val_loss: 0.4497 - val_accuracy: 0.9236\n",
      "Epoch 119/1000\n",
      "47/61 [======================>.......] - ETA: 0s - loss: 0.8317 - accuracy: 0.7111\n",
      "Epoch 119: saving model to model/keypoint_classifier\\keypoint_classifier.keras\n",
      "61/61 [==============================] - 0s 4ms/step - loss: 0.8316 - accuracy: 0.7109 - val_loss: 0.4761 - val_accuracy: 0.9100\n",
      "Epoch 120/1000\n",
      "46/61 [=====================>........] - ETA: 0s - loss: 0.8304 - accuracy: 0.7174\n",
      "Epoch 120: saving model to model/keypoint_classifier\\keypoint_classifier.keras\n",
      "61/61 [==============================] - 0s 4ms/step - loss: 0.8303 - accuracy: 0.7166 - val_loss: 0.4625 - val_accuracy: 0.9139\n",
      "Epoch 121/1000\n",
      "46/61 [=====================>........] - ETA: 0s - loss: 0.8379 - accuracy: 0.7050\n",
      "Epoch 121: saving model to model/keypoint_classifier\\keypoint_classifier.keras\n",
      "61/61 [==============================] - 0s 4ms/step - loss: 0.8375 - accuracy: 0.7046 - val_loss: 0.4848 - val_accuracy: 0.8992\n",
      "Epoch 122/1000\n",
      "47/61 [======================>.......] - ETA: 0s - loss: 0.8182 - accuracy: 0.7151\n",
      "Epoch 122: saving model to model/keypoint_classifier\\keypoint_classifier.keras\n",
      "61/61 [==============================] - 0s 4ms/step - loss: 0.8169 - accuracy: 0.7177 - val_loss: 0.4541 - val_accuracy: 0.9248\n",
      "Epoch 123/1000\n",
      "47/61 [======================>.......] - ETA: 0s - loss: 0.8269 - accuracy: 0.7207\n",
      "Epoch 123: saving model to model/keypoint_classifier\\keypoint_classifier.keras\n",
      "61/61 [==============================] - 0s 4ms/step - loss: 0.8227 - accuracy: 0.7177 - val_loss: 0.4651 - val_accuracy: 0.9081\n",
      "Epoch 124/1000\n",
      "47/61 [======================>.......] - ETA: 0s - loss: 0.8176 - accuracy: 0.7106\n",
      "Epoch 124: saving model to model/keypoint_classifier\\keypoint_classifier.keras\n",
      "61/61 [==============================] - 0s 4ms/step - loss: 0.8195 - accuracy: 0.7097 - val_loss: 0.4575 - val_accuracy: 0.9081\n",
      "Epoch 125/1000\n",
      "44/61 [====================>.........] - ETA: 0s - loss: 0.7976 - accuracy: 0.7218\n",
      "Epoch 125: saving model to model/keypoint_classifier\\keypoint_classifier.keras\n",
      "61/61 [==============================] - 0s 4ms/step - loss: 0.8057 - accuracy: 0.7217 - val_loss: 0.4648 - val_accuracy: 0.9166\n",
      "Epoch 126/1000\n",
      "45/61 [=====================>........] - ETA: 0s - loss: 0.8223 - accuracy: 0.7115\n",
      "Epoch 126: saving model to model/keypoint_classifier\\keypoint_classifier.keras\n",
      "61/61 [==============================] - 0s 4ms/step - loss: 0.8180 - accuracy: 0.7131 - val_loss: 0.4849 - val_accuracy: 0.8887\n",
      "Epoch 127/1000\n",
      "46/61 [=====================>........] - ETA: 0s - loss: 0.8314 - accuracy: 0.7182\n",
      "Epoch 127: saving model to model/keypoint_classifier\\keypoint_classifier.keras\n",
      "61/61 [==============================] - 0s 4ms/step - loss: 0.8286 - accuracy: 0.7158 - val_loss: 0.4594 - val_accuracy: 0.9066\n",
      "Epoch 128/1000\n",
      "45/61 [=====================>........] - ETA: 0s - loss: 0.8549 - accuracy: 0.7036\n",
      "Epoch 128: saving model to model/keypoint_classifier\\keypoint_classifier.keras\n",
      "61/61 [==============================] - 0s 4ms/step - loss: 0.8305 - accuracy: 0.7126 - val_loss: 0.4773 - val_accuracy: 0.9073\n",
      "Epoch 129/1000\n",
      "45/61 [=====================>........] - ETA: 0s - loss: 0.7996 - accuracy: 0.7262\n",
      "Epoch 129: saving model to model/keypoint_classifier\\keypoint_classifier.keras\n",
      "61/61 [==============================] - 0s 4ms/step - loss: 0.8159 - accuracy: 0.7201 - val_loss: 0.5000 - val_accuracy: 0.8938\n",
      "Epoch 130/1000\n",
      "45/61 [=====================>........] - ETA: 0s - loss: 0.8199 - accuracy: 0.7146\n",
      "Epoch 130: saving model to model/keypoint_classifier\\keypoint_classifier.keras\n",
      "61/61 [==============================] - 0s 4ms/step - loss: 0.8176 - accuracy: 0.7153 - val_loss: 0.4598 - val_accuracy: 0.8934\n",
      "Epoch 131/1000\n",
      "56/61 [==========================>...] - ETA: 0s - loss: 0.8228 - accuracy: 0.7175\n",
      "Epoch 131: saving model to model/keypoint_classifier\\keypoint_classifier.keras\n",
      "61/61 [==============================] - 0s 4ms/step - loss: 0.8214 - accuracy: 0.7172 - val_loss: 0.4835 - val_accuracy: 0.8930\n",
      "Epoch 131: early stopping\n"
     ]
    },
    {
     "data": {
      "text/plain": [
       "<keras.callbacks.History at 0x2122efa8e80>"
      ]
     },
     "execution_count": 11,
     "metadata": {},
     "output_type": "execute_result"
    }
   ],
   "source": [
    "# Update number of classes\n",
    "NUM_CLASSES = 9  # Update to the correct number of classes\n",
    "\n",
    "# Rebuild model with correct number of output classes\n",
    "model = tf.keras.models.Sequential([\n",
    "    tf.keras.layers.Input((21 * 2, )),\n",
    "    tf.keras.layers.Dropout(0.2),\n",
    "    tf.keras.layers.Dense(20, activation='relu'),\n",
    "    tf.keras.layers.Dropout(0.4),\n",
    "    tf.keras.layers.Dense(10, activation='relu'),\n",
    "    tf.keras.layers.Dense(NUM_CLASSES, activation='softmax')\n",
    "])\n",
    "\n",
    "# Compile model\n",
    "model.compile(\n",
    "    optimizer='adam',\n",
    "    loss='sparse_categorical_crossentropy',\n",
    "    metrics=['accuracy']\n",
    ")\n",
    "\n",
    "# Train model\n",
    "model.fit(\n",
    "    X_train,\n",
    "    y_train,\n",
    "    epochs=1000,\n",
    "    batch_size=128,\n",
    "    validation_data=(X_test, y_test),\n",
    "    callbacks=[cp_callback, es_callback]\n",
    ")"
   ]
  },
  {
   "cell_type": "code",
   "execution_count": 12,
   "metadata": {},
   "outputs": [],
   "source": [
    "# Loading a saved model\n",
    "model = tf.keras.models.load_model(model_save_path)"
   ]
  },
  {
   "cell_type": "code",
   "execution_count": 13,
   "metadata": {
    "execution": {
     "iopub.execute_input": "2025-05-04T08:04:15.294442Z",
     "iopub.status.busy": "2025-05-04T08:04:15.294442Z",
     "iopub.status.idle": "2025-05-04T08:04:15.407041Z",
     "shell.execute_reply": "2025-05-04T08:04:15.407041Z"
    }
   },
   "outputs": [
    {
     "name": "stdout",
     "output_type": "stream",
     "text": [
      "21/21 [==============================] - 0s 2ms/step - loss: 0.4835 - accuracy: 0.8930\n"
     ]
    }
   ],
   "source": [
    "# model evaluation\n",
    "val_loss, val_acc = model.evaluate(X_test, y_test, batch_size=128)"
   ]
  },
  {
   "cell_type": "code",
   "execution_count": 14,
   "metadata": {},
   "outputs": [
    {
     "name": "stdout",
     "output_type": "stream",
     "text": [
      "81/81 [==============================] - 0s 2ms/step\n"
     ]
    },
    {
     "data": {
      "image/png": "[encoded data removed]",
      "text/plain": [
       "<Figure size 1200x800 with 2 Axes>"
      ]
     },
     "metadata": {},
     "output_type": "display_data"
    },
    {
     "name": "stdout",
     "output_type": "stream",
     "text": [
      "\n",
      "Classification Report:\n",
      "              precision    recall  f1-score   support\n",
      "\n",
      "        Five       0.98      0.66      0.79       405\n",
      "         One       0.81      0.99      0.89       380\n",
      "         Two       0.99      0.93      0.96       380\n",
      "       Three       0.90      0.96      0.93       393\n",
      "        Four       0.76      0.83      0.79       313\n",
      "         Six       0.94      0.96      0.95       356\n",
      "       Seven       0.90      0.93      0.91       352\n",
      "\n",
      "    accuracy                           0.89      2579\n",
      "   macro avg       0.90      0.89      0.89      2579\n",
      "weighted avg       0.90      0.89      0.89      2579\n",
      "\n"
     ]
    }
   ],
   "source": [
    "# Import additional required libraries\n",
    "import seaborn as sns\n",
    "from sklearn.metrics import confusion_matrix, classification_report\n",
    "import matplotlib.pyplot as plt\n",
    "\n",
    "def visualize_results(model, X_test, y_test):\n",
    "    # Make predictions\n",
    "    y_pred = model.predict(X_test)\n",
    "    y_pred_classes = np.argmax(y_pred, axis=1)\n",
    "    \n",
    "    # Load labels\n",
    "    labels = []\n",
    "    with open('model/keypoint_classifier/keypoint_classifier_label.csv', \n",
    "              encoding='utf-8-sig') as f:\n",
    "        for row in csv.reader(f):\n",
    "            labels.append(row[0])\n",
    "    \n",
    "    # Use all class indices for consistent labeling\n",
    "    class_indices = list(range(len(labels)))\n",
    "    \n",
    "    # Create confusion matrix\n",
    "    cm = confusion_matrix(y_test, y_pred_classes, labels=class_indices)\n",
    "    \n",
    "    # Plot confusion matrix\n",
    "    plt.figure(figsize=(12, 8))\n",
    "    sns.heatmap(cm, \n",
    "                annot=True, \n",
    "                fmt='d', \n",
    "                cmap='Blues',\n",
    "                xticklabels=labels,\n",
    "                yticklabels=labels)\n",
    "    \n",
    "    plt.title('Hand Gesture Recognition - Confusion Matrix')\n",
    "    plt.xlabel('Predicted Label')\n",
    "    plt.ylabel('True Label')\n",
    "    plt.show()\n",
    "    \n",
    "    # Print classification report\n",
    "    print(\"\\nClassification Report:\")\n",
    "    print(classification_report(y_test, y_pred_classes, labels=class_indices, target_names=labels))\n",
    "\n",
    "# Generate and display confusion matrix\n",
    "visualize_results(model, X_test, y_test)"
   ]
  },
  {
   "cell_type": "code",
   "execution_count": 15,
   "metadata": {},
   "outputs": [
    {
     "name": "stdout",
     "output_type": "stream",
     "text": [
      "81/81 [==============================] - 0s 1ms/step\n"
     ]
    }
   ],
   "source": [
    "# Save visualization results\n",
    "def save_results(model, X_test, y_test, save_path='model/evaluation/'):\n",
    "    import os\n",
    "    \n",
    "    # Create directory if it doesn't exist\n",
    "    os.makedirs(save_path, exist_ok=True)\n",
    "    \n",
    "    # Generate predictions\n",
    "    y_pred = model.predict(X_test)\n",
    "    y_pred_classes = np.argmax(y_pred, axis=1)\n",
    "    \n",
    "    # Load labels\n",
    "    labels = []\n",
    "    with open('model/keypoint_classifier/keypoint_classifier_label.csv', \n",
    "              encoding='utf-8-sig') as f:\n",
    "        for row in csv.reader(f):\n",
    "            labels.append(row[0])\n",
    "    \n",
    "    # Use all class indices for consistent labeling\n",
    "    class_indices = list(range(len(labels)))\n",
    "    \n",
    "    # Create and save confusion matrix\n",
    "    cm = confusion_matrix(y_test, y_pred_classes, labels=class_indices)\n",
    "    plt.figure(figsize=(12, 8))\n",
    "    sns.heatmap(cm, \n",
    "                annot=True, \n",
    "                fmt='d', \n",
    "                cmap='Blues',\n",
    "                xticklabels=labels,\n",
    "                yticklabels=labels)\n",
    "    \n",
    "    plt.title('Hand Gesture Recognition - Confusion Matrix')\n",
    "    plt.xlabel('Predicted Label')\n",
    "    plt.ylabel('True Label')\n",
    "    plt.savefig(os.path.join(save_path, 'confusion_matrix.png'), \n",
    "                bbox_inches='tight', \n",
    "                dpi=300)\n",
    "    plt.close()\n",
    "    \n",
    "    # Save classification report\n",
    "    with open(os.path.join(save_path, 'classification_report.txt'), 'w') as f:\n",
    "        f.write(\"Classification Report:\\n\")\n",
    "        f.write(classification_report(y_test, y_pred_classes, labels=class_indices, target_names=labels))\n",
    "\n",
    "# Save the results\n",
    "save_results(model, X_test, y_test)"
   ]
  },
  {
   "cell_type": "code",
   "execution_count": 16,
   "metadata": {
    "execution": {
     "iopub.execute_input": "2025-05-04T08:04:15.410547Z",
     "iopub.status.busy": "2025-05-04T08:04:15.409519Z",
     "iopub.status.idle": "2025-05-04T08:04:15.617854Z",
     "shell.execute_reply": "2025-05-04T08:04:15.617854Z"
    }
   },
   "outputs": [],
   "source": [
    "# Loading a saved model\n",
    "model = tf.keras.models.load_model(model_save_path)"
   ]
  },
  {
   "cell_type": "code",
   "execution_count": 17,
   "metadata": {
    "execution": {
     "iopub.execute_input": "2025-05-04T08:04:15.618864Z",
     "iopub.status.busy": "2025-05-04T08:04:15.618864Z",
     "iopub.status.idle": "2025-05-04T08:04:15.753171Z",
     "shell.execute_reply": "2025-05-04T08:04:15.752661Z"
    }
   },
   "outputs": [
    {
     "name": "stdout",
     "output_type": "stream",
     "text": [
      "1/1 [==============================] - 0s 60ms/step\n",
      "[1.3143102e-03 7.0995402e-01 1.7897403e-01 3.9632998e-02 7.7324980e-03\n",
      " 2.4669038e-02 3.7716854e-02 3.1769262e-06 3.1184961e-06]\n",
      "1\n"
     ]
    }
   ],
   "source": [
    "# Reasoning test\n",
    "predict_result = model.predict(np.array([X_test[0]]))\n",
    "print(np.squeeze(predict_result))\n",
    "print(np.argmax(np.squeeze(predict_result)))"
   ]
  },
  {
   "cell_type": "markdown",
   "metadata": {},
   "source": [
    "# Mixed rows"
   ]
  },
  {
   "cell_type": "code",
   "execution_count": 18,
   "metadata": {
    "execution": {
     "iopub.execute_input": "2025-05-04T08:04:15.753171Z",
     "iopub.status.busy": "2025-05-04T08:04:15.753171Z",
     "iopub.status.idle": "2025-05-04T08:04:17.100265Z",
     "shell.execute_reply": "2025-05-04T08:04:17.098251Z"
    }
   },
   "outputs": [
    {
     "name": "stdout",
     "output_type": "stream",
     "text": [
      "81/81 [==============================] - 0s 1ms/step\n"
     ]
    },
    {
     "data": {
      "image/png": "[encoded data removed]",
      "text/plain": [
       "<Figure size 700x600 with 2 Axes>"
      ]
     },
     "metadata": {},
     "output_type": "display_data"
    },
    {
     "name": "stdout",
     "output_type": "stream",
     "text": [
      "Classification Report\n",
      "              precision    recall  f1-score   support\n",
      "\n",
      "           0       0.98      0.66      0.79       405\n",
      "           1       0.81      0.99      0.89       380\n",
      "           2       0.99      0.93      0.96       380\n",
      "           3       0.90      0.96      0.93       393\n",
      "           4       0.76      0.83      0.79       313\n",
      "           5       0.94      0.96      0.95       356\n",
      "           6       0.90      0.93      0.91       352\n",
      "\n",
      "    accuracy                           0.89      2579\n",
      "   macro avg       0.90      0.89      0.89      2579\n",
      "weighted avg       0.90      0.89      0.89      2579\n",
      "\n"
     ]
    }
   ],
   "source": [
    "import pandas as pd\n",
    "import seaborn as sns\n",
    "import matplotlib.pyplot as plt\n",
    "from sklearn.metrics import confusion_matrix, classification_report\n",
    "\n",
    "def print_confusion_matrix(y_true, y_pred, report=True):\n",
    "    labels = sorted(list(set(y_true)))\n",
    "    cmx_data = confusion_matrix(y_true, y_pred, labels=labels)\n",
    "    \n",
    "    df_cmx = pd.DataFrame(cmx_data, index=labels, columns=labels)\n",
    " \n",
    "    fig, ax = plt.subplots(figsize=(7, 6))\n",
    "    sns.heatmap(df_cmx, annot=True, fmt='g' ,square=False)\n",
    "    ax.set_ylim(len(set(y_true)), 0)\n",
    "    plt.show()\n",
    "    \n",
    "    if report:\n",
    "        print('Classification Report')\n",
    "        print(classification_report(y_test, y_pred))\n",
    "\n",
    "Y_pred = model.predict(X_test)\n",
    "y_pred = np.argmax(Y_pred, axis=1)\n",
    "\n",
    "print_confusion_matrix(y_test, y_pred)"
   ]
  },
  {
   "cell_type": "code",
   "execution_count": 19,
   "metadata": {},
   "outputs": [
    {
     "name": "stdout",
     "output_type": "stream",
     "text": [
      "81/81 [==============================] - 0s 1ms/step\n"
     ]
    }
   ],
   "source": [
    "def analyze_misclassifications(y_true, y_pred, save_dir='model/evaluation/'):\n",
    "    \"\"\"Analyze and display misclassifications with saved visualizations\"\"\"\n",
    "    import os\n",
    "    \n",
    "    # Create directory if it doesn't exist\n",
    "    os.makedirs(save_dir, exist_ok=True)\n",
    "    \n",
    "    # Load gesture labels\n",
    "    labels = []\n",
    "    with open('model/keypoint_classifier/keypoint_classifier_label.csv', \n",
    "              encoding='utf-8-sig') as f:\n",
    "        for row in csv.reader(f):\n",
    "            labels.append(row[0])\n",
    "    \n",
    "    # Create misclassification matrix\n",
    "    misclass_matrix = np.zeros((len(labels), len(labels)))\n",
    "    for true_idx, pred_idx in zip(y_true, y_pred):\n",
    "        if true_idx != pred_idx:\n",
    "            misclass_matrix[true_idx][pred_idx] += 1\n",
    "    \n",
    "    # Create DataFrame\n",
    "    df_misclass = pd.DataFrame(\n",
    "        misclass_matrix,\n",
    "        index=labels,\n",
    "        columns=labels\n",
    "    )\n",
    "    \n",
    "    # Save heatmap visualization\n",
    "    plt.figure(figsize=(12, 8))\n",
    "    sns.heatmap(df_misclass, \n",
    "                annot=True,\n",
    "                fmt='g',\n",
    "                cmap='Blues',\n",
    "                xticklabels=labels,\n",
    "                yticklabels=labels)\n",
    "    \n",
    "    plt.title('Hand Gesture Misclassifications')\n",
    "    plt.xlabel('Predicted Label')\n",
    "    plt.ylabel('True Label')\n",
    "    plt.tight_layout()\n",
    "    \n",
    "    # Save heatmap\n",
    "    plt.savefig(os.path.join(save_dir, 'misclassification_matrix.png'), dpi=300, bbox_inches='tight')\n",
    "    plt.close()\n",
    "    \n",
    "    # Create bar plot\n",
    "    plt.figure(figsize=(12, 6))\n",
    "    misclass_counts = [(i, j, misclass_matrix[i][j]) \n",
    "                      for i in range(len(labels)) \n",
    "                      for j in range(len(labels)) \n",
    "                      if i != j and misclass_matrix[i][j] > 0]\n",
    "    \n",
    "    # Sort by count\n",
    "    misclass_counts.sort(key=lambda x: x[2], reverse=True)\n",
    "    \n",
    "    # Prepare data for bar plot\n",
    "    pairs = [f\"{labels[i]}->{labels[j]}\" for i, j, _ in misclass_counts]\n",
    "    counts = [count for _, _, count in misclass_counts]\n",
    "    \n",
    "    # Create bar plot\n",
    "    bars = plt.bar(pairs, counts)\n",
    "    plt.xticks(rotation=45, ha='right')\n",
    "    plt.title(\"Misclassification Distribution\")\n",
    "    plt.xlabel(\"True Label -> Predicted Label\")\n",
    "    plt.ylabel(\"Count\")\n",
    "    \n",
    "    # Add value labels\n",
    "    for bar in bars:\n",
    "        height = bar.get_height()\n",
    "        plt.text(bar.get_x() + bar.get_width()/2., height,\n",
    "                f'{int(height)}',\n",
    "                ha='center', va='bottom')\n",
    "    \n",
    "    plt.tight_layout()\n",
    "    \n",
    "    # Save bar plot\n",
    "    plt.savefig(os.path.join(save_dir, 'misclassification_distribution.png'), dpi=300, bbox_inches='tight')\n",
    "    plt.close()\n",
    "    \n",
    "    # Save numerical results to text file\n",
    "    with open(os.path.join(save_dir, 'misclassification_analysis.txt'), 'w') as f:\n",
    "        f.write(\"=== Misclassification Analysis ===\\n\\n\")\n",
    "        f.write(\"True Label\\tPredicted as\\tCount\\n\")\n",
    "        f.write(\"-\" * 40 + \"\\n\")\n",
    "        for i, j, count in misclass_counts:\n",
    "            f.write(f\"{labels[i]}\\t\\t{labels[j]}\\t\\t{int(count)}\\n\")\n",
    "\n",
    "# Run the analysis\n",
    "Y_pred = model.predict(X_test)\n",
    "y_pred = np.argmax(Y_pred, axis=1)\n",
    "analyze_misclassifications(y_test, y_pred)"
   ]
  },
  {
   "cell_type": "code",
   "execution_count": 20,
   "metadata": {},
   "outputs": [
    {
     "name": "stdout",
     "output_type": "stream",
     "text": [
      "81/81 [==============================] - 0s 2ms/step\n",
      "\n",
      "Class Distribution Analysis:\n",
      "--------------------------------------------------\n",
      "Class 'Five':\n",
      "  True samples: 405\n",
      "  Predicted samples: 271\n",
      "------------------------------\n",
      "Class 'One':\n",
      "  True samples: 380\n",
      "  Predicted samples: 465\n",
      "------------------------------\n",
      "Class 'Two':\n",
      "  True samples: 380\n",
      "  Predicted samples: 355\n",
      "------------------------------\n",
      "Class 'Three':\n",
      "  True samples: 393\n",
      "  Predicted samples: 419\n",
      "------------------------------\n",
      "Class 'Four':\n",
      "  True samples: 313\n",
      "  Predicted samples: 342\n",
      "------------------------------\n",
      "Class 'Six':\n",
      "  True samples: 356\n",
      "  Predicted samples: 364\n",
      "------------------------------\n",
      "Class 'Seven':\n",
      "  True samples: 352\n",
      "  Predicted samples: 363\n",
      "------------------------------\n"
     ]
    }
   ],
   "source": [
    "# Add after the visualize_results and save_results functions, before TF Lite conversion\n",
    "def analyze_class_distribution(y_true, y_pred, labels):\n",
    "    \"\"\"Analyze the distribution of classes in true and predicted data\"\"\"\n",
    "    print(\"\\nClass Distribution Analysis:\")\n",
    "    print(\"-\" * 50)\n",
    "    \n",
    "    for i, label in enumerate(labels):\n",
    "        true_count = np.sum(y_true == i)\n",
    "        pred_count = np.sum(y_pred == i)\n",
    "        print(f\"Class '{label}':\")\n",
    "        print(f\"  True samples: {true_count}\")\n",
    "        print(f\"  Predicted samples: {pred_count}\")\n",
    "        print(\"-\" * 30)\n",
    "\n",
    "# Run the analysis after model predictions\n",
    "Y_pred = model.predict(X_test)\n",
    "y_pred_classes = np.argmax(Y_pred, axis=1)\n",
    "\n",
    "# Load labels\n",
    "labels = []\n",
    "with open('model/keypoint_classifier/keypoint_classifier_label.csv', \n",
    "          encoding='utf-8-sig') as f:\n",
    "    for row in csv.reader(f):\n",
    "        labels.append(row[0])\n",
    "\n",
    "# Analyze class distribution\n",
    "analyze_class_distribution(y_test, y_pred_classes, labels)"
   ]
  },
  {
   "cell_type": "markdown",
   "metadata": {},
   "source": [
    "# Tensorflow-Lite Convert to a model for"
   ]
  },
  {
   "cell_type": "code",
   "execution_count": 21,
   "metadata": {
    "execution": {
     "iopub.execute_input": "2025-05-04T08:04:17.108068Z",
     "iopub.status.busy": "2025-05-04T08:04:17.106051Z",
     "iopub.status.idle": "2025-05-04T08:04:17.183804Z",
     "shell.execute_reply": "2025-05-04T08:04:17.183804Z"
    }
   },
   "outputs": [],
   "source": [
    "# Save as an inference-only model\n",
    "model.save(model_save_path, include_optimizer=False)"
   ]
  },
  {
   "cell_type": "code",
   "execution_count": 22,
   "metadata": {
    "execution": {
     "iopub.execute_input": "2025-05-04T08:04:17.192901Z",
     "iopub.status.busy": "2025-05-04T08:04:17.192901Z",
     "iopub.status.idle": "2025-05-04T08:04:18.198858Z",
     "shell.execute_reply": "2025-05-04T08:04:18.197336Z"
    }
   },
   "outputs": [
    {
     "name": "stderr",
     "output_type": "stream",
     "text": [
      "WARNING:absl:Found untraced functions such as _update_step_xla while saving (showing 1 of 1). These functions will not be directly callable after loading.\n"
     ]
    },
    {
     "name": "stdout",
     "output_type": "stream",
     "text": [
      "INFO:tensorflow:Assets written to: C:\\Users\\Abhis\\AppData\\Local\\Temp\\tmpihuejxql\\assets\n"
     ]
    },
    {
     "name": "stderr",
     "output_type": "stream",
     "text": [
      "INFO:tensorflow:Assets written to: C:\\Users\\Abhis\\AppData\\Local\\Temp\\tmpihuejxql\\assets\n"
     ]
    },
    {
     "data": {
      "text/plain": [
       "6792"
      ]
     },
     "execution_count": 22,
     "metadata": {},
     "output_type": "execute_result"
    }
   ],
   "source": [
    "# Transform the model (quantize it)\n",
    "tflite_save_path = 'model/keypoint_classifier/keypoint_classifier.tflite'\n",
    "\n",
    "converter = tf.lite.TFLiteConverter.from_keras_model(model)\n",
    "converter.optimizations = [tf.lite.Optimize.DEFAULT]\n",
    "tflite_quantized_model = converter.convert()\n",
    "\n",
    "open(tflite_save_path, 'wb').write(tflite_quantized_model)"
   ]
  },
  {
   "cell_type": "markdown",
   "metadata": {},
   "source": [
    "# Reasoning test"
   ]
  },
  {
   "cell_type": "code",
   "execution_count": 23,
   "metadata": {
    "execution": {
     "iopub.execute_input": "2025-05-04T08:04:18.203393Z",
     "iopub.status.busy": "2025-05-04T08:04:18.203393Z",
     "iopub.status.idle": "2025-05-04T08:04:18.225795Z",
     "shell.execute_reply": "2025-05-04T08:04:18.224771Z"
    }
   },
   "outputs": [],
   "source": [
    "interpreter = tf.lite.Interpreter(model_path=tflite_save_path)\n",
    "interpreter.allocate_tensors()"
   ]
  },
  {
   "cell_type": "code",
   "execution_count": 24,
   "metadata": {
    "execution": {
     "iopub.execute_input": "2025-05-04T08:04:18.230799Z",
     "iopub.status.busy": "2025-05-04T08:04:18.230799Z",
     "iopub.status.idle": "2025-05-04T08:04:18.239087Z",
     "shell.execute_reply": "2025-05-04T08:04:18.236721Z"
    }
   },
   "outputs": [],
   "source": [
    "# Get input/output tensors\n",
    "input_details = interpreter.get_input_details()\n",
    "output_details = interpreter.get_output_details()"
   ]
  },
  {
   "cell_type": "code",
   "execution_count": 25,
   "metadata": {
    "execution": {
     "iopub.execute_input": "2025-05-04T08:04:18.243907Z",
     "iopub.status.busy": "2025-05-04T08:04:18.243907Z",
     "iopub.status.idle": "2025-05-04T08:04:18.252552Z",
     "shell.execute_reply": "2025-05-04T08:04:18.250088Z"
    }
   },
   "outputs": [],
   "source": [
    "interpreter.set_tensor(input_details[0]['index'], np.array([X_test[0]]))"
   ]
  },
  {
   "cell_type": "code",
   "execution_count": 26,
   "metadata": {
    "execution": {
     "iopub.execute_input": "2025-05-04T08:04:18.258704Z",
     "iopub.status.busy": "2025-05-04T08:04:18.257697Z",
     "iopub.status.idle": "2025-05-04T08:04:18.269104Z",
     "shell.execute_reply": "2025-05-04T08:04:18.267709Z"
    },
    "scrolled": true
   },
   "outputs": [
    {
     "name": "stdout",
     "output_type": "stream",
     "text": [
      "CPU times: total: 0 ns\n",
      "Wall time: 2.02 ms\n"
     ]
    }
   ],
   "source": [
    "%%time\n",
    "# Inference implementation\n",
    "interpreter.invoke()\n",
    "tflite_results = interpreter.get_tensor(output_details[0]['index'])"
   ]
  },
  {
   "cell_type": "code",
   "execution_count": 27,
   "metadata": {
    "execution": {
     "iopub.execute_input": "2025-05-04T08:04:18.274669Z",
     "iopub.status.busy": "2025-05-04T08:04:18.273191Z",
     "iopub.status.idle": "2025-05-04T08:04:18.284947Z",
     "shell.execute_reply": "2025-05-04T08:04:18.283411Z"
    }
   },
   "outputs": [
    {
     "name": "stdout",
     "output_type": "stream",
     "text": [
      "[1.3143102e-03 7.0995402e-01 1.7897399e-01 3.9632998e-02 7.7324980e-03\n",
      " 2.4669029e-02 3.7716851e-02 3.1769257e-06 3.1184986e-06]\n",
      "1\n"
     ]
    }
   ],
   "source": [
    "print(np.squeeze(tflite_results))\n",
    "print(np.argmax(np.squeeze(tflite_results)))"
   ]
  },
  {
   "cell_type": "code",
   "execution_count": 28,
   "metadata": {},
   "outputs": [],
   "source": [
    "def benchmark_model(model, X_test):\n",
    "    \"\"\"Measure model performance metrics\"\"\"\n",
    "    import time\n",
    "    \n",
    "    # Warm-up run\n",
    "    model.predict(X_test[:1])\n",
    "    \n",
    "    # Measure inference time\n",
    "    start_time = time.time()\n",
    "    predictions = model.predict(X_test)\n",
    "    end_time = time.time()\n",
    "    \n",
    "    avg_inference_time = (end_time - start_time) / len(X_test) * 1000  # ms\n",
    "    \n",
    "    print(\"\\nModel Performance Metrics:\")\n",
    "    print(\"-\" * 50)\n",
    "    print(f\"Average Inference Time: {avg_inference_time:.2f} ms\")\n",
    "    print(f\"Model Size: {os.path.getsize('model/keypoint_classifier/keypoint_classifier.keras')/1024:.2f} KB\")\n",
    "    print(f\"Input Shape: {model.input_shape}\")\n",
    "    print(f\"Number of Parameters: {model.count_params():,}\")"
   ]
  }
 ],
 "metadata": {
  "kernelspec": {
   "display_name": "Python 3",
   "language": "python",
   "name": "python3"
  },
  "language_info": {
   "codemirror_mode": {
    "name": "ipython",
    "version": 3
   },
   "file_extension": ".py",
   "mimetype": "text/x-python",
   "name": "python",
   "nbconvert_exporter": "python",
   "pygments_lexer": "ipython3",
   "version": "3.8.10"
  }
 },
 "nbformat": 4,
 "nbformat_minor": 4
}
