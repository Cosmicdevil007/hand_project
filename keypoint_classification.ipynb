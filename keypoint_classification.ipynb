{
 "cells": [
  {
   "cell_type": "code",
   "execution_count": 2,
   "metadata": {
    "execution": {
     "iopub.execute_input": "2025-05-04T08:03:13.896613Z",
     "iopub.status.busy": "2025-05-04T08:03:13.896613Z",
     "iopub.status.idle": "2025-05-04T08:03:22.191932Z",
     "shell.execute_reply": "2025-05-04T08:03:22.190899Z"
    }
   },
   "outputs": [],
   "source": [
    "import csv\n",
    "\n",
    "import numpy as np\n",
    "import tensorflow as tf\n",
    "from sklearn.model_selection import train_test_split\n",
    "\n",
    "RANDOM_SEED = 42"
   ]
  },
  {
   "cell_type": "markdown",
   "metadata": {},
   "source": [
    "# Specify each path"
   ]
  },
  {
   "cell_type": "code",
   "execution_count": 3,
   "metadata": {
    "execution": {
     "iopub.execute_input": "2025-05-04T08:03:22.195770Z",
     "iopub.status.busy": "2025-05-04T08:03:22.195770Z",
     "iopub.status.idle": "2025-05-04T08:03:22.200022Z",
     "shell.execute_reply": "2025-05-04T08:03:22.200022Z"
    }
   },
   "outputs": [],
   "source": [
    "dataset = 'model/keypoint_classifier/keypoint.csv'\n",
    "model_save_path = 'model/keypoint_classifier/keypoint_classifier.keras'"
   ]
  },
  {
   "cell_type": "markdown",
   "metadata": {},
   "source": [
    "# Setting the number of categories"
   ]
  },
  {
   "cell_type": "code",
   "execution_count": 4,
   "metadata": {
    "execution": {
     "iopub.execute_input": "2025-05-04T08:03:22.203683Z",
     "iopub.status.busy": "2025-05-04T08:03:22.203683Z",
     "iopub.status.idle": "2025-05-04T08:03:22.208272Z",
     "shell.execute_reply": "2025-05-04T08:03:22.208272Z"
    }
   },
   "outputs": [],
   "source": [
    "NUM_CLASSES = 9"
   ]
  },
  {
   "cell_type": "markdown",
   "metadata": {},
   "source": [
    "# Load learning data"
   ]
  },
  {
   "cell_type": "code",
   "execution_count": 5,
   "metadata": {
    "execution": {
     "iopub.execute_input": "2025-05-04T08:03:22.211258Z",
     "iopub.status.busy": "2025-05-04T08:03:22.211258Z",
     "iopub.status.idle": "2025-05-04T08:03:22.285858Z",
     "shell.execute_reply": "2025-05-04T08:03:22.285858Z"
    }
   },
   "outputs": [],
   "source": [
    "X_dataset = np.loadtxt(dataset, delimiter=',', dtype='float32', usecols=list(range(1, (21 * 2) + 1)))"
   ]
  },
  {
   "cell_type": "code",
   "execution_count": 6,
   "metadata": {
    "execution": {
     "iopub.execute_input": "2025-05-04T08:03:22.288560Z",
     "iopub.status.busy": "2025-05-04T08:03:22.288560Z",
     "iopub.status.idle": "2025-05-04T08:03:22.315730Z",
     "shell.execute_reply": "2025-05-04T08:03:22.314469Z"
    }
   },
   "outputs": [],
   "source": [
    "y_dataset = np.loadtxt(dataset, delimiter=',', dtype='int32', usecols=(0))"
   ]
  },
  {
   "cell_type": "code",
   "execution_count": 7,
   "metadata": {
    "execution": {
     "iopub.execute_input": "2025-05-04T08:03:22.318248Z",
     "iopub.status.busy": "2025-05-04T08:03:22.318248Z",
     "iopub.status.idle": "2025-05-04T08:03:22.325352Z",
     "shell.execute_reply": "2025-05-04T08:03:22.325352Z"
    }
   },
   "outputs": [],
   "source": [
    "X_train, X_test, y_train, y_test = train_test_split(X_dataset, y_dataset, train_size=0.75, random_state=RANDOM_SEED)"
   ]
  },
  {
   "cell_type": "markdown",
   "metadata": {},
   "source": [
    "# model building"
   ]
  },
  {
   "cell_type": "code",
   "execution_count": 8,
   "metadata": {
    "execution": {
     "iopub.execute_input": "2025-05-04T08:03:22.329072Z",
     "iopub.status.busy": "2025-05-04T08:03:22.329072Z",
     "iopub.status.idle": "2025-05-04T08:03:22.455774Z",
     "shell.execute_reply": "2025-05-04T08:03:22.455774Z"
    }
   },
   "outputs": [],
   "source": [
    "model = tf.keras.models.Sequential([\n",
    "    tf.keras.layers.Input((21 * 2, )),\n",
    "    tf.keras.layers.Dropout(0.2),\n",
    "    tf.keras.layers.Dense(20, activation='relu'),\n",
    "    tf.keras.layers.Dropout(0.4),\n",
    "    tf.keras.layers.Dense(10, activation='relu'),\n",
    "    tf.keras.layers.Dense(NUM_CLASSES, activation='softmax')\n",
    "])"
   ]
  },
  {
   "cell_type": "code",
   "execution_count": 9,
   "metadata": {
    "execution": {
     "iopub.execute_input": "2025-05-04T08:03:22.459681Z",
     "iopub.status.busy": "2025-05-04T08:03:22.457557Z",
     "iopub.status.idle": "2025-05-04T08:03:22.480014Z",
     "shell.execute_reply": "2025-05-04T08:03:22.480014Z"
    }
   },
   "outputs": [
    {
     "name": "stdout",
     "output_type": "stream",
     "text": [
      "Model: \"sequential\"\n",
      "_________________________________________________________________\n",
      " Layer (type)                Output Shape              Param #   \n",
      "=================================================================\n",
      " dropout (Dropout)           (None, 42)                0         \n",
      "                                                                 \n",
      " dense (Dense)               (None, 20)                860       \n",
      "                                                                 \n",
      " dropout_1 (Dropout)         (None, 20)                0         \n",
      "                                                                 \n",
      " dense_1 (Dense)             (None, 10)                210       \n",
      "                                                                 \n",
      " dense_2 (Dense)             (None, 9)                 99        \n",
      "                                                                 \n",
      "=================================================================\n",
      "Total params: 1,169\n",
      "Trainable params: 1,169\n",
      "Non-trainable params: 0\n",
      "_________________________________________________________________\n"
     ]
    }
   ],
   "source": [
    "model.summary()  # tf.keras.utils.plot_model(model, show_shapes=True)"
   ]
  },
  {
   "cell_type": "code",
   "execution_count": 10,
   "metadata": {
    "execution": {
     "iopub.execute_input": "2025-05-04T08:03:22.514195Z",
     "iopub.status.busy": "2025-05-04T08:03:22.511828Z",
     "iopub.status.idle": "2025-05-04T08:03:22.518161Z",
     "shell.execute_reply": "2025-05-04T08:03:22.518161Z"
    }
   },
   "outputs": [],
   "source": [
    "# Model Checkpoint Callbacks\n",
    "cp_callback = tf.keras.callbacks.ModelCheckpoint(\n",
    "    model_save_path, verbose=1, save_weights_only=False)\n",
    "# Early Abort Callback\n",
    "es_callback = tf.keras.callbacks.EarlyStopping(patience=20, verbose=1)"
   ]
  },
  {
   "cell_type": "code",
   "execution_count": 11,
   "metadata": {
    "execution": {
     "iopub.execute_input": "2025-05-04T08:03:22.521083Z",
     "iopub.status.busy": "2025-05-04T08:03:22.521083Z",
     "iopub.status.idle": "2025-05-04T08:03:22.537193Z",
     "shell.execute_reply": "2025-05-04T08:03:22.536686Z"
    }
   },
   "outputs": [],
   "source": [
    "# model compilation\n",
    "model.compile(\n",
    "    optimizer='adam',\n",
    "    loss='sparse_categorical_crossentropy',\n",
    "    metrics=['accuracy']\n",
    ")"
   ]
  },
  {
   "cell_type": "markdown",
   "metadata": {},
   "source": [
    "# model training"
   ]
  },
  {
   "cell_type": "code",
   "execution_count": 12,
   "metadata": {
    "execution": {
     "iopub.execute_input": "2025-05-04T08:03:22.540564Z",
     "iopub.status.busy": "2025-05-04T08:03:22.540564Z",
     "iopub.status.idle": "2025-05-04T08:04:15.291187Z",
     "shell.execute_reply": "2025-05-04T08:04:15.290174Z"
    },
    "scrolled": true
   },
   "outputs": [
    {
     "name": "stdout",
     "output_type": "stream",
     "text": [
      "Epoch 1/1000\n",
      "46/61 [=====================>........] - ETA: 0s - loss: 2.1822 - accuracy: 0.1586\n",
      "Epoch 1: saving model to model/keypoint_classifier\\keypoint_classifier.keras\n",
      "61/61 [==============================] - 1s 8ms/step - loss: 2.1574 - accuracy: 0.1592 - val_loss: 2.0256 - val_accuracy: 0.1784\n",
      "Epoch 2/1000\n",
      "41/61 [===================>..........] - ETA: 0s - loss: 2.0279 - accuracy: 0.1867\n",
      "Epoch 2: saving model to model/keypoint_classifier\\keypoint_classifier.keras\n",
      "61/61 [==============================] - 0s 4ms/step - loss: 2.0090 - accuracy: 0.1961 - val_loss: 1.8928 - val_accuracy: 0.2513\n",
      "Epoch 3/1000\n",
      "45/61 [=====================>........] - ETA: 0s - loss: 1.9302 - accuracy: 0.2283\n",
      "Epoch 3: saving model to model/keypoint_classifier\\keypoint_classifier.keras\n",
      "61/61 [==============================] - 0s 4ms/step - loss: 1.9230 - accuracy: 0.2371 - val_loss: 1.8068 - val_accuracy: 0.3451\n",
      "Epoch 4/1000\n",
      "45/61 [=====================>........] - ETA: 0s - loss: 1.8690 - accuracy: 0.2639\n",
      "Epoch 4: saving model to model/keypoint_classifier\\keypoint_classifier.keras\n",
      "61/61 [==============================] - 0s 5ms/step - loss: 1.8593 - accuracy: 0.2675 - val_loss: 1.7332 - val_accuracy: 0.3447\n",
      "Epoch 5/1000\n",
      "45/61 [=====================>........] - ETA: 0s - loss: 1.8043 - accuracy: 0.3012\n",
      "Epoch 5: saving model to model/keypoint_classifier\\keypoint_classifier.keras\n",
      "61/61 [==============================] - 0s 4ms/step - loss: 1.8027 - accuracy: 0.3019 - val_loss: 1.6467 - val_accuracy: 0.4424\n",
      "Epoch 6/1000\n",
      "44/61 [====================>.........] - ETA: 0s - loss: 1.7492 - accuracy: 0.3283\n",
      "Epoch 6: saving model to model/keypoint_classifier\\keypoint_classifier.keras\n",
      "61/61 [==============================] - 0s 4ms/step - loss: 1.7483 - accuracy: 0.3269 - val_loss: 1.5769 - val_accuracy: 0.5494\n",
      "Epoch 7/1000\n",
      "46/61 [=====================>........] - ETA: 0s - loss: 1.7008 - accuracy: 0.3424\n",
      "Epoch 7: saving model to model/keypoint_classifier\\keypoint_classifier.keras\n",
      "61/61 [==============================] - 0s 4ms/step - loss: 1.6970 - accuracy: 0.3474 - val_loss: 1.4906 - val_accuracy: 0.6351\n",
      "Epoch 8/1000\n",
      "47/61 [======================>.......] - ETA: 0s - loss: 1.6471 - accuracy: 0.3792\n",
      "Epoch 8: saving model to model/keypoint_classifier\\keypoint_classifier.keras\n",
      "61/61 [==============================] - 0s 4ms/step - loss: 1.6319 - accuracy: 0.3856 - val_loss: 1.4102 - val_accuracy: 0.7158\n",
      "Epoch 9/1000\n",
      "45/61 [=====================>........] - ETA: 0s - loss: 1.5936 - accuracy: 0.3955\n",
      "Epoch 9: saving model to model/keypoint_classifier\\keypoint_classifier.keras\n",
      "61/61 [==============================] - 0s 4ms/step - loss: 1.5878 - accuracy: 0.3958 - val_loss: 1.3370 - val_accuracy: 0.7390\n",
      "Epoch 10/1000\n",
      "45/61 [=====================>........] - ETA: 0s - loss: 1.5513 - accuracy: 0.4229\n",
      "Epoch 10: saving model to model/keypoint_classifier\\keypoint_classifier.keras\n",
      "61/61 [==============================] - 0s 4ms/step - loss: 1.5505 - accuracy: 0.4197 - val_loss: 1.2642 - val_accuracy: 0.7926\n",
      "Epoch 11/1000\n",
      "41/61 [===================>..........] - ETA: 0s - loss: 1.5181 - accuracy: 0.4327\n",
      "Epoch 11: saving model to model/keypoint_classifier\\keypoint_classifier.keras\n",
      "61/61 [==============================] - 0s 4ms/step - loss: 1.5081 - accuracy: 0.4408 - val_loss: 1.2048 - val_accuracy: 0.7949\n",
      "Epoch 12/1000\n",
      "44/61 [====================>.........] - ETA: 0s - loss: 1.4623 - accuracy: 0.4480\n",
      "Epoch 12: saving model to model/keypoint_classifier\\keypoint_classifier.keras\n",
      "61/61 [==============================] - 0s 4ms/step - loss: 1.4577 - accuracy: 0.4507 - val_loss: 1.1504 - val_accuracy: 0.8085\n",
      "Epoch 13/1000\n",
      "41/61 [===================>..........] - ETA: 0s - loss: 1.4223 - accuracy: 0.4638\n",
      "Epoch 13: saving model to model/keypoint_classifier\\keypoint_classifier.keras\n",
      "61/61 [==============================] - 0s 4ms/step - loss: 1.4184 - accuracy: 0.4691 - val_loss: 1.0873 - val_accuracy: 0.8402\n",
      "Epoch 14/1000\n",
      "47/61 [======================>.......] - ETA: 0s - loss: 1.3978 - accuracy: 0.4769\n",
      "Epoch 14: saving model to model/keypoint_classifier\\keypoint_classifier.keras\n",
      "61/61 [==============================] - 0s 4ms/step - loss: 1.3994 - accuracy: 0.4762 - val_loss: 1.0528 - val_accuracy: 0.8484\n",
      "Epoch 15/1000\n",
      "45/61 [=====================>........] - ETA: 0s - loss: 1.3546 - accuracy: 0.4970\n",
      "Epoch 15: saving model to model/keypoint_classifier\\keypoint_classifier.keras\n",
      "61/61 [==============================] - 0s 4ms/step - loss: 1.3561 - accuracy: 0.4986 - val_loss: 0.9892 - val_accuracy: 0.8751\n",
      "Epoch 16/1000\n",
      "43/61 [====================>.........] - ETA: 0s - loss: 1.3415 - accuracy: 0.4900\n",
      "Epoch 16: saving model to model/keypoint_classifier\\keypoint_classifier.keras\n",
      "61/61 [==============================] - 0s 4ms/step - loss: 1.3254 - accuracy: 0.4983 - val_loss: 0.9648 - val_accuracy: 0.8887\n",
      "Epoch 17/1000\n",
      "46/61 [=====================>........] - ETA: 0s - loss: 1.3053 - accuracy: 0.5168\n",
      "Epoch 17: saving model to model/keypoint_classifier\\keypoint_classifier.keras\n",
      "61/61 [==============================] - 0s 4ms/step - loss: 1.3118 - accuracy: 0.5110 - val_loss: 0.9410 - val_accuracy: 0.8779\n",
      "Epoch 18/1000\n",
      "44/61 [====================>.........] - ETA: 0s - loss: 1.2847 - accuracy: 0.5366\n",
      "Epoch 18: saving model to model/keypoint_classifier\\keypoint_classifier.keras\n",
      "61/61 [==============================] - 0s 4ms/step - loss: 1.2808 - accuracy: 0.5384 - val_loss: 0.8945 - val_accuracy: 0.8945\n",
      "Epoch 19/1000\n",
      "48/61 [======================>.......] - ETA: 0s - loss: 1.2484 - accuracy: 0.5360\n",
      "Epoch 19: saving model to model/keypoint_classifier\\keypoint_classifier.keras\n",
      "61/61 [==============================] - 0s 4ms/step - loss: 1.2444 - accuracy: 0.5388 - val_loss: 0.8658 - val_accuracy: 0.9015\n",
      "Epoch 20/1000\n",
      "46/61 [=====================>........] - ETA: 0s - loss: 1.2555 - accuracy: 0.5355\n",
      "Epoch 20: saving model to model/keypoint_classifier\\keypoint_classifier.keras\n",
      "61/61 [==============================] - 0s 4ms/step - loss: 1.2439 - accuracy: 0.5419 - val_loss: 0.8442 - val_accuracy: 0.9135\n",
      "Epoch 21/1000\n",
      "45/61 [=====================>........] - ETA: 0s - loss: 1.2380 - accuracy: 0.5507\n",
      "Epoch 21: saving model to model/keypoint_classifier\\keypoint_classifier.keras\n",
      "61/61 [==============================] - 0s 4ms/step - loss: 1.2307 - accuracy: 0.5551 - val_loss: 0.8350 - val_accuracy: 0.9097\n",
      "Epoch 22/1000\n",
      "43/61 [====================>.........] - ETA: 0s - loss: 1.2212 - accuracy: 0.5607\n",
      "Epoch 22: saving model to model/keypoint_classifier\\keypoint_classifier.keras\n",
      "61/61 [==============================] - 0s 4ms/step - loss: 1.2103 - accuracy: 0.5639 - val_loss: 0.8071 - val_accuracy: 0.8984\n",
      "Epoch 23/1000\n",
      "46/61 [=====================>........] - ETA: 0s - loss: 1.1987 - accuracy: 0.5615\n",
      "Epoch 23: saving model to model/keypoint_classifier\\keypoint_classifier.keras\n",
      "61/61 [==============================] - 0s 4ms/step - loss: 1.1977 - accuracy: 0.5623 - val_loss: 0.7845 - val_accuracy: 0.9104\n",
      "Epoch 24/1000\n",
      "44/61 [====================>.........] - ETA: 0s - loss: 1.1794 - accuracy: 0.5705\n",
      "Epoch 24: saving model to model/keypoint_classifier\\keypoint_classifier.keras\n",
      "61/61 [==============================] - 0s 4ms/step - loss: 1.1767 - accuracy: 0.5732 - val_loss: 0.7694 - val_accuracy: 0.9124\n",
      "Epoch 25/1000\n",
      "44/61 [====================>.........] - ETA: 0s - loss: 1.1501 - accuracy: 0.5769\n",
      "Epoch 25: saving model to model/keypoint_classifier\\keypoint_classifier.keras\n",
      "61/61 [==============================] - 0s 4ms/step - loss: 1.1560 - accuracy: 0.5784 - val_loss: 0.7425 - val_accuracy: 0.9186\n",
      "Epoch 26/1000\n",
      "46/61 [=====================>........] - ETA: 0s - loss: 1.1689 - accuracy: 0.5757\n",
      "Epoch 26: saving model to model/keypoint_classifier\\keypoint_classifier.keras\n",
      "61/61 [==============================] - 0s 4ms/step - loss: 1.1566 - accuracy: 0.5800 - val_loss: 0.7362 - val_accuracy: 0.9139\n",
      "Epoch 27/1000\n",
      "44/61 [====================>.........] - ETA: 0s - loss: 1.1311 - accuracy: 0.5872\n",
      "Epoch 27: saving model to model/keypoint_classifier\\keypoint_classifier.keras\n",
      "61/61 [==============================] - 0s 4ms/step - loss: 1.1366 - accuracy: 0.5835 - val_loss: 0.7201 - val_accuracy: 0.9151\n",
      "Epoch 28/1000\n",
      "45/61 [=====================>........] - ETA: 0s - loss: 1.1219 - accuracy: 0.5894\n",
      "Epoch 28: saving model to model/keypoint_classifier\\keypoint_classifier.keras\n",
      "61/61 [==============================] - 0s 4ms/step - loss: 1.1282 - accuracy: 0.5908 - val_loss: 0.7109 - val_accuracy: 0.9104\n",
      "Epoch 29/1000\n",
      "58/61 [===========================>..] - ETA: 0s - loss: 1.1165 - accuracy: 0.5892\n",
      "Epoch 29: saving model to model/keypoint_classifier\\keypoint_classifier.keras\n",
      "61/61 [==============================] - 0s 4ms/step - loss: 1.1156 - accuracy: 0.5892 - val_loss: 0.6913 - val_accuracy: 0.9151\n",
      "Epoch 30/1000\n",
      "59/61 [============================>.] - ETA: 0s - loss: 1.1074 - accuracy: 0.5983\n",
      "Epoch 30: saving model to model/keypoint_classifier\\keypoint_classifier.keras\n",
      "61/61 [==============================] - 0s 4ms/step - loss: 1.1055 - accuracy: 0.5992 - val_loss: 0.6901 - val_accuracy: 0.9155\n",
      "Epoch 31/1000\n",
      "45/61 [=====================>........] - ETA: 0s - loss: 1.1000 - accuracy: 0.5962\n",
      "Epoch 31: saving model to model/keypoint_classifier\\keypoint_classifier.keras\n",
      "61/61 [==============================] - 0s 4ms/step - loss: 1.1064 - accuracy: 0.5957 - val_loss: 0.6899 - val_accuracy: 0.9248\n",
      "Epoch 32/1000\n",
      "46/61 [=====================>........] - ETA: 0s - loss: 1.0854 - accuracy: 0.6056\n",
      "Epoch 32: saving model to model/keypoint_classifier\\keypoint_classifier.keras\n",
      "61/61 [==============================] - 0s 4ms/step - loss: 1.0878 - accuracy: 0.6076 - val_loss: 0.6437 - val_accuracy: 0.9236\n",
      "Epoch 33/1000\n",
      "44/61 [====================>.........] - ETA: 0s - loss: 1.0812 - accuracy: 0.6051\n",
      "Epoch 33: saving model to model/keypoint_classifier\\keypoint_classifier.keras\n",
      "61/61 [==============================] - 0s 4ms/step - loss: 1.0754 - accuracy: 0.6063 - val_loss: 0.6507 - val_accuracy: 0.9162\n",
      "Epoch 34/1000\n",
      "46/61 [=====================>........] - ETA: 0s - loss: 1.0709 - accuracy: 0.6089\n",
      "Epoch 34: saving model to model/keypoint_classifier\\keypoint_classifier.keras\n",
      "61/61 [==============================] - 0s 4ms/step - loss: 1.0729 - accuracy: 0.6111 - val_loss: 0.6601 - val_accuracy: 0.9170\n",
      "Epoch 35/1000\n",
      "59/61 [============================>.] - ETA: 0s - loss: 1.0685 - accuracy: 0.6077\n",
      "Epoch 35: saving model to model/keypoint_classifier\\keypoint_classifier.keras\n",
      "61/61 [==============================] - 0s 4ms/step - loss: 1.0677 - accuracy: 0.6087 - val_loss: 0.6468 - val_accuracy: 0.9271\n",
      "Epoch 36/1000\n",
      "48/61 [======================>.......] - ETA: 0s - loss: 1.0532 - accuracy: 0.6167\n",
      "Epoch 36: saving model to model/keypoint_classifier\\keypoint_classifier.keras\n",
      "61/61 [==============================] - 0s 4ms/step - loss: 1.0498 - accuracy: 0.6192 - val_loss: 0.6376 - val_accuracy: 0.9197\n",
      "Epoch 37/1000\n",
      "45/61 [=====================>........] - ETA: 0s - loss: 1.0536 - accuracy: 0.6247\n",
      "Epoch 37: saving model to model/keypoint_classifier\\keypoint_classifier.keras\n",
      "61/61 [==============================] - 0s 4ms/step - loss: 1.0516 - accuracy: 0.6245 - val_loss: 0.6230 - val_accuracy: 0.9190\n",
      "Epoch 38/1000\n",
      "44/61 [====================>.........] - ETA: 0s - loss: 1.0544 - accuracy: 0.6163\n",
      "Epoch 38: saving model to model/keypoint_classifier\\keypoint_classifier.keras\n",
      "61/61 [==============================] - 0s 4ms/step - loss: 1.0541 - accuracy: 0.6146 - val_loss: 0.6351 - val_accuracy: 0.9290\n",
      "Epoch 39/1000\n",
      "43/61 [====================>.........] - ETA: 0s - loss: 1.0330 - accuracy: 0.6165\n",
      "Epoch 39: saving model to model/keypoint_classifier\\keypoint_classifier.keras\n",
      "61/61 [==============================] - 0s 4ms/step - loss: 1.0326 - accuracy: 0.6206 - val_loss: 0.6200 - val_accuracy: 0.9197\n",
      "Epoch 40/1000\n",
      "44/61 [====================>.........] - ETA: 0s - loss: 1.0296 - accuracy: 0.6259\n",
      "Epoch 40: saving model to model/keypoint_classifier\\keypoint_classifier.keras\n",
      "61/61 [==============================] - 0s 4ms/step - loss: 1.0201 - accuracy: 0.6320 - val_loss: 0.5938 - val_accuracy: 0.9205\n",
      "Epoch 41/1000\n",
      "47/61 [======================>.......] - ETA: 0s - loss: 1.0222 - accuracy: 0.6257\n",
      "Epoch 41: saving model to model/keypoint_classifier\\keypoint_classifier.keras\n",
      "61/61 [==============================] - 0s 4ms/step - loss: 1.0224 - accuracy: 0.6246 - val_loss: 0.6033 - val_accuracy: 0.9225\n",
      "Epoch 42/1000\n",
      "44/61 [====================>.........] - ETA: 0s - loss: 1.0081 - accuracy: 0.6312\n",
      "Epoch 42: saving model to model/keypoint_classifier\\keypoint_classifier.keras\n",
      "61/61 [==============================] - 0s 4ms/step - loss: 1.0105 - accuracy: 0.6305 - val_loss: 0.5914 - val_accuracy: 0.9236\n",
      "Epoch 43/1000\n",
      "60/61 [============================>.] - ETA: 0s - loss: 1.0033 - accuracy: 0.6361\n",
      "Epoch 43: saving model to model/keypoint_classifier\\keypoint_classifier.keras\n",
      "61/61 [==============================] - 0s 6ms/step - loss: 1.0032 - accuracy: 0.6360 - val_loss: 0.5797 - val_accuracy: 0.9271\n",
      "Epoch 44/1000\n",
      "51/61 [========================>.....] - ETA: 0s - loss: 0.9974 - accuracy: 0.6328\n",
      "Epoch 44: saving model to model/keypoint_classifier\\keypoint_classifier.keras\n",
      "61/61 [==============================] - 0s 8ms/step - loss: 0.9979 - accuracy: 0.6330 - val_loss: 0.5836 - val_accuracy: 0.9205\n",
      "Epoch 45/1000\n",
      "42/61 [===================>..........] - ETA: 0s - loss: 0.9861 - accuracy: 0.6390\n",
      "Epoch 45: saving model to model/keypoint_classifier\\keypoint_classifier.keras\n",
      "61/61 [==============================] - 0s 4ms/step - loss: 0.9912 - accuracy: 0.6380 - val_loss: 0.5739 - val_accuracy: 0.9302\n",
      "Epoch 46/1000\n",
      "43/61 [====================>.........] - ETA: 0s - loss: 1.0022 - accuracy: 0.6452\n",
      "Epoch 46: saving model to model/keypoint_classifier\\keypoint_classifier.keras\n",
      "61/61 [==============================] - 0s 4ms/step - loss: 0.9935 - accuracy: 0.6464 - val_loss: 0.5547 - val_accuracy: 0.9360\n",
      "Epoch 47/1000\n",
      "60/61 [============================>.] - ETA: 0s - loss: 0.9777 - accuracy: 0.6388\n",
      "Epoch 47: saving model to model/keypoint_classifier\\keypoint_classifier.keras\n",
      "61/61 [==============================] - 0s 4ms/step - loss: 0.9770 - accuracy: 0.6385 - val_loss: 0.5608 - val_accuracy: 0.9341\n",
      "Epoch 48/1000\n",
      "60/61 [============================>.] - ETA: 0s - loss: 0.9911 - accuracy: 0.6411\n",
      "Epoch 48: saving model to model/keypoint_classifier\\keypoint_classifier.keras\n",
      "61/61 [==============================] - 0s 5ms/step - loss: 0.9898 - accuracy: 0.6413 - val_loss: 0.5462 - val_accuracy: 0.9352\n",
      "Epoch 49/1000\n",
      "56/61 [==========================>...] - ETA: 0s - loss: 0.9711 - accuracy: 0.6487\n",
      "Epoch 49: saving model to model/keypoint_classifier\\keypoint_classifier.keras\n",
      "61/61 [==============================] - 0s 5ms/step - loss: 0.9734 - accuracy: 0.6458 - val_loss: 0.5676 - val_accuracy: 0.9275\n",
      "Epoch 50/1000\n",
      "49/61 [=======================>......] - ETA: 0s - loss: 0.9896 - accuracy: 0.6381\n",
      "Epoch 50: saving model to model/keypoint_classifier\\keypoint_classifier.keras\n",
      "61/61 [==============================] - 0s 5ms/step - loss: 0.9877 - accuracy: 0.6389 - val_loss: 0.5641 - val_accuracy: 0.9372\n",
      "Epoch 51/1000\n",
      "46/61 [=====================>........] - ETA: 0s - loss: 0.9819 - accuracy: 0.6410\n",
      "Epoch 51: saving model to model/keypoint_classifier\\keypoint_classifier.keras\n",
      "61/61 [==============================] - 0s 4ms/step - loss: 0.9680 - accuracy: 0.6499 - val_loss: 0.5361 - val_accuracy: 0.9329\n",
      "Epoch 52/1000\n",
      "61/61 [==============================] - ETA: 0s - loss: 0.9573 - accuracy: 0.6531\n",
      "Epoch 52: saving model to model/keypoint_classifier\\keypoint_classifier.keras\n",
      "61/61 [==============================] - 0s 4ms/step - loss: 0.9573 - accuracy: 0.6531 - val_loss: 0.5361 - val_accuracy: 0.9287\n",
      "Epoch 53/1000\n",
      "45/61 [=====================>........] - ETA: 0s - loss: 0.9546 - accuracy: 0.6552\n",
      "Epoch 53: saving model to model/keypoint_classifier\\keypoint_classifier.keras\n",
      "61/61 [==============================] - 0s 4ms/step - loss: 0.9581 - accuracy: 0.6537 - val_loss: 0.5421 - val_accuracy: 0.9383\n",
      "Epoch 54/1000\n",
      "46/61 [=====================>........] - ETA: 0s - loss: 0.9527 - accuracy: 0.6562\n",
      "Epoch 54: saving model to model/keypoint_classifier\\keypoint_classifier.keras\n",
      "61/61 [==============================] - 0s 4ms/step - loss: 0.9520 - accuracy: 0.6566 - val_loss: 0.5327 - val_accuracy: 0.9376\n",
      "Epoch 55/1000\n",
      "59/61 [============================>.] - ETA: 0s - loss: 0.9392 - accuracy: 0.6604\n",
      "Epoch 55: saving model to model/keypoint_classifier\\keypoint_classifier.keras\n",
      "61/61 [==============================] - 0s 5ms/step - loss: 0.9383 - accuracy: 0.6615 - val_loss: 0.5208 - val_accuracy: 0.9333\n",
      "Epoch 56/1000\n",
      "49/61 [=======================>......] - ETA: 0s - loss: 0.9332 - accuracy: 0.6604\n",
      "Epoch 56: saving model to model/keypoint_classifier\\keypoint_classifier.keras\n",
      "61/61 [==============================] - 0s 6ms/step - loss: 0.9296 - accuracy: 0.6627 - val_loss: 0.5274 - val_accuracy: 0.9318\n",
      "Epoch 57/1000\n",
      "43/61 [====================>.........] - ETA: 0s - loss: 0.9184 - accuracy: 0.6701\n",
      "Epoch 57: saving model to model/keypoint_classifier\\keypoint_classifier.keras\n",
      "61/61 [==============================] - 0s 4ms/step - loss: 0.9268 - accuracy: 0.6682 - val_loss: 0.5106 - val_accuracy: 0.9380\n",
      "Epoch 58/1000\n",
      "45/61 [=====================>........] - ETA: 0s - loss: 0.9347 - accuracy: 0.6684\n",
      "Epoch 58: saving model to model/keypoint_classifier\\keypoint_classifier.keras\n",
      "61/61 [==============================] - 0s 4ms/step - loss: 0.9448 - accuracy: 0.6633 - val_loss: 0.5191 - val_accuracy: 0.9403\n",
      "Epoch 59/1000\n",
      "61/61 [==============================] - ETA: 0s - loss: 0.9361 - accuracy: 0.6606\n",
      "Epoch 59: saving model to model/keypoint_classifier\\keypoint_classifier.keras\n",
      "61/61 [==============================] - 0s 4ms/step - loss: 0.9361 - accuracy: 0.6606 - val_loss: 0.5211 - val_accuracy: 0.9364\n",
      "Epoch 60/1000\n",
      "45/61 [=====================>........] - ETA: 0s - loss: 0.9303 - accuracy: 0.6651\n",
      "Epoch 60: saving model to model/keypoint_classifier\\keypoint_classifier.keras\n",
      "61/61 [==============================] - 0s 4ms/step - loss: 0.9331 - accuracy: 0.6611 - val_loss: 0.5053 - val_accuracy: 0.9349\n",
      "Epoch 61/1000\n",
      "40/61 [==================>...........] - ETA: 0s - loss: 0.9399 - accuracy: 0.6566\n",
      "Epoch 61: saving model to model/keypoint_classifier\\keypoint_classifier.keras\n",
      "61/61 [==============================] - 0s 4ms/step - loss: 0.9311 - accuracy: 0.6570 - val_loss: 0.4976 - val_accuracy: 0.9477\n",
      "Epoch 62/1000\n",
      "59/61 [============================>.] - ETA: 0s - loss: 0.9359 - accuracy: 0.6552\n",
      "Epoch 62: saving model to model/keypoint_classifier\\keypoint_classifier.keras\n",
      "61/61 [==============================] - 0s 5ms/step - loss: 0.9361 - accuracy: 0.6561 - val_loss: 0.5203 - val_accuracy: 0.9387\n",
      "Epoch 63/1000\n",
      "46/61 [=====================>........] - ETA: 0s - loss: 0.9374 - accuracy: 0.6591\n",
      "Epoch 63: saving model to model/keypoint_classifier\\keypoint_classifier.keras\n",
      "61/61 [==============================] - 0s 4ms/step - loss: 0.9298 - accuracy: 0.6625 - val_loss: 0.5095 - val_accuracy: 0.9345\n",
      "Epoch 64/1000\n",
      "44/61 [====================>.........] - ETA: 0s - loss: 0.9446 - accuracy: 0.6623\n",
      "Epoch 64: saving model to model/keypoint_classifier\\keypoint_classifier.keras\n",
      "61/61 [==============================] - 0s 4ms/step - loss: 0.9308 - accuracy: 0.6673 - val_loss: 0.4879 - val_accuracy: 0.9430\n",
      "Epoch 65/1000\n",
      "45/61 [=====================>........] - ETA: 0s - loss: 0.9155 - accuracy: 0.6715\n",
      "Epoch 65: saving model to model/keypoint_classifier\\keypoint_classifier.keras\n",
      "61/61 [==============================] - 0s 4ms/step - loss: 0.9146 - accuracy: 0.6709 - val_loss: 0.5117 - val_accuracy: 0.9360\n",
      "Epoch 66/1000\n",
      "46/61 [=====================>........] - ETA: 0s - loss: 0.9157 - accuracy: 0.6744\n",
      "Epoch 66: saving model to model/keypoint_classifier\\keypoint_classifier.keras\n",
      "61/61 [==============================] - 0s 4ms/step - loss: 0.9186 - accuracy: 0.6731 - val_loss: 0.5103 - val_accuracy: 0.9372\n",
      "Epoch 67/1000\n",
      "46/61 [=====================>........] - ETA: 0s - loss: 0.9348 - accuracy: 0.6658\n",
      "Epoch 67: saving model to model/keypoint_classifier\\keypoint_classifier.keras\n",
      "61/61 [==============================] - 0s 4ms/step - loss: 0.9397 - accuracy: 0.6642 - val_loss: 0.5232 - val_accuracy: 0.9349\n",
      "Epoch 68/1000\n",
      "56/61 [==========================>...] - ETA: 0s - loss: 0.9059 - accuracy: 0.6719\n",
      "Epoch 68: saving model to model/keypoint_classifier\\keypoint_classifier.keras\n",
      "61/61 [==============================] - 0s 4ms/step - loss: 0.9121 - accuracy: 0.6694 - val_loss: 0.5175 - val_accuracy: 0.9411\n",
      "Epoch 69/1000\n",
      "57/61 [===========================>..] - ETA: 0s - loss: 0.9105 - accuracy: 0.6732\n",
      "Epoch 69: saving model to model/keypoint_classifier\\keypoint_classifier.keras\n",
      "61/61 [==============================] - 0s 5ms/step - loss: 0.9124 - accuracy: 0.6720 - val_loss: 0.5006 - val_accuracy: 0.9430\n",
      "Epoch 70/1000\n",
      "45/61 [=====================>........] - ETA: 0s - loss: 0.9234 - accuracy: 0.6630\n",
      "Epoch 70: saving model to model/keypoint_classifier\\keypoint_classifier.keras\n",
      "61/61 [==============================] - 0s 4ms/step - loss: 0.9263 - accuracy: 0.6608 - val_loss: 0.5033 - val_accuracy: 0.9349\n",
      "Epoch 71/1000\n",
      "45/61 [=====================>........] - ETA: 0s - loss: 0.9143 - accuracy: 0.6681\n",
      "Epoch 71: saving model to model/keypoint_classifier\\keypoint_classifier.keras\n",
      "61/61 [==============================] - 0s 4ms/step - loss: 0.9055 - accuracy: 0.6738 - val_loss: 0.4982 - val_accuracy: 0.9430\n",
      "Epoch 72/1000\n",
      "60/61 [============================>.] - ETA: 0s - loss: 0.8959 - accuracy: 0.6758\n",
      "Epoch 72: saving model to model/keypoint_classifier\\keypoint_classifier.keras\n",
      "61/61 [==============================] - 0s 4ms/step - loss: 0.8957 - accuracy: 0.6758 - val_loss: 0.4799 - val_accuracy: 0.9422\n",
      "Epoch 73/1000\n",
      "45/61 [=====================>........] - ETA: 0s - loss: 0.9129 - accuracy: 0.6731\n",
      "Epoch 73: saving model to model/keypoint_classifier\\keypoint_classifier.keras\n",
      "61/61 [==============================] - 0s 4ms/step - loss: 0.9064 - accuracy: 0.6731 - val_loss: 0.4967 - val_accuracy: 0.9345\n",
      "Epoch 74/1000\n",
      "59/61 [============================>.] - ETA: 0s - loss: 0.8980 - accuracy: 0.6732\n",
      "Epoch 74: saving model to model/keypoint_classifier\\keypoint_classifier.keras\n",
      "61/61 [==============================] - 0s 4ms/step - loss: 0.9000 - accuracy: 0.6725 - val_loss: 0.5059 - val_accuracy: 0.9337\n",
      "Epoch 75/1000\n",
      "42/61 [===================>..........] - ETA: 0s - loss: 0.9060 - accuracy: 0.6706\n",
      "Epoch 75: saving model to model/keypoint_classifier\\keypoint_classifier.keras\n",
      "61/61 [==============================] - 0s 4ms/step - loss: 0.9054 - accuracy: 0.6717 - val_loss: 0.4706 - val_accuracy: 0.9403\n",
      "Epoch 76/1000\n",
      "45/61 [=====================>........] - ETA: 0s - loss: 0.9014 - accuracy: 0.6674\n",
      "Epoch 76: saving model to model/keypoint_classifier\\keypoint_classifier.keras\n",
      "61/61 [==============================] - 0s 4ms/step - loss: 0.9042 - accuracy: 0.6668 - val_loss: 0.5023 - val_accuracy: 0.9325\n",
      "Epoch 77/1000\n",
      "45/61 [=====================>........] - ETA: 0s - loss: 0.8939 - accuracy: 0.6759\n",
      "Epoch 77: saving model to model/keypoint_classifier\\keypoint_classifier.keras\n",
      "61/61 [==============================] - 0s 4ms/step - loss: 0.8931 - accuracy: 0.6742 - val_loss: 0.4823 - val_accuracy: 0.9403\n",
      "Epoch 78/1000\n",
      "46/61 [=====================>........] - ETA: 0s - loss: 0.8800 - accuracy: 0.6802\n",
      "Epoch 78: saving model to model/keypoint_classifier\\keypoint_classifier.keras\n",
      "61/61 [==============================] - 0s 4ms/step - loss: 0.8837 - accuracy: 0.6801 - val_loss: 0.4974 - val_accuracy: 0.9376\n",
      "Epoch 79/1000\n",
      "46/61 [=====================>........] - ETA: 0s - loss: 0.8773 - accuracy: 0.6814\n",
      "Epoch 79: saving model to model/keypoint_classifier\\keypoint_classifier.keras\n",
      "61/61 [==============================] - 0s 4ms/step - loss: 0.8716 - accuracy: 0.6848 - val_loss: 0.4797 - val_accuracy: 0.9407\n",
      "Epoch 80/1000\n",
      "42/61 [===================>..........] - ETA: 0s - loss: 0.8792 - accuracy: 0.6819\n",
      "Epoch 80: saving model to model/keypoint_classifier\\keypoint_classifier.keras\n",
      "61/61 [==============================] - 0s 4ms/step - loss: 0.8797 - accuracy: 0.6843 - val_loss: 0.4774 - val_accuracy: 0.9426\n",
      "Epoch 81/1000\n",
      "44/61 [====================>.........] - ETA: 0s - loss: 0.8895 - accuracy: 0.6744\n",
      "Epoch 81: saving model to model/keypoint_classifier\\keypoint_classifier.keras\n",
      "61/61 [==============================] - 0s 4ms/step - loss: 0.8916 - accuracy: 0.6735 - val_loss: 0.4700 - val_accuracy: 0.9399\n",
      "Epoch 82/1000\n",
      "45/61 [=====================>........] - ETA: 0s - loss: 0.8948 - accuracy: 0.6734\n",
      "Epoch 82: saving model to model/keypoint_classifier\\keypoint_classifier.keras\n",
      "61/61 [==============================] - 0s 4ms/step - loss: 0.8901 - accuracy: 0.6778 - val_loss: 0.4748 - val_accuracy: 0.9368\n",
      "Epoch 83/1000\n",
      "47/61 [======================>.......] - ETA: 0s - loss: 0.8733 - accuracy: 0.6815\n",
      "Epoch 83: saving model to model/keypoint_classifier\\keypoint_classifier.keras\n",
      "61/61 [==============================] - 0s 4ms/step - loss: 0.8677 - accuracy: 0.6853 - val_loss: 0.4493 - val_accuracy: 0.9403\n",
      "Epoch 84/1000\n",
      "44/61 [====================>.........] - ETA: 0s - loss: 0.9069 - accuracy: 0.6740\n",
      "Epoch 84: saving model to model/keypoint_classifier\\keypoint_classifier.keras\n",
      "61/61 [==============================] - 0s 4ms/step - loss: 0.9020 - accuracy: 0.6766 - val_loss: 0.4829 - val_accuracy: 0.9349\n",
      "Epoch 85/1000\n",
      "47/61 [======================>.......] - ETA: 0s - loss: 0.8868 - accuracy: 0.6797\n",
      "Epoch 85: saving model to model/keypoint_classifier\\keypoint_classifier.keras\n",
      "61/61 [==============================] - 0s 4ms/step - loss: 0.8851 - accuracy: 0.6821 - val_loss: 0.5000 - val_accuracy: 0.9240\n",
      "Epoch 86/1000\n",
      "47/61 [======================>.......] - ETA: 0s - loss: 0.8808 - accuracy: 0.6852\n",
      "Epoch 86: saving model to model/keypoint_classifier\\keypoint_classifier.keras\n",
      "61/61 [==============================] - 0s 4ms/step - loss: 0.8777 - accuracy: 0.6880 - val_loss: 0.4864 - val_accuracy: 0.9310\n",
      "Epoch 87/1000\n",
      "60/61 [============================>.] - ETA: 0s - loss: 0.8656 - accuracy: 0.6919\n",
      "Epoch 87: saving model to model/keypoint_classifier\\keypoint_classifier.keras\n",
      "61/61 [==============================] - 0s 4ms/step - loss: 0.8660 - accuracy: 0.6918 - val_loss: 0.4503 - val_accuracy: 0.9457\n",
      "Epoch 88/1000\n",
      "47/61 [======================>.......] - ETA: 0s - loss: 0.8842 - accuracy: 0.6785\n",
      "Epoch 88: saving model to model/keypoint_classifier\\keypoint_classifier.keras\n",
      "61/61 [==============================] - 0s 4ms/step - loss: 0.8728 - accuracy: 0.6854 - val_loss: 0.4784 - val_accuracy: 0.9267\n",
      "Epoch 89/1000\n",
      "44/61 [====================>.........] - ETA: 0s - loss: 0.8810 - accuracy: 0.6818\n",
      "Epoch 89: saving model to model/keypoint_classifier\\keypoint_classifier.keras\n",
      "61/61 [==============================] - 0s 4ms/step - loss: 0.8812 - accuracy: 0.6811 - val_loss: 0.4830 - val_accuracy: 0.9306\n",
      "Epoch 90/1000\n",
      "43/61 [====================>.........] - ETA: 0s - loss: 0.8496 - accuracy: 0.7029\n",
      "Epoch 90: saving model to model/keypoint_classifier\\keypoint_classifier.keras\n",
      "61/61 [==============================] - 0s 4ms/step - loss: 0.8572 - accuracy: 0.6985 - val_loss: 0.4574 - val_accuracy: 0.9411\n",
      "Epoch 91/1000\n",
      "44/61 [====================>.........] - ETA: 0s - loss: 0.8755 - accuracy: 0.6838\n",
      "Epoch 91: saving model to model/keypoint_classifier\\keypoint_classifier.keras\n",
      "61/61 [==============================] - 0s 4ms/step - loss: 0.8686 - accuracy: 0.6870 - val_loss: 0.4659 - val_accuracy: 0.9434\n",
      "Epoch 92/1000\n",
      "44/61 [====================>.........] - ETA: 0s - loss: 0.8533 - accuracy: 0.6925\n",
      "Epoch 92: saving model to model/keypoint_classifier\\keypoint_classifier.keras\n",
      "61/61 [==============================] - 0s 4ms/step - loss: 0.8553 - accuracy: 0.6929 - val_loss: 0.4463 - val_accuracy: 0.9465\n",
      "Epoch 93/1000\n",
      "44/61 [====================>.........] - ETA: 0s - loss: 0.8685 - accuracy: 0.6928\n",
      "Epoch 93: saving model to model/keypoint_classifier\\keypoint_classifier.keras\n",
      "61/61 [==============================] - 0s 4ms/step - loss: 0.8715 - accuracy: 0.6893 - val_loss: 0.4774 - val_accuracy: 0.9290\n",
      "Epoch 94/1000\n",
      "46/61 [=====================>........] - ETA: 0s - loss: 0.8523 - accuracy: 0.6990\n",
      "Epoch 94: saving model to model/keypoint_classifier\\keypoint_classifier.keras\n",
      "61/61 [==============================] - 0s 4ms/step - loss: 0.8555 - accuracy: 0.6952 - val_loss: 0.4764 - val_accuracy: 0.9302\n",
      "Epoch 95/1000\n",
      "61/61 [==============================] - ETA: 0s - loss: 0.8558 - accuracy: 0.6928\n",
      "Epoch 95: saving model to model/keypoint_classifier\\keypoint_classifier.keras\n",
      "61/61 [==============================] - 0s 5ms/step - loss: 0.8558 - accuracy: 0.6928 - val_loss: 0.4568 - val_accuracy: 0.9302\n",
      "Epoch 96/1000\n",
      "42/61 [===================>..........] - ETA: 0s - loss: 0.8585 - accuracy: 0.7007\n",
      "Epoch 96: saving model to model/keypoint_classifier\\keypoint_classifier.keras\n",
      "61/61 [==============================] - 0s 4ms/step - loss: 0.8601 - accuracy: 0.6974 - val_loss: 0.5036 - val_accuracy: 0.9046\n",
      "Epoch 97/1000\n",
      "43/61 [====================>.........] - ETA: 0s - loss: 0.8643 - accuracy: 0.6949\n",
      "Epoch 97: saving model to model/keypoint_classifier\\keypoint_classifier.keras\n",
      "61/61 [==============================] - 0s 4ms/step - loss: 0.8570 - accuracy: 0.6968 - val_loss: 0.4550 - val_accuracy: 0.9395\n",
      "Epoch 98/1000\n",
      "47/61 [======================>.......] - ETA: 0s - loss: 0.8729 - accuracy: 0.6863\n",
      "Epoch 98: saving model to model/keypoint_classifier\\keypoint_classifier.keras\n",
      "61/61 [==============================] - 0s 4ms/step - loss: 0.8686 - accuracy: 0.6879 - val_loss: 0.5078 - val_accuracy: 0.9252\n",
      "Epoch 99/1000\n",
      "44/61 [====================>.........] - ETA: 0s - loss: 0.8690 - accuracy: 0.6857\n",
      "Epoch 99: saving model to model/keypoint_classifier\\keypoint_classifier.keras\n",
      "61/61 [==============================] - 0s 4ms/step - loss: 0.8652 - accuracy: 0.6880 - val_loss: 0.4496 - val_accuracy: 0.9376\n",
      "Epoch 100/1000\n",
      "42/61 [===================>..........] - ETA: 0s - loss: 0.8609 - accuracy: 0.6951\n",
      "Epoch 100: saving model to model/keypoint_classifier\\keypoint_classifier.keras\n",
      "61/61 [==============================] - 0s 4ms/step - loss: 0.8530 - accuracy: 0.6977 - val_loss: 0.4734 - val_accuracy: 0.9333\n",
      "Epoch 101/1000\n",
      "43/61 [====================>.........] - ETA: 0s - loss: 0.8423 - accuracy: 0.7015\n",
      "Epoch 101: saving model to model/keypoint_classifier\\keypoint_classifier.keras\n",
      "61/61 [==============================] - 0s 4ms/step - loss: 0.8452 - accuracy: 0.6980 - val_loss: 0.4959 - val_accuracy: 0.9182\n",
      "Epoch 102/1000\n",
      "47/61 [======================>.......] - ETA: 0s - loss: 0.8526 - accuracy: 0.6970\n",
      "Epoch 102: saving model to model/keypoint_classifier\\keypoint_classifier.keras\n",
      "61/61 [==============================] - 0s 4ms/step - loss: 0.8558 - accuracy: 0.6978 - val_loss: 0.4850 - val_accuracy: 0.9263\n",
      "Epoch 103/1000\n",
      "61/61 [==============================] - ETA: 0s - loss: 0.8366 - accuracy: 0.7061\n",
      "Epoch 103: saving model to model/keypoint_classifier\\keypoint_classifier.keras\n",
      "61/61 [==============================] - 0s 4ms/step - loss: 0.8366 - accuracy: 0.7061 - val_loss: 0.4783 - val_accuracy: 0.9252\n",
      "Epoch 104/1000\n",
      "44/61 [====================>.........] - ETA: 0s - loss: 0.8515 - accuracy: 0.6932\n",
      "Epoch 104: saving model to model/keypoint_classifier\\keypoint_classifier.keras\n",
      "61/61 [==============================] - 0s 4ms/step - loss: 0.8492 - accuracy: 0.6943 - val_loss: 0.4570 - val_accuracy: 0.9349\n",
      "Epoch 105/1000\n",
      "53/61 [=========================>....] - ETA: 0s - loss: 0.8413 - accuracy: 0.6986\n",
      "Epoch 105: saving model to model/keypoint_classifier\\keypoint_classifier.keras\n",
      "61/61 [==============================] - 0s 5ms/step - loss: 0.8489 - accuracy: 0.6952 - val_loss: 0.4609 - val_accuracy: 0.9318\n",
      "Epoch 106/1000\n",
      "43/61 [====================>.........] - ETA: 0s - loss: 0.8565 - accuracy: 0.6964\n",
      "Epoch 106: saving model to model/keypoint_classifier\\keypoint_classifier.keras\n",
      "61/61 [==============================] - 0s 4ms/step - loss: 0.8557 - accuracy: 0.6961 - val_loss: 0.4879 - val_accuracy: 0.9170\n",
      "Epoch 107/1000\n",
      "45/61 [=====================>........] - ETA: 0s - loss: 0.8493 - accuracy: 0.6892\n",
      "Epoch 107: saving model to model/keypoint_classifier\\keypoint_classifier.keras\n",
      "61/61 [==============================] - 0s 4ms/step - loss: 0.8390 - accuracy: 0.6916 - val_loss: 0.4579 - val_accuracy: 0.9341\n",
      "Epoch 108/1000\n",
      "44/61 [====================>.........] - ETA: 0s - loss: 0.8408 - accuracy: 0.7044\n",
      "Epoch 108: saving model to model/keypoint_classifier\\keypoint_classifier.keras\n",
      "61/61 [==============================] - 0s 4ms/step - loss: 0.8443 - accuracy: 0.7038 - val_loss: 0.4554 - val_accuracy: 0.9306\n",
      "Epoch 109/1000\n",
      "43/61 [====================>.........] - ETA: 0s - loss: 0.8542 - accuracy: 0.6928\n",
      "Epoch 109: saving model to model/keypoint_classifier\\keypoint_classifier.keras\n",
      "61/61 [==============================] - 0s 4ms/step - loss: 0.8592 - accuracy: 0.6874 - val_loss: 0.4751 - val_accuracy: 0.9318\n",
      "Epoch 110/1000\n",
      "43/61 [====================>.........] - ETA: 0s - loss: 0.8559 - accuracy: 0.6939\n",
      "Epoch 110: saving model to model/keypoint_classifier\\keypoint_classifier.keras\n",
      "61/61 [==============================] - 0s 4ms/step - loss: 0.8419 - accuracy: 0.6964 - val_loss: 0.4539 - val_accuracy: 0.9352\n",
      "Epoch 111/1000\n",
      "45/61 [=====================>........] - ETA: 0s - loss: 0.8376 - accuracy: 0.7005\n",
      "Epoch 111: saving model to model/keypoint_classifier\\keypoint_classifier.keras\n",
      "61/61 [==============================] - 0s 4ms/step - loss: 0.8447 - accuracy: 0.6986 - val_loss: 0.4691 - val_accuracy: 0.9294\n",
      "Epoch 112/1000\n",
      "44/61 [====================>.........] - ETA: 0s - loss: 0.8487 - accuracy: 0.6999\n",
      "Epoch 112: saving model to model/keypoint_classifier\\keypoint_classifier.keras\n",
      "61/61 [==============================] - 0s 4ms/step - loss: 0.8335 - accuracy: 0.7044 - val_loss: 0.4652 - val_accuracy: 0.9294\n",
      "Epoch 112: early stopping\n"
     ]
    },
    {
     "data": {
      "text/plain": [
       "<keras.callbacks.History at 0x1bd88f5bd30>"
      ]
     },
     "execution_count": 12,
     "metadata": {},
     "output_type": "execute_result"
    }
   ],
   "source": [
    "# Update number of classes\n",
    "NUM_CLASSES = 9  # Update to the correct number of classes\n",
    "\n",
    "# Rebuild model with correct number of output classes\n",
    "model = tf.keras.models.Sequential([\n",
    "    tf.keras.layers.Input((21 * 2, )),\n",
    "    tf.keras.layers.Dropout(0.2),\n",
    "    tf.keras.layers.Dense(20, activation='relu'),\n",
    "    tf.keras.layers.Dropout(0.4),\n",
    "    tf.keras.layers.Dense(10, activation='relu'),\n",
    "    tf.keras.layers.Dense(NUM_CLASSES, activation='softmax')\n",
    "])\n",
    "\n",
    "# Compile model\n",
    "model.compile(\n",
    "    optimizer='adam',\n",
    "    loss='sparse_categorical_crossentropy',\n",
    "    metrics=['accuracy']\n",
    ")\n",
    "\n",
    "# Train model\n",
    "model.fit(\n",
    "    X_train,\n",
    "    y_train,\n",
    "    epochs=1000,\n",
    "    batch_size=128,\n",
    "    validation_data=(X_test, y_test),\n",
    "    callbacks=[cp_callback, es_callback]\n",
    ")"
   ]
  },
  {
   "cell_type": "code",
   "execution_count": 13,
   "metadata": {},
   "outputs": [],
   "source": [
    "# Loading a saved model\n",
    "model = tf.keras.models.load_model(model_save_path)"
   ]
  },
  {
   "cell_type": "code",
   "execution_count": 14,
   "metadata": {
    "execution": {
     "iopub.execute_input": "2025-05-04T08:04:15.294442Z",
     "iopub.status.busy": "2025-05-04T08:04:15.294442Z",
     "iopub.status.idle": "2025-05-04T08:04:15.407041Z",
     "shell.execute_reply": "2025-05-04T08:04:15.407041Z"
    }
   },
   "outputs": [
    {
     "name": "stdout",
     "output_type": "stream",
     "text": [
      "21/21 [==============================] - 0s 2ms/step - loss: 0.4652 - accuracy: 0.9294\n"
     ]
    }
   ],
   "source": [
    "# model evaluation\n",
    "val_loss, val_acc = model.evaluate(X_test, y_test, batch_size=128)"
   ]
  },
  {
   "cell_type": "code",
   "execution_count": 15,
   "metadata": {},
   "outputs": [
    {
     "name": "stdout",
     "output_type": "stream",
     "text": [
      "81/81 [==============================] - 0s 1ms/step\n"
     ]
    },
    {
     "data": {
      "image/png": "[encoded data removed]",
      "text/plain": [
       "<Figure size 1200x800 with 2 Axes>"
      ]
     },
     "metadata": {},
     "output_type": "display_data"
    },
    {
     "name": "stdout",
     "output_type": "stream",
     "text": [
      "\n",
      "Classification Report:\n",
      "              precision    recall  f1-score   support\n",
      "\n",
      "        Five       0.98      0.77      0.86       405\n",
      "         One       0.98      0.99      0.99       380\n",
      "         Two       0.95      0.97      0.96       380\n",
      "       Three       0.92      1.00      0.96       393\n",
      "        Four       0.85      0.83      0.84       313\n",
      "         Six       0.95      0.94      0.94       356\n",
      "       Seven       0.88      1.00      0.93       352\n",
      "\n",
      "    accuracy                           0.93      2579\n",
      "   macro avg       0.93      0.93      0.93      2579\n",
      "weighted avg       0.93      0.93      0.93      2579\n",
      "\n"
     ]
    }
   ],
   "source": [
    "# Import additional required libraries\n",
    "import seaborn as sns\n",
    "from sklearn.metrics import confusion_matrix, classification_report\n",
    "import matplotlib.pyplot as plt\n",
    "\n",
    "def visualize_results(model, X_test, y_test):\n",
    "    # Make predictions\n",
    "    y_pred = model.predict(X_test)\n",
    "    y_pred_classes = np.argmax(y_pred, axis=1)\n",
    "    \n",
    "    # Load labels\n",
    "    labels = []\n",
    "    with open('model/keypoint_classifier/keypoint_classifier_label.csv', \n",
    "              encoding='utf-8-sig') as f:\n",
    "        for row in csv.reader(f):\n",
    "            labels.append(row[0])\n",
    "    \n",
    "    # Use all class indices for consistent labeling\n",
    "    class_indices = list(range(len(labels)))\n",
    "    \n",
    "    # Create confusion matrix\n",
    "    cm = confusion_matrix(y_test, y_pred_classes, labels=class_indices)\n",
    "    \n",
    "    # Plot confusion matrix\n",
    "    plt.figure(figsize=(12, 8))\n",
    "    sns.heatmap(cm, \n",
    "                annot=True, \n",
    "                fmt='d', \n",
    "                cmap='Blues',\n",
    "                xticklabels=labels,\n",
    "                yticklabels=labels)\n",
    "    \n",
    "    plt.title('Hand Gesture Recognition - Confusion Matrix')\n",
    "    plt.xlabel('Predicted Label')\n",
    "    plt.ylabel('True Label')\n",
    "    plt.show()\n",
    "    \n",
    "    # Print classification report\n",
    "    print(\"\\nClassification Report:\")\n",
    "    print(classification_report(y_test, y_pred_classes, labels=class_indices, target_names=labels))\n",
    "\n",
    "# Generate and display confusion matrix\n",
    "visualize_results(model, X_test, y_test)"
   ]
  },
  {
   "cell_type": "code",
   "execution_count": 16,
   "metadata": {},
   "outputs": [
    {
     "name": "stdout",
     "output_type": "stream",
     "text": [
      "81/81 [==============================] - 0s 1ms/step\n"
     ]
    }
   ],
   "source": [
    "# Save visualization results\n",
    "def save_results(model, X_test, y_test, save_path='model/evaluation/'):\n",
    "    import os\n",
    "    \n",
    "    # Create directory if it doesn't exist\n",
    "    os.makedirs(save_path, exist_ok=True)\n",
    "    \n",
    "    # Generate predictions\n",
    "    y_pred = model.predict(X_test)\n",
    "    y_pred_classes = np.argmax(y_pred, axis=1)\n",
    "    \n",
    "    # Load labels\n",
    "    labels = []\n",
    "    with open('model/keypoint_classifier/keypoint_classifier_label.csv', \n",
    "              encoding='utf-8-sig') as f:\n",
    "        for row in csv.reader(f):\n",
    "            labels.append(row[0])\n",
    "    \n",
    "    # Use all class indices for consistent labeling\n",
    "    class_indices = list(range(len(labels)))\n",
    "    \n",
    "    # Create and save confusion matrix\n",
    "    cm = confusion_matrix(y_test, y_pred_classes, labels=class_indices)\n",
    "    plt.figure(figsize=(12, 8))\n",
    "    sns.heatmap(cm, \n",
    "                annot=True, \n",
    "                fmt='d', \n",
    "                cmap='Blues',\n",
    "                xticklabels=labels,\n",
    "                yticklabels=labels)\n",
    "    \n",
    "    plt.title('Hand Gesture Recognition - Confusion Matrix')\n",
    "    plt.xlabel('Predicted Label')\n",
    "    plt.ylabel('True Label')\n",
    "    plt.savefig(os.path.join(save_path, 'confusion_matrix.png'), \n",
    "                bbox_inches='tight', \n",
    "                dpi=300)\n",
    "    plt.close()\n",
    "    \n",
    "    # Save classification report\n",
    "    with open(os.path.join(save_path, 'classification_report.txt'), 'w') as f:\n",
    "        f.write(\"Classification Report:\\n\")\n",
    "        f.write(classification_report(y_test, y_pred_classes, labels=class_indices, target_names=labels))\n",
    "\n",
    "# Save the results\n",
    "save_results(model, X_test, y_test)"
   ]
  },
  {
   "cell_type": "code",
   "execution_count": 17,
   "metadata": {
    "execution": {
     "iopub.execute_input": "2025-05-04T08:04:15.410547Z",
     "iopub.status.busy": "2025-05-04T08:04:15.409519Z",
     "iopub.status.idle": "2025-05-04T08:04:15.617854Z",
     "shell.execute_reply": "2025-05-04T08:04:15.617854Z"
    }
   },
   "outputs": [],
   "source": [
    "# Loading a saved model\n",
    "model = tf.keras.models.load_model(model_save_path)"
   ]
  },
  {
   "cell_type": "code",
   "execution_count": 18,
   "metadata": {
    "execution": {
     "iopub.execute_input": "2025-05-04T08:04:15.618864Z",
     "iopub.status.busy": "2025-05-04T08:04:15.618864Z",
     "iopub.status.idle": "2025-05-04T08:04:15.753171Z",
     "shell.execute_reply": "2025-05-04T08:04:15.752661Z"
    }
   },
   "outputs": [
    {
     "name": "stdout",
     "output_type": "stream",
     "text": [
      "1/1 [==============================] - 0s 68ms/step\n",
      "[1.4097854e-03 5.1428550e-01 3.4457660e-01 4.6667352e-02 7.2518094e-03\n",
      " 6.0767870e-02 2.5029924e-02 5.4258558e-06 5.7136449e-06]\n",
      "1\n"
     ]
    }
   ],
   "source": [
    "# Reasoning test\n",
    "predict_result = model.predict(np.array([X_test[0]]))\n",
    "print(np.squeeze(predict_result))\n",
    "print(np.argmax(np.squeeze(predict_result)))"
   ]
  },
  {
   "cell_type": "markdown",
   "metadata": {},
   "source": [
    "# Mixed rows"
   ]
  },
  {
   "cell_type": "code",
   "execution_count": 19,
   "metadata": {
    "execution": {
     "iopub.execute_input": "2025-05-04T08:04:15.753171Z",
     "iopub.status.busy": "2025-05-04T08:04:15.753171Z",
     "iopub.status.idle": "2025-05-04T08:04:17.100265Z",
     "shell.execute_reply": "2025-05-04T08:04:17.098251Z"
    }
   },
   "outputs": [
    {
     "name": "stdout",
     "output_type": "stream",
     "text": [
      "81/81 [==============================] - 0s 1ms/step\n"
     ]
    },
    {
     "data": {
      "image/png": "[encoded data removed]",
      "text/plain": [
       "<Figure size 700x600 with 2 Axes>"
      ]
     },
     "metadata": {},
     "output_type": "display_data"
    },
    {
     "name": "stdout",
     "output_type": "stream",
     "text": [
      "Classification Report\n",
      "              precision    recall  f1-score   support\n",
      "\n",
      "           0       0.98      0.77      0.86       405\n",
      "           1       0.98      0.99      0.99       380\n",
      "           2       0.95      0.97      0.96       380\n",
      "           3       0.92      1.00      0.96       393\n",
      "           4       0.85      0.83      0.84       313\n",
      "           5       0.95      0.94      0.94       356\n",
      "           6       0.88      1.00      0.93       352\n",
      "\n",
      "    accuracy                           0.93      2579\n",
      "   macro avg       0.93      0.93      0.93      2579\n",
      "weighted avg       0.93      0.93      0.93      2579\n",
      "\n"
     ]
    }
   ],
   "source": [
    "import pandas as pd\n",
    "import seaborn as sns\n",
    "import matplotlib.pyplot as plt\n",
    "from sklearn.metrics import confusion_matrix, classification_report\n",
    "\n",
    "def print_confusion_matrix(y_true, y_pred, report=True):\n",
    "    labels = sorted(list(set(y_true)))\n",
    "    cmx_data = confusion_matrix(y_true, y_pred, labels=labels)\n",
    "    \n",
    "    df_cmx = pd.DataFrame(cmx_data, index=labels, columns=labels)\n",
    " \n",
    "    fig, ax = plt.subplots(figsize=(7, 6))\n",
    "    sns.heatmap(df_cmx, annot=True, fmt='g' ,square=False)\n",
    "    ax.set_ylim(len(set(y_true)), 0)\n",
    "    plt.show()\n",
    "    \n",
    "    if report:\n",
    "        print('Classification Report')\n",
    "        print(classification_report(y_test, y_pred))\n",
    "\n",
    "Y_pred = model.predict(X_test)\n",
    "y_pred = np.argmax(Y_pred, axis=1)\n",
    "\n",
    "print_confusion_matrix(y_test, y_pred)"
   ]
  },
  {
   "cell_type": "code",
   "execution_count": 20,
   "metadata": {},
   "outputs": [
    {
     "name": "stdout",
     "output_type": "stream",
     "text": [
      "81/81 [==============================] - 0s 1ms/step\n"
     ]
    }
   ],
   "source": [
    "def analyze_misclassifications(y_true, y_pred, save_dir='model/evaluation/'):\n",
    "    \"\"\"Analyze and display misclassifications with saved visualizations\"\"\"\n",
    "    import os\n",
    "    \n",
    "    # Create directory if it doesn't exist\n",
    "    os.makedirs(save_dir, exist_ok=True)\n",
    "    \n",
    "    # Load gesture labels\n",
    "    labels = []\n",
    "    with open('model/keypoint_classifier/keypoint_classifier_label.csv', \n",
    "              encoding='utf-8-sig') as f:\n",
    "        for row in csv.reader(f):\n",
    "            labels.append(row[0])\n",
    "    \n",
    "    # Create misclassification matrix\n",
    "    misclass_matrix = np.zeros((len(labels), len(labels)))\n",
    "    for true_idx, pred_idx in zip(y_true, y_pred):\n",
    "        if true_idx != pred_idx:\n",
    "            misclass_matrix[true_idx][pred_idx] += 1\n",
    "    \n",
    "    # Create DataFrame\n",
    "    df_misclass = pd.DataFrame(\n",
    "        misclass_matrix,\n",
    "        index=labels,\n",
    "        columns=labels\n",
    "    )\n",
    "    \n",
    "    # Save heatmap visualization\n",
    "    plt.figure(figsize=(12, 8))\n",
    "    sns.heatmap(df_misclass, \n",
    "                annot=True,\n",
    "                fmt='g',\n",
    "                cmap='Blues',\n",
    "                xticklabels=labels,\n",
    "                yticklabels=labels)\n",
    "    \n",
    "    plt.title('Hand Gesture Misclassifications')\n",
    "    plt.xlabel('Predicted Label')\n",
    "    plt.ylabel('True Label')\n",
    "    plt.tight_layout()\n",
    "    \n",
    "    # Save heatmap\n",
    "    plt.savefig(os.path.join(save_dir, 'misclassification_matrix.png'), dpi=300, bbox_inches='tight')\n",
    "    plt.close()\n",
    "    \n",
    "    # Create bar plot\n",
    "    plt.figure(figsize=(12, 6))\n",
    "    misclass_counts = [(i, j, misclass_matrix[i][j]) \n",
    "                      for i in range(len(labels)) \n",
    "                      for j in range(len(labels)) \n",
    "                      if i != j and misclass_matrix[i][j] > 0]\n",
    "    \n",
    "    # Sort by count\n",
    "    misclass_counts.sort(key=lambda x: x[2], reverse=True)\n",
    "    \n",
    "    # Prepare data for bar plot\n",
    "    pairs = [f\"{labels[i]}->{labels[j]}\" for i, j, _ in misclass_counts]\n",
    "    counts = [count for _, _, count in misclass_counts]\n",
    "    \n",
    "    # Create bar plot\n",
    "    bars = plt.bar(pairs, counts)\n",
    "    plt.xticks(rotation=45, ha='right')\n",
    "    plt.title(\"Misclassification Distribution\")\n",
    "    plt.xlabel(\"True Label -> Predicted Label\")\n",
    "    plt.ylabel(\"Count\")\n",
    "    \n",
    "    # Add value labels\n",
    "    for bar in bars:\n",
    "        height = bar.get_height()\n",
    "        plt.text(bar.get_x() + bar.get_width()/2., height,\n",
    "                f'{int(height)}',\n",
    "                ha='center', va='bottom')\n",
    "    \n",
    "    plt.tight_layout()\n",
    "    \n",
    "    # Save bar plot\n",
    "    plt.savefig(os.path.join(save_dir, 'misclassification_distribution.png'), dpi=300, bbox_inches='tight')\n",
    "    plt.close()\n",
    "    \n",
    "    # Save numerical results to text file\n",
    "    with open(os.path.join(save_dir, 'misclassification_analysis.txt'), 'w') as f:\n",
    "        f.write(\"=== Misclassification Analysis ===\\n\\n\")\n",
    "        f.write(\"True Label\\tPredicted as\\tCount\\n\")\n",
    "        f.write(\"-\" * 40 + \"\\n\")\n",
    "        for i, j, count in misclass_counts:\n",
    "            f.write(f\"{labels[i]}\\t\\t{labels[j]}\\t\\t{int(count)}\\n\")\n",
    "\n",
    "# Run the analysis\n",
    "Y_pred = model.predict(X_test)\n",
    "y_pred = np.argmax(Y_pred, axis=1)\n",
    "analyze_misclassifications(y_test, y_pred)"
   ]
  },
  {
   "cell_type": "code",
   "execution_count": 21,
   "metadata": {},
   "outputs": [
    {
     "name": "stdout",
     "output_type": "stream",
     "text": [
      "81/81 [==============================] - 0s 1ms/step\n",
      "\n",
      "Class Distribution Analysis:\n",
      "--------------------------------------------------\n",
      "Class 'Five':\n",
      "  True samples: 405\n",
      "  Predicted samples: 318\n",
      "------------------------------\n",
      "Class 'One':\n",
      "  True samples: 380\n",
      "  Predicted samples: 387\n",
      "------------------------------\n",
      "Class 'Two':\n",
      "  True samples: 380\n",
      "  Predicted samples: 390\n",
      "------------------------------\n",
      "Class 'Three':\n",
      "  True samples: 393\n",
      "  Predicted samples: 427\n",
      "------------------------------\n",
      "Class 'Four':\n",
      "  True samples: 313\n",
      "  Predicted samples: 307\n",
      "------------------------------\n",
      "Class 'Six':\n",
      "  True samples: 356\n",
      "  Predicted samples: 350\n",
      "------------------------------\n",
      "Class 'Seven':\n",
      "  True samples: 352\n",
      "  Predicted samples: 400\n",
      "------------------------------\n"
     ]
    }
   ],
   "source": [
    "# Add after the visualize_results and save_results functions, before TF Lite conversion\n",
    "def analyze_class_distribution(y_true, y_pred, labels):\n",
    "    \"\"\"Analyze the distribution of classes in true and predicted data\"\"\"\n",
    "    print(\"\\nClass Distribution Analysis:\")\n",
    "    print(\"-\" * 50)\n",
    "    \n",
    "    for i, label in enumerate(labels):\n",
    "        true_count = np.sum(y_true == i)\n",
    "        pred_count = np.sum(y_pred == i)\n",
    "        print(f\"Class '{label}':\")\n",
    "        print(f\"  True samples: {true_count}\")\n",
    "        print(f\"  Predicted samples: {pred_count}\")\n",
    "        print(\"-\" * 30)\n",
    "\n",
    "# Run the analysis after model predictions\n",
    "Y_pred = model.predict(X_test)\n",
    "y_pred_classes = np.argmax(Y_pred, axis=1)\n",
    "\n",
    "# Load labels\n",
    "labels = []\n",
    "with open('model/keypoint_classifier/keypoint_classifier_label.csv', \n",
    "          encoding='utf-8-sig') as f:\n",
    "    for row in csv.reader(f):\n",
    "        labels.append(row[0])\n",
    "\n",
    "# Analyze class distribution\n",
    "analyze_class_distribution(y_test, y_pred_classes, labels)"
   ]
  },
  {
   "cell_type": "code",
   "execution_count": 22,
   "metadata": {},
   "outputs": [
    {
     "name": "stdout",
     "output_type": "stream",
     "text": [
      "81/81 [==============================] - 0s 1ms/step\n"
     ]
    },
    {
     "data": {
      "image/png": "[encoded data removed]",
      "text/plain": [
       "<Figure size 1500x600 with 2 Axes>"
      ]
     },
     "metadata": {},
     "output_type": "display_data"
    },
    {
     "name": "stdout",
     "output_type": "stream",
     "text": [
      "\n",
      "Confidence Score Statistics:\n",
      "--------------------------------------------------\n",
      "\n",
      "Class: Five\n",
      "  Average confidence: 0.737\n",
      "  Min confidence: 0.230\n",
      "  Max confidence: 1.000\n",
      "  Std deviation: 0.187\n",
      "\n",
      "Class: One\n",
      "  Average confidence: 0.638\n",
      "  Min confidence: 0.454\n",
      "  Max confidence: 0.836\n",
      "  Std deviation: 0.102\n",
      "\n",
      "Class: Two\n",
      "  Average confidence: 0.607\n",
      "  Min confidence: 0.375\n",
      "  Max confidence: 0.902\n",
      "  Std deviation: 0.086\n",
      "\n",
      "Class: Three\n",
      "  Average confidence: 0.790\n",
      "  Min confidence: 0.363\n",
      "  Max confidence: 0.960\n",
      "  Std deviation: 0.134\n",
      "\n",
      "Class: Four\n",
      "  Average confidence: 0.639\n",
      "  Min confidence: 0.225\n",
      "  Max confidence: 0.886\n",
      "  Std deviation: 0.145\n",
      "\n",
      "Class: Six\n",
      "  Average confidence: 0.756\n",
      "  Min confidence: 0.335\n",
      "  Max confidence: 0.953\n",
      "  Std deviation: 0.166\n",
      "\n",
      "Class: Seven\n",
      "  Average confidence: 0.645\n",
      "  Min confidence: 0.308\n",
      "  Max confidence: 0.811\n",
      "  Std deviation: 0.099\n"
     ]
    }
   ],
   "source": [
    "# Add this function after your existing visualization functions\n",
    "def visualize_confidence_scores(model, X_test, y_test, labels, save_path='model/evaluation/'):\n",
    "    \"\"\"Visualize prediction confidence scores with charts\"\"\"\n",
    "    import os\n",
    "    \n",
    "    # Get model predictions and confidence scores\n",
    "    predictions = model.predict(X_test)\n",
    "    y_pred = np.argmax(predictions, axis=1)\n",
    "    \n",
    "    # Create figure for confidence visualization\n",
    "    plt.figure(figsize=(15, 6))\n",
    "    \n",
    "    # 1. Bar chart of average confidence per class\n",
    "    plt.subplot(1, 2, 1)\n",
    "    avg_confidence = []\n",
    "    for i in range(len(labels)):\n",
    "        mask = y_test == i\n",
    "        if np.any(mask):\n",
    "            class_confidence = predictions[mask].max(axis=1)\n",
    "            avg_confidence.append(np.mean(class_confidence))\n",
    "        else:\n",
    "            avg_confidence.append(0)\n",
    "    \n",
    "    bars = plt.bar(labels, avg_confidence)\n",
    "    plt.title('Average Confidence Score per Class')\n",
    "    plt.xlabel('Gesture Class')\n",
    "    plt.ylabel('Confidence Score')\n",
    "    plt.xticks(rotation=45)\n",
    "    \n",
    "    # Add value labels on bars\n",
    "    for bar in bars:\n",
    "        height = bar.get_height()\n",
    "        plt.text(bar.get_x() + bar.get_width()/2., height,\n",
    "                f'{height:.2f}',\n",
    "                ha='center', va='bottom')\n",
    "    \n",
    "    # 2. Confidence distribution violin plot\n",
    "    plt.subplot(1, 2, 2)\n",
    "    confidence_data = []\n",
    "    for i in range(len(labels)):\n",
    "        mask = y_test == i\n",
    "        if np.any(mask):\n",
    "            class_confidence = predictions[mask].max(axis=1)\n",
    "            confidence_data.append(class_confidence)\n",
    "        else:\n",
    "            confidence_data.append([])\n",
    "    \n",
    "    violin_parts = plt.violinplot(confidence_data)\n",
    "    plt.title('Confidence Score Distribution')\n",
    "    plt.xlabel('Gesture Class')\n",
    "    plt.ylabel('Confidence Score')\n",
    "    plt.xticks(range(1, len(labels) + 1), labels, rotation=45)\n",
    "    \n",
    "    # Adjust layout and save\n",
    "    plt.tight_layout()\n",
    "    \n",
    "    # Save plot if save_path provided\n",
    "    if save_path:\n",
    "        os.makedirs(save_path, exist_ok=True)\n",
    "        plt.savefig(os.path.join(save_path, 'confidence_analysis.png'), \n",
    "                    bbox_inches='tight', dpi=300)\n",
    "    \n",
    "    plt.show()\n",
    "    \n",
    "    # Print detailed confidence statistics\n",
    "    print(\"\\nConfidence Score Statistics:\")\n",
    "    print(\"-\" * 50)\n",
    "    for i, label in enumerate(labels):\n",
    "        mask = y_test == i\n",
    "        if np.any(mask):\n",
    "            conf_scores = predictions[mask].max(axis=1)\n",
    "            print(f\"\\nClass: {label}\")\n",
    "            print(f\"  Average confidence: {np.mean(conf_scores):.3f}\")\n",
    "            print(f\"  Min confidence: {np.min(conf_scores):.3f}\")\n",
    "            print(f\"  Max confidence: {np.max(conf_scores):.3f}\")\n",
    "            print(f\"  Std deviation: {np.std(conf_scores):.3f}\")\n",
    "\n",
    "# Add this code after model evaluation\n",
    "# Load labels if not already loaded\n",
    "labels = []\n",
    "with open('model/keypoint_classifier/keypoint_classifier_label.csv', \n",
    "          encoding='utf-8-sig') as f:\n",
    "    for row in csv.reader(f):\n",
    "        labels.append(row[0])\n",
    "\n",
    "# Generate confidence visualization\n",
    "visualize_confidence_scores(model, X_test, y_test, labels)"
   ]
  },
  {
   "cell_type": "markdown",
   "metadata": {},
   "source": [
    "# Tensorflow-Lite Convert to a model for"
   ]
  },
  {
   "cell_type": "code",
   "execution_count": 23,
   "metadata": {
    "execution": {
     "iopub.execute_input": "2025-05-04T08:04:17.108068Z",
     "iopub.status.busy": "2025-05-04T08:04:17.106051Z",
     "iopub.status.idle": "2025-05-04T08:04:17.183804Z",
     "shell.execute_reply": "2025-05-04T08:04:17.183804Z"
    }
   },
   "outputs": [],
   "source": [
    "# Save as an inference-only model\n",
    "model.save(model_save_path, include_optimizer=False)"
   ]
  },
  {
   "cell_type": "code",
   "execution_count": 24,
   "metadata": {
    "execution": {
     "iopub.execute_input": "2025-05-04T08:04:17.192901Z",
     "iopub.status.busy": "2025-05-04T08:04:17.192901Z",
     "iopub.status.idle": "2025-05-04T08:04:18.198858Z",
     "shell.execute_reply": "2025-05-04T08:04:18.197336Z"
    }
   },
   "outputs": [
    {
     "name": "stderr",
     "output_type": "stream",
     "text": [
      "WARNING:absl:Found untraced functions such as _update_step_xla while saving (showing 1 of 1). These functions will not be directly callable after loading.\n"
     ]
    },
    {
     "name": "stdout",
     "output_type": "stream",
     "text": [
      "INFO:tensorflow:Assets written to: C:\\Users\\Abhis\\AppData\\Local\\Temp\\tmp39z520pt\\assets\n"
     ]
    },
    {
     "name": "stderr",
     "output_type": "stream",
     "text": [
      "INFO:tensorflow:Assets written to: C:\\Users\\Abhis\\AppData\\Local\\Temp\\tmp39z520pt\\assets\n"
     ]
    },
    {
     "data": {
      "text/plain": [
       "6792"
      ]
     },
     "execution_count": 24,
     "metadata": {},
     "output_type": "execute_result"
    }
   ],
   "source": [
    "# Transform the model (quantize it)\n",
    "tflite_save_path = 'model/keypoint_classifier/keypoint_classifier.tflite'\n",
    "\n",
    "converter = tf.lite.TFLiteConverter.from_keras_model(model)\n",
    "converter.optimizations = [tf.lite.Optimize.DEFAULT]\n",
    "tflite_quantized_model = converter.convert()\n",
    "\n",
    "open(tflite_save_path, 'wb').write(tflite_quantized_model)"
   ]
  },
  {
   "cell_type": "markdown",
   "metadata": {},
   "source": [
    "# Reasoning test"
   ]
  },
  {
   "cell_type": "code",
   "execution_count": 25,
   "metadata": {
    "execution": {
     "iopub.execute_input": "2025-05-04T08:04:18.203393Z",
     "iopub.status.busy": "2025-05-04T08:04:18.203393Z",
     "iopub.status.idle": "2025-05-04T08:04:18.225795Z",
     "shell.execute_reply": "2025-05-04T08:04:18.224771Z"
    }
   },
   "outputs": [],
   "source": [
    "interpreter = tf.lite.Interpreter(model_path=tflite_save_path)\n",
    "interpreter.allocate_tensors()"
   ]
  },
  {
   "cell_type": "code",
   "execution_count": 26,
   "metadata": {
    "execution": {
     "iopub.execute_input": "2025-05-04T08:04:18.230799Z",
     "iopub.status.busy": "2025-05-04T08:04:18.230799Z",
     "iopub.status.idle": "2025-05-04T08:04:18.239087Z",
     "shell.execute_reply": "2025-05-04T08:04:18.236721Z"
    }
   },
   "outputs": [],
   "source": [
    "# Get input/output tensors\n",
    "input_details = interpreter.get_input_details()\n",
    "output_details = interpreter.get_output_details()"
   ]
  },
  {
   "cell_type": "code",
   "execution_count": 27,
   "metadata": {
    "execution": {
     "iopub.execute_input": "2025-05-04T08:04:18.243907Z",
     "iopub.status.busy": "2025-05-04T08:04:18.243907Z",
     "iopub.status.idle": "2025-05-04T08:04:18.252552Z",
     "shell.execute_reply": "2025-05-04T08:04:18.250088Z"
    }
   },
   "outputs": [],
   "source": [
    "interpreter.set_tensor(input_details[0]['index'], np.array([X_test[0]]))"
   ]
  },
  {
   "cell_type": "code",
   "execution_count": 28,
   "metadata": {
    "execution": {
     "iopub.execute_input": "2025-05-04T08:04:18.258704Z",
     "iopub.status.busy": "2025-05-04T08:04:18.257697Z",
     "iopub.status.idle": "2025-05-04T08:04:18.269104Z",
     "shell.execute_reply": "2025-05-04T08:04:18.267709Z"
    },
    "scrolled": true
   },
   "outputs": [
    {
     "name": "stdout",
     "output_type": "stream",
     "text": [
      "CPU times: total: 0 ns\n",
      "Wall time: 2 ms\n"
     ]
    }
   ],
   "source": [
    "%%time\n",
    "# Inference implementation\n",
    "interpreter.invoke()\n",
    "tflite_results = interpreter.get_tensor(output_details[0]['index'])"
   ]
  },
  {
   "cell_type": "code",
   "execution_count": 29,
   "metadata": {
    "execution": {
     "iopub.execute_input": "2025-05-04T08:04:18.274669Z",
     "iopub.status.busy": "2025-05-04T08:04:18.273191Z",
     "iopub.status.idle": "2025-05-04T08:04:18.284947Z",
     "shell.execute_reply": "2025-05-04T08:04:18.283411Z"
    }
   },
   "outputs": [
    {
     "name": "stdout",
     "output_type": "stream",
     "text": [
      "[1.4097858e-03 5.1428545e-01 3.4457660e-01 4.6667363e-02 7.2518080e-03\n",
      " 6.0767878e-02 2.5029926e-02 5.4258603e-06 5.7136390e-06]\n",
      "1\n"
     ]
    }
   ],
   "source": [
    "print(np.squeeze(tflite_results))\n",
    "print(np.argmax(np.squeeze(tflite_results)))"
   ]
  },
  {
   "cell_type": "code",
   "execution_count": 30,
   "metadata": {},
   "outputs": [],
   "source": [
    "def benchmark_model(model, X_test):\n",
    "    \"\"\"Measure model performance metrics\"\"\"\n",
    "    import time\n",
    "    \n",
    "    # Warm-up run\n",
    "    model.predict(X_test[:1])\n",
    "    \n",
    "    # Measure inference time\n",
    "    start_time = time.time()\n",
    "    predictions = model.predict(X_test)\n",
    "    end_time = time.time()\n",
    "    \n",
    "    avg_inference_time = (end_time - start_time) / len(X_test) * 1000  # ms\n",
    "    \n",
    "    print(\"\\nModel Performance Metrics:\")\n",
    "    print(\"-\" * 50)\n",
    "    print(f\"Average Inference Time: {avg_inference_time:.2f} ms\")\n",
    "    print(f\"Model Size: {os.path.getsize('model/keypoint_classifier/keypoint_classifier.keras')/1024:.2f} KB\")\n",
    "    print(f\"Input Shape: {model.input_shape}\")\n",
    "    print(f\"Number of Parameters: {model.count_params():,}\")"
   ]
  }
 ],
 "metadata": {
  "kernelspec": {
   "display_name": "Python 3",
   "language": "python",
   "name": "python3"
  },
  "language_info": {
   "codemirror_mode": {
    "name": "ipython",
    "version": 3
   },
   "file_extension": ".py",
   "mimetype": "text/x-python",
   "name": "python",
   "nbconvert_exporter": "python",
   "pygments_lexer": "ipython3",
   "version": "3.8.10"
  }
 },
 "nbformat": 4,
 "nbformat_minor": 4
}
